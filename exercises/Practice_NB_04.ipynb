{
 "cells": [
  {
   "cell_type": "markdown",
   "id": "7468fd33",
   "metadata": {},
   "source": [
    "In this notebook, you'll combine the data you extracted last week with data showing the count of COVID cases by zip code."
   ]
  },
  {
   "cell_type": "code",
   "execution_count": null,
   "id": "2b8a680c",
   "metadata": {},
   "outputs": [],
   "source": [
    "import pandas as pd\n",
    "from sqlalchemy import create_engine\n",
    "import matplotlib.pyplot as plt\n",
    "import seaborn as sns"
   ]
  },
  {
   "cell_type": "markdown",
   "id": "29b80ab1",
   "metadata": {},
   "source": [
    "First, import the vaccines data (contained in the file `COVID_CountByZipPerDate 03292021.csv` in the `data` folder. Save it in a DataFrame named `cases`."
   ]
  },
  {
   "cell_type": "code",
   "execution_count": null,
   "id": "ffc20155",
   "metadata": {},
   "outputs": [],
   "source": [
    "# Your Code Here"
   ]
  },
  {
   "cell_type": "markdown",
   "id": "93f20671",
   "metadata": {},
   "source": [
    "Take a look at this DataFrame so that you have an understanding of how it is structured."
   ]
  },
  {
   "cell_type": "code",
   "execution_count": null,
   "id": "e7e210ca",
   "metadata": {},
   "outputs": [],
   "source": [
    "cases"
   ]
  },
  {
   "cell_type": "markdown",
   "id": "2544452e",
   "metadata": {},
   "source": [
    "Aggregate the cases per zip code to get a total (cumulative) count of cases per zip code. Convert the result to a DataFrame named `total_cases`."
   ]
  },
  {
   "cell_type": "code",
   "execution_count": null,
   "id": "fdb0e8fe",
   "metadata": {},
   "outputs": [],
   "source": [
    "# Your Code Here"
   ]
  },
  {
   "cell_type": "markdown",
   "id": "dc37f6a0",
   "metadata": {},
   "source": [
    "Create a plot showing the number of cases per zip code. Which zip code has the highest total number of cases?"
   ]
  },
  {
   "cell_type": "code",
   "execution_count": null,
   "id": "83a3a96a",
   "metadata": {},
   "outputs": [],
   "source": [
    "# Your Code Here"
   ]
  },
  {
   "cell_type": "markdown",
   "id": "8dff1632",
   "metadata": {},
   "source": [
    "Now we're going to incorporate some data retrieved from the census.\n",
    "\n",
    "First, use the `create_engine()` function to connect to the database (`census_data.sqlite`, which is in the data folder)."
   ]
  },
  {
   "cell_type": "code",
   "execution_count": null,
   "id": "a36315d9",
   "metadata": {},
   "outputs": [],
   "source": [
    "# Your Code Here"
   ]
  },
  {
   "cell_type": "markdown",
   "id": "5c0a3cba",
   "metadata": {},
   "source": [
    "To see all tables contained in this database, you can run the following cell."
   ]
  },
  {
   "cell_type": "code",
   "execution_count": null,
   "id": "abe68079",
   "metadata": {},
   "outputs": [],
   "source": [
    "query = '''\n",
    "SELECT \n",
    "    name\n",
    "FROM \n",
    "    sqlite_master \n",
    "WHERE \n",
    "    type ='table' AND \n",
    "    name NOT LIKE 'sqlite_%';\n",
    "'''\n",
    "\n",
    "engine.execute(query).fetchall()"
   ]
  },
  {
   "cell_type": "markdown",
   "id": "aeed129b",
   "metadata": {},
   "source": [
    "We are going go look specifically at the race and the hhinc (household income) tables."
   ]
  },
  {
   "cell_type": "markdown",
   "id": "b96aecad",
   "metadata": {},
   "source": [
    "[Studies](https://www.ama-assn.org/delivering-care/health-equity/data-10-cities-show-covid-19-impact-based-poverty-race) have seen higher rates of infection and death from COVID-19 in more racially diverse counties compared to those which are substantially white with the same income level.\n",
    "\n",
    "Eventually, we'll compare infection rates for majority white vs. majority non-white zipcodes in Davidson County. For now, let's just identify which zip codes are majority white.\n",
    "\n",
    "**Step 1:** Write a query to retrieve all rows from the race table. Run this query and save the results into a pandas DataFrame named `race`."
   ]
  },
  {
   "cell_type": "code",
   "execution_count": null,
   "id": "f1001848",
   "metadata": {},
   "outputs": [],
   "source": [
    "query = '''\n",
    "# Fill this in\n",
    "'''"
   ]
  },
  {
   "cell_type": "code",
   "execution_count": null,
   "id": "11dca819",
   "metadata": {},
   "outputs": [],
   "source": [
    "race = pd.read_sql(query, con = engine)"
   ]
  },
  {
   "cell_type": "markdown",
   "id": "f219f5c8",
   "metadata": {},
   "source": [
    "**Step 2:** Create a column named `pct_white` by dividing the `Not Hispanic or Latino_White alone` column by the `Total` column."
   ]
  },
  {
   "cell_type": "code",
   "execution_count": null,
   "id": "67bbe8f3",
   "metadata": {},
   "outputs": [],
   "source": [
    "# Your Code Here"
   ]
  },
  {
   "cell_type": "markdown",
   "id": "bde92145",
   "metadata": {},
   "source": [
    "**Question:** How many zip codes in this table are majority white (meaning `pct_white` is at least 0.5)?"
   ]
  },
  {
   "cell_type": "code",
   "execution_count": null,
   "id": "9c0b0012",
   "metadata": {},
   "outputs": [],
   "source": [
    "# Your Code Here"
   ]
  },
  {
   "cell_type": "markdown",
   "id": "daa6d91e",
   "metadata": {},
   "source": [
    "[Other recent studies](https://jamanetwork.com/journals/jamanetworkopen/fullarticle/2779417) have looked at the relationship between the level of income inequality in an area and the number of COVID-19 infections. \n",
    "\n",
    "According to [Census Reporter](https://censusreporter.org/profiles/05000US47037-davidson-county-tn/) the median household income in Davidson County is $63,938.\n",
    "\n",
    "Let's now identify which zip codes in Davidson County have a household income less than $60,000."
   ]
  },
  {
   "cell_type": "markdown",
   "id": "0e1a371c",
   "metadata": {},
   "source": [
    "**Step 1:** Write and run a query to fetch all rows from the `hhinc` table. Save the results into a DataFrame named `hhinc`."
   ]
  },
  {
   "cell_type": "code",
   "execution_count": null,
   "id": "0b8c5b69",
   "metadata": {},
   "outputs": [],
   "source": [
    "query = '''\n",
    "# Fill This In\n",
    "'''\n",
    "\n",
    "hhinc = pd.read_sql(query, con = engine)"
   ]
  },
  {
   "cell_type": "code",
   "execution_count": null,
   "id": "0356a245",
   "metadata": {},
   "outputs": [],
   "source": [
    "hhinc.head()"
   ]
  },
  {
   "cell_type": "code",
   "execution_count": null,
   "id": "6ee411e0",
   "metadata": {},
   "outputs": [],
   "source": [
    "hhinc.columns"
   ]
  },
  {
   "cell_type": "markdown",
   "id": "b683a56f",
   "metadata": {},
   "source": [
    "We will identify the zip codes that have median incomes less than $60,000 using the following procedure:\n",
    "\n",
    "1. Get a total count for all income levels from \"Less than \\\\$10,000\" through \"\\\\$50,000 to \\\\$59,999\".\n",
    "\n",
    "2. Use this count to get a percentage of households in that zip code whose income is less than \\\\$60,000.\n",
    "\n",
    "3. Identify zip codes for which this percentage is at least 50%."
   ]
  },
  {
   "cell_type": "markdown",
   "id": "330853b2",
   "metadata": {},
   "source": [
    "For the first step, we can use the `.sum()` method.\n",
    "\n",
    "By default, `pandas` will sum up the columns. However, we can change this behavior by using the `axis` argument of the `.sum()`. method. The argument `axis = 1` indicates to pandas that we want to sum along the rows.\n",
    "\n",
    "Once you are satisfied that the calculation is being done correctly, save the result back to a column named \"Total_less_than_60000\"."
   ]
  },
  {
   "cell_type": "code",
   "execution_count": null,
   "id": "5e1d0f17",
   "metadata": {},
   "outputs": [],
   "source": [
    "hhinc[['Less than $10,000', '$10,000 to $14,999',\n",
    "       '$15,000 to $19,999', '$20,000 to $24,999', '$25,000 to $29,999',\n",
    "       '$30,000 to $34,999', '$35,000 to $39,999', '$40,000 to $44,999',\n",
    "       '$45,000 to $49,999', '$50,000 to $59,999']].# Fill this part in"
   ]
  },
  {
   "cell_type": "markdown",
   "id": "2987667c",
   "metadata": {},
   "source": [
    "Now, create a new column named \"pct_less_than_60000\" by dividing the newly-created column by the \"Total:\" column."
   ]
  },
  {
   "cell_type": "code",
   "execution_count": null,
   "id": "a3a64156",
   "metadata": {},
   "outputs": [],
   "source": [
    "# Your Code Here"
   ]
  },
  {
   "cell_type": "markdown",
   "id": "79e082dd",
   "metadata": {},
   "source": [
    "Finally, create a columns `low_income` that indicates whether a zip code has a median income less than 60000 (that is, if the `pct_less_than_60000` is greater than 0.5)."
   ]
  },
  {
   "cell_type": "code",
   "execution_count": null,
   "id": "f69f5846",
   "metadata": {},
   "outputs": [],
   "source": [
    "# Your Code Here"
   ]
  },
  {
   "cell_type": "markdown",
   "id": "aeecad83",
   "metadata": {},
   "source": [
    "We don't need all of the columns from these two dataframes. Slice `race` so that it only includes the 'geoid', 'zip', 'Total', and 'pct_white' columns and `hhinc` so that it only includes 'geoid', 'zip', and 'low_income'."
   ]
  },
  {
   "cell_type": "code",
   "execution_count": null,
   "id": "fcfe11ab",
   "metadata": {},
   "outputs": [],
   "source": [
    "# Your Code Here"
   ]
  },
  {
   "cell_type": "markdown",
   "id": "61013bb0",
   "metadata": {},
   "source": [
    "Prior to merging, it might make sense to rename the 'zip' columns in `race` and `hhinc` to `Zip` in order to match the column name in the `total_cases` DataFrame.\n",
    "\n",
    "Also, rename the 'Total' column in race to 'population'."
   ]
  },
  {
   "cell_type": "code",
   "execution_count": null,
   "id": "6215b182",
   "metadata": {},
   "outputs": [],
   "source": [
    "# Your Code Here"
   ]
  },
  {
   "cell_type": "markdown",
   "id": "151537ce",
   "metadata": {},
   "source": [
    "Do a series of two merges:\n",
    "\n",
    "First, merge the `total_cases` DataFrame and the `race` DataFrame together and save the result back to `total_cases`.\n",
    "\n",
    "Second, merge the `total_cases` DataFrame and the `hhinc` DataFrame together and save the result back to `total_cases`."
   ]
  },
  {
   "cell_type": "code",
   "execution_count": null,
   "id": "41e81c75",
   "metadata": {},
   "outputs": [],
   "source": [
    "# Your Code Here"
   ]
  },
  {
   "cell_type": "markdown",
   "id": "e6076072",
   "metadata": {},
   "source": [
    "Using the `Cases` and `population` columns, create a new calculated column, `cases_per_100000`."
   ]
  },
  {
   "cell_type": "code",
   "execution_count": null,
   "id": "f7aabfe7",
   "metadata": {},
   "outputs": [],
   "source": [
    "# Your Code Here"
   ]
  },
  {
   "cell_type": "markdown",
   "id": "5398612c",
   "metadata": {},
   "source": [
    "Create a bar plot to display this newly calculated column."
   ]
  },
  {
   "cell_type": "code",
   "execution_count": null,
   "id": "0322cc29",
   "metadata": {},
   "outputs": [],
   "source": [
    "# Your Code Here"
   ]
  },
  {
   "cell_type": "markdown",
   "id": "13c394a3",
   "metadata": {},
   "source": [
    "Look back at your `total_cases` DataFrame to investigate any zip codes with unusually high or low values. Why might these values be so high or low?"
   ]
  },
  {
   "cell_type": "code",
   "execution_count": null,
   "id": "91b7c6fd",
   "metadata": {},
   "outputs": [],
   "source": [
    "total_cases.sort_values('cases_per_100000')"
   ]
  },
  {
   "cell_type": "markdown",
   "id": "4bd29c7a",
   "metadata": {},
   "source": [
    "For the zip codes 37027, 37072, 37080, and 37138 at least 10% of the residents live outside of Davidson County. Remove the rows for these counties from the DataFrame.\n",
    "\n",
    "You can use the code in the following cell to accomplish this.\n",
    "\n",
    "We also want to remove any rows whose ZipCode is NaN, which can be accomplished with the code in this cell."
   ]
  },
  {
   "cell_type": "code",
   "execution_count": null,
   "id": "e2544d1d",
   "metadata": {},
   "outputs": [],
   "source": [
    "total_cases = total_cases[~total_cases['Zip'].isin([37027, 37072, 37080, 37138])]\n",
    "total_cases = total_cases[~total_cases['Zip'].isna()]"
   ]
  },
  {
   "cell_type": "markdown",
   "id": "a163dcd1",
   "metadata": {},
   "source": [
    "**Question:** Does there appear to be any difference in cases_per_100000 for zip codes identified as low_income vs. those that are not?"
   ]
  },
  {
   "cell_type": "code",
   "execution_count": null,
   "id": "298313fb",
   "metadata": {},
   "outputs": [],
   "source": [
    "# Your Code Here"
   ]
  },
  {
   "cell_type": "markdown",
   "id": "9af633bc",
   "metadata": {},
   "source": [
    "**Question:** Does there appear to be any relationship between a zip code's pct_white value and cases_per_100000 value?"
   ]
  },
  {
   "cell_type": "code",
   "execution_count": null,
   "id": "3a448799",
   "metadata": {},
   "outputs": [],
   "source": [
    "# Your Code Here"
   ]
  },
  {
   "cell_type": "markdown",
   "id": "921f44b0",
   "metadata": {},
   "source": [
    "Finally, we are going to be reusing the DataFrame that we have created in future weeks. To save your findings, you can use the `.to_csv()` method as the following cell shows. Run the following cell to save your work."
   ]
  },
  {
   "cell_type": "code",
   "execution_count": null,
   "id": "9b078c37",
   "metadata": {},
   "outputs": [],
   "source": [
    "total_cases.to_csv('../data/total_cases.csv', index = False)"
   ]
  }
 ],
 "metadata": {
  "kernelspec": {
   "display_name": "Python 3",
   "language": "python",
   "name": "python3"
  },
  "language_info": {
   "codemirror_mode": {
    "name": "ipython",
    "version": 3
   },
   "file_extension": ".py",
   "mimetype": "text/x-python",
   "name": "python",
   "nbconvert_exporter": "python",
   "pygments_lexer": "ipython3",
   "version": "3.8.3"
  }
 },
 "nbformat": 4,
 "nbformat_minor": 5
}
