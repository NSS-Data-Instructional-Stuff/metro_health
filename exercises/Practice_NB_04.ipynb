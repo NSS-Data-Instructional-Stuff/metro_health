{
 "cells": [
  {
   "cell_type": "markdown",
   "id": "c46228fa",
   "metadata": {},
   "source": [
    "In this notebook, you'll combine the data you extracted last week with data showing the count of COVID cases by zip code."
   ]
  },
  {
   "cell_type": "code",
   "execution_count": 115,
   "id": "2b8a680c",
   "metadata": {},
   "outputs": [],
   "source": [
    "import pandas as pd\n",
    "from sqlalchemy import create_engine\n",
    "import matplotlib.pyplot as plt\n",
    "import seaborn as sns"
   ]
  },
  {
   "cell_type": "markdown",
   "id": "29b80ab1",
   "metadata": {},
   "source": [
    "First, import the vaccines data (contained in the file `COVID_CountByZipPerDate 03292021.csv` in the `data` folder. Save it in a DataFrame named `cases`."
   ]
  },
  {
   "cell_type": "code",
   "execution_count": 120,
   "id": "175e4e22",
   "metadata": {},
   "outputs": [],
   "source": [
    "# Your Code Here"
   ]
  },
  {
   "cell_type": "markdown",
   "id": "93f20671",
   "metadata": {},
   "source": [
    "Take a look at this DataFrame so that you have an understanding of how it is structured."
   ]
  },
  {
   "cell_type": "markdown",
   "id": "2544452e",
   "metadata": {},
   "source": [
    "Aggregate the cases per zip code to get a total (cumulative) count of cases per zip code. Convert the result to a DataFrame named `total_cases`."
   ]
  },
  {
   "cell_type": "code",
   "execution_count": 119,
   "id": "99a85526",
   "metadata": {},
   "outputs": [],
   "source": [
    "# Your Code Here"
   ]
  },
  {
   "cell_type": "markdown",
   "id": "dc37f6a0",
   "metadata": {},
   "source": [
    "Create a plot showing the number of cases per zip code. Which zip code has the highest total number of cases?"
   ]
  },
  {
   "cell_type": "code",
   "execution_count": 121,
   "id": "e5cdcee8",
   "metadata": {},
   "outputs": [],
   "source": [
    "# Your Code Here"
   ]
  },
  {
   "cell_type": "markdown",
   "id": "8dff1632",
   "metadata": {},
   "source": [
    "Now we're going to incorporate some data retrieved from the census.\n",
    "\n",
    "We can reuse the code from last week to fetch and prepare the race and hhinc DataFrames."
   ]
  },
  {
   "cell_type": "code",
   "execution_count": 68,
   "id": "3048095d",
   "metadata": {},
   "outputs": [],
   "source": [
    "engine = create_engine('sqlite:///../data/census_data.sqlite')"
   ]
  },
  {
   "cell_type": "code",
   "execution_count": 69,
   "id": "c885414f",
   "metadata": {},
   "outputs": [],
   "source": [
    "query = '''\n",
    "SELECT *\n",
    "FROM race;\n",
    "'''\n",
    "\n",
    "race = pd.read_sql(query, con = engine)\n",
    "race['pct_white'] = race['Not Hispanic or Latino_White alone'] / race['Total']"
   ]
  },
  {
   "cell_type": "code",
   "execution_count": 70,
   "id": "aefe8522",
   "metadata": {},
   "outputs": [],
   "source": [
    "query = '''\n",
    "SELECT *\n",
    "FROM hhinc;\n",
    "'''\n",
    "\n",
    "hhinc = pd.read_sql(query, con = engine)\n",
    "\n",
    "hhinc['Total_less_than_60000'] = hhinc[['Less than $10,000', '$10,000 to $14,999',\n",
    "       '$15,000 to $19,999', '$20,000 to $24,999', '$25,000 to $29,999',\n",
    "       '$30,000 to $34,999', '$35,000 to $39,999', '$40,000 to $44,999',\n",
    "       '$45,000 to $49,999', '$50,000 to $59,999']].sum(axis = 1)\n",
    "\n",
    "hhinc['pct_less_than_60000'] = hhinc['Total_less_than_60000'] / hhinc['Total:']\n",
    "\n",
    "hhinc['low_income'] = hhinc['pct_less_than_60000'] >= 0.5"
   ]
  },
  {
   "cell_type": "markdown",
   "id": "14b47865",
   "metadata": {},
   "source": [
    "We don't need all of the columns from these two dataframes. Slice `race` so that it only includes the 'geoid', 'zip', 'Total', and 'pct_white' columns and `hhinc` so that it only includes 'geoid', 'zip', and 'low_income'."
   ]
  },
  {
   "cell_type": "code",
   "execution_count": 71,
   "id": "a1e51864",
   "metadata": {},
   "outputs": [],
   "source": [
    "# Your Code Here"
   ]
  },
  {
   "cell_type": "markdown",
   "id": "61013bb0",
   "metadata": {},
   "source": [
    "Prior to merging, it might make sense to rename the 'zip' columns in `race` and `hhinc` to `Zip` in order to match the column name in the `total_cases` DataFrame.\n",
    "\n",
    "Also, rename the 'Total' column in race to 'population'."
   ]
  },
  {
   "cell_type": "code",
   "execution_count": 122,
   "id": "a190a6f9",
   "metadata": {},
   "outputs": [],
   "source": [
    "# Your Code Here"
   ]
  },
  {
   "cell_type": "markdown",
   "id": "151537ce",
   "metadata": {},
   "source": [
    "Do a series of two merges:\n",
    "\n",
    "First, merge the `total_cases` DataFrame and the `race` DataFrame together and save the result back to `total_cases`.\n",
    "\n",
    "Second, merge the `total_cases` DataFrame and the `hhinc` DataFrame together and save the result back to `total_cases`."
   ]
  },
  {
   "cell_type": "code",
   "execution_count": 123,
   "id": "788008a4",
   "metadata": {},
   "outputs": [],
   "source": [
    "# Your Code Here"
   ]
  },
  {
   "cell_type": "markdown",
   "id": "e6076072",
   "metadata": {},
   "source": [
    "Using the `Cases` and `population` columns, create a new calculated column, `cases_per_100000`."
   ]
  },
  {
   "cell_type": "code",
   "execution_count": 124,
   "id": "22a1d239",
   "metadata": {},
   "outputs": [],
   "source": [
    "# Your Code Here"
   ]
  },
  {
   "cell_type": "markdown",
   "id": "5398612c",
   "metadata": {},
   "source": [
    "Create a bar plot to display this newly calculated column."
   ]
  },
  {
   "cell_type": "code",
   "execution_count": 125,
   "id": "4a39ba2c",
   "metadata": {},
   "outputs": [],
   "source": [
    "# Your Code Here"
   ]
  },
  {
   "cell_type": "markdown",
   "id": "13c394a3",
   "metadata": {},
   "source": [
    "Look back at your `total_cases` DataFrame to investigate any zip codes with unusually high or low values. Why might these values be so high or low?"
   ]
  },
  {
   "cell_type": "markdown",
   "id": "53bb2f32",
   "metadata": {},
   "source": [
    "For the zip codes 37027, 37072, 37080, and 37138 at least 10% of the residents live outside of Davidson County. Remove the rows for these counties from the DataFrame.\n",
    "\n",
    "You can use the code in the following cell to accomplish this.\n",
    "\n",
    "We also want to remove any rows whose ZipCode is NaN, which can be accomplished with the code in this cell."
   ]
  },
  {
   "cell_type": "code",
   "execution_count": 100,
   "id": "65725ca5",
   "metadata": {},
   "outputs": [],
   "source": [
    "total_cases = total_cases[~total_cases['Zip'].isin([37027, 37072, 37080, 37138])]\n",
    "total_cases = total_cases[~total_cases['Zip'].isna()]"
   ]
  },
  {
   "cell_type": "markdown",
   "id": "0cdc9c03",
   "metadata": {},
   "source": [
    "**Question:** Does there appear to be any difference in cases_per_100000 for zip codes identified as low_income vs. those that are not?"
   ]
  },
  {
   "cell_type": "code",
   "execution_count": 101,
   "id": "0d3ce1f0",
   "metadata": {},
   "outputs": [],
   "source": [
    "# Your Code Here"
   ]
  },
  {
   "cell_type": "markdown",
   "id": "3f838660",
   "metadata": {},
   "source": [
    "**Question:** Does there appear to be any relationship between a zip code's pct_white value and cases_per_100000 value?"
   ]
  },
  {
   "cell_type": "code",
   "execution_count": 112,
   "id": "5366c036",
   "metadata": {},
   "outputs": [],
   "source": [
    "# Your Code Here"
   ]
  },
  {
   "cell_type": "markdown",
   "id": "eb8e878f",
   "metadata": {},
   "source": [
    "Finally, we are going to be reusing the DataFrame that we have created in future weeks. To save your findings, you can use the `.to_csv()` method as the following cell shows. Run the following cell to save your work."
   ]
  },
  {
   "cell_type": "code",
   "execution_count": null,
   "id": "445ae4f2",
   "metadata": {},
   "outputs": [],
   "source": [
    "total_cases.to_csv('../data/total_cases.csv', index = False)"
   ]
  }
 ],
 "metadata": {
  "kernelspec": {
   "display_name": "Python 3",
   "language": "python",
   "name": "python3"
  },
  "language_info": {
   "codemirror_mode": {
    "name": "ipython",
    "version": 3
   },
   "file_extension": ".py",
   "mimetype": "text/x-python",
   "name": "python",
   "nbconvert_exporter": "python",
   "pygments_lexer": "ipython3",
   "version": "3.8.3"
  }
 },
 "nbformat": 4,
 "nbformat_minor": 5
}
