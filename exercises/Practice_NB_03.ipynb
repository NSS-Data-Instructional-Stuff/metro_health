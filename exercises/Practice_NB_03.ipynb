{
 "cells": [
  {
   "cell_type": "markdown",
   "id": "b8822ce7",
   "metadata": {},
   "source": [
    "In this notebook, you'll retrieve some data from a SQLite database containing data gathered from the US Census."
   ]
  },
  {
   "cell_type": "code",
   "execution_count": 53,
   "id": "145c7c52",
   "metadata": {},
   "outputs": [],
   "source": [
    "import pandas as pd\n",
    "from sqlalchemy import create_engine"
   ]
  },
  {
   "cell_type": "markdown",
   "id": "b4d9ad65",
   "metadata": {},
   "source": [
    "First, use the `create_engine()` function to connect to the database (`census_date.sqlite`, which is in the data folder)."
   ]
  },
  {
   "cell_type": "code",
   "execution_count": 54,
   "id": "b22813c2",
   "metadata": {},
   "outputs": [],
   "source": [
    "# Your code here"
   ]
  },
  {
   "cell_type": "markdown",
   "id": "9c6e56d6",
   "metadata": {},
   "source": [
    "To see all tables contained in this database, you can run the following cell."
   ]
  },
  {
   "cell_type": "code",
   "execution_count": 55,
   "id": "1f5a3a0a",
   "metadata": {},
   "outputs": [
    {
     "data": {
      "text/plain": [
       "[('age',), ('race',), ('educ',), ('hhinc',)]"
      ]
     },
     "execution_count": 55,
     "metadata": {},
     "output_type": "execute_result"
    }
   ],
   "source": [
    "query = '''\n",
    "SELECT \n",
    "    name\n",
    "FROM \n",
    "    sqlite_master \n",
    "WHERE \n",
    "    type ='table' AND \n",
    "    name NOT LIKE 'sqlite_%';\n",
    "'''\n",
    "\n",
    "engine.execute(query).fetchall()"
   ]
  },
  {
   "cell_type": "markdown",
   "id": "c0cb8ca4",
   "metadata": {},
   "source": [
    "We are going go look specifically at the race and the hhinc (household income) tables."
   ]
  },
  {
   "cell_type": "markdown",
   "id": "68cf078f",
   "metadata": {},
   "source": [
    "[Studies](https://www.ama-assn.org/delivering-care/health-equity/data-10-cities-show-covid-19-impact-based-poverty-race) have seen higher rates of infection and death from COVID-19 in more racially diverse counties compared to those which are substantially white with the same income level.\n",
    "\n",
    "Eventually, we'll compare infection rates for majority white vs. majority non-white zipcodes in Davidson County. For now, let's just identify which zip codes are majority white.\n",
    "\n",
    "**Step 1:** Write a query to retrieve all rows from the race table. Run this query and save the results into a pandas DataFrame named `race`."
   ]
  },
  {
   "cell_type": "code",
   "execution_count": null,
   "id": "fed9856a",
   "metadata": {},
   "outputs": [],
   "source": [
    "# Your code here"
   ]
  },
  {
   "cell_type": "markdown",
   "id": "f6bc22a7",
   "metadata": {},
   "source": [
    "**Step 2:** Create a column named `pct_white` by dividing the `Not Hispanic or Latino_White alone` column by the `Total` column."
   ]
  },
  {
   "cell_type": "code",
   "execution_count": null,
   "id": "5494138b",
   "metadata": {},
   "outputs": [],
   "source": [
    "# Your Code Here"
   ]
  },
  {
   "cell_type": "markdown",
   "id": "b1a726de",
   "metadata": {},
   "source": [
    "**Question:** How many zip codes in this table are majority white (meaning `pct_white` is at least 0.5)?"
   ]
  },
  {
   "cell_type": "code",
   "execution_count": null,
   "id": "e5c2d7c9",
   "metadata": {},
   "outputs": [],
   "source": [
    "# Your Code Here"
   ]
  },
  {
   "cell_type": "markdown",
   "id": "f056fc7b",
   "metadata": {},
   "source": [
    "**Difficult Question:** The race table currently includes many more zip codes than just Davidson County. Read in the COVID cases dataset, and use it to narrow down the number of rows in the `race` table to just those in Davidson County. Out of the Davidson County zip codes, how many are majority white? majority non-white?"
   ]
  },
  {
   "cell_type": "code",
   "execution_count": 89,
   "id": "5c8032ea",
   "metadata": {},
   "outputs": [],
   "source": [
    "# Your Code Here"
   ]
  },
  {
   "cell_type": "markdown",
   "id": "c65de888",
   "metadata": {},
   "source": [
    "[Other recent studies](https://jamanetwork.com/journals/jamanetworkopen/fullarticle/2779417) have looked at the relationship between the level of income inequality in an area and the number of COVID-19 infections. \n",
    "\n",
    "According to [Census Reporter](https://censusreporter.org/profiles/05000US47037-davidson-county-tn/) the median household income in Davidson County is $63,938.\n",
    "\n",
    "Let's now identify which zip codes in Davidson County have a household income less than $60,000."
   ]
  },
  {
   "cell_type": "markdown",
   "id": "e6d6c0a0",
   "metadata": {},
   "source": [
    "**Step 1:** Write and run a query to fetch all rows from the `hhinc` table. Save the results into a DataFrame named `hhinc`."
   ]
  },
  {
   "cell_type": "code",
   "execution_count": null,
   "id": "333887f6",
   "metadata": {},
   "outputs": [],
   "source": [
    "# Your Code Here"
   ]
  },
  {
   "cell_type": "markdown",
   "id": "73772c6f",
   "metadata": {},
   "source": [
    "Take a look at the first few rows of `hhinc`."
   ]
  },
  {
   "cell_type": "code",
   "execution_count": 91,
   "id": "ff3166be",
   "metadata": {},
   "outputs": [
    {
     "data": {
      "text/html": [
       "<div>\n",
       "<style scoped>\n",
       "    .dataframe tbody tr th:only-of-type {\n",
       "        vertical-align: middle;\n",
       "    }\n",
       "\n",
       "    .dataframe tbody tr th {\n",
       "        vertical-align: top;\n",
       "    }\n",
       "\n",
       "    .dataframe thead th {\n",
       "        text-align: right;\n",
       "    }\n",
       "</style>\n",
       "<table border=\"1\" class=\"dataframe\">\n",
       "  <thead>\n",
       "    <tr style=\"text-align: right;\">\n",
       "      <th></th>\n",
       "      <th>geoid</th>\n",
       "      <th>zip</th>\n",
       "      <th>Total:</th>\n",
       "      <th>Less than $10,000</th>\n",
       "      <th>$10,000 to $14,999</th>\n",
       "      <th>$15,000 to $19,999</th>\n",
       "      <th>$20,000 to $24,999</th>\n",
       "      <th>$25,000 to $29,999</th>\n",
       "      <th>$30,000 to $34,999</th>\n",
       "      <th>$35,000 to $39,999</th>\n",
       "      <th>$40,000 to $44,999</th>\n",
       "      <th>$45,000 to $49,999</th>\n",
       "      <th>$50,000 to $59,999</th>\n",
       "      <th>$60,000 to $74,999</th>\n",
       "      <th>$75,000 to $99,999</th>\n",
       "      <th>$100,000 to $124,999</th>\n",
       "      <th>$125,000 to $149,999</th>\n",
       "      <th>$150,000 to $199,999</th>\n",
       "      <th>$200,000 or more</th>\n",
       "    </tr>\n",
       "  </thead>\n",
       "  <tbody>\n",
       "    <tr>\n",
       "      <th>0</th>\n",
       "      <td>86000US37013</td>\n",
       "      <td>37013</td>\n",
       "      <td>35597</td>\n",
       "      <td>1424</td>\n",
       "      <td>1023</td>\n",
       "      <td>1197</td>\n",
       "      <td>1751</td>\n",
       "      <td>1647</td>\n",
       "      <td>1685</td>\n",
       "      <td>1748</td>\n",
       "      <td>1937</td>\n",
       "      <td>1748</td>\n",
       "      <td>3956</td>\n",
       "      <td>4510</td>\n",
       "      <td>5507</td>\n",
       "      <td>3547</td>\n",
       "      <td>1703</td>\n",
       "      <td>1212</td>\n",
       "      <td>1002</td>\n",
       "    </tr>\n",
       "    <tr>\n",
       "      <th>1</th>\n",
       "      <td>86000US37015</td>\n",
       "      <td>37015</td>\n",
       "      <td>6673</td>\n",
       "      <td>421</td>\n",
       "      <td>256</td>\n",
       "      <td>115</td>\n",
       "      <td>415</td>\n",
       "      <td>365</td>\n",
       "      <td>452</td>\n",
       "      <td>350</td>\n",
       "      <td>277</td>\n",
       "      <td>323</td>\n",
       "      <td>719</td>\n",
       "      <td>903</td>\n",
       "      <td>903</td>\n",
       "      <td>639</td>\n",
       "      <td>294</td>\n",
       "      <td>157</td>\n",
       "      <td>84</td>\n",
       "    </tr>\n",
       "    <tr>\n",
       "      <th>2</th>\n",
       "      <td>86000US37027</td>\n",
       "      <td>37027</td>\n",
       "      <td>19950</td>\n",
       "      <td>460</td>\n",
       "      <td>173</td>\n",
       "      <td>246</td>\n",
       "      <td>250</td>\n",
       "      <td>254</td>\n",
       "      <td>250</td>\n",
       "      <td>316</td>\n",
       "      <td>538</td>\n",
       "      <td>472</td>\n",
       "      <td>597</td>\n",
       "      <td>1235</td>\n",
       "      <td>1861</td>\n",
       "      <td>2167</td>\n",
       "      <td>1688</td>\n",
       "      <td>2837</td>\n",
       "      <td>6606</td>\n",
       "    </tr>\n",
       "    <tr>\n",
       "      <th>3</th>\n",
       "      <td>86000US37062</td>\n",
       "      <td>37062</td>\n",
       "      <td>4040</td>\n",
       "      <td>119</td>\n",
       "      <td>122</td>\n",
       "      <td>138</td>\n",
       "      <td>140</td>\n",
       "      <td>123</td>\n",
       "      <td>124</td>\n",
       "      <td>121</td>\n",
       "      <td>216</td>\n",
       "      <td>140</td>\n",
       "      <td>329</td>\n",
       "      <td>569</td>\n",
       "      <td>645</td>\n",
       "      <td>468</td>\n",
       "      <td>342</td>\n",
       "      <td>286</td>\n",
       "      <td>158</td>\n",
       "    </tr>\n",
       "    <tr>\n",
       "      <th>4</th>\n",
       "      <td>86000US37064</td>\n",
       "      <td>37064</td>\n",
       "      <td>21640</td>\n",
       "      <td>771</td>\n",
       "      <td>302</td>\n",
       "      <td>623</td>\n",
       "      <td>512</td>\n",
       "      <td>609</td>\n",
       "      <td>630</td>\n",
       "      <td>721</td>\n",
       "      <td>495</td>\n",
       "      <td>567</td>\n",
       "      <td>1479</td>\n",
       "      <td>1784</td>\n",
       "      <td>2293</td>\n",
       "      <td>2338</td>\n",
       "      <td>2265</td>\n",
       "      <td>2394</td>\n",
       "      <td>3857</td>\n",
       "    </tr>\n",
       "  </tbody>\n",
       "</table>\n",
       "</div>"
      ],
      "text/plain": [
       "          geoid    zip  Total:  Less than $10,000  $10,000 to $14,999  \\\n",
       "0  86000US37013  37013   35597               1424                1023   \n",
       "1  86000US37015  37015    6673                421                 256   \n",
       "2  86000US37027  37027   19950                460                 173   \n",
       "3  86000US37062  37062    4040                119                 122   \n",
       "4  86000US37064  37064   21640                771                 302   \n",
       "\n",
       "   $15,000 to $19,999  $20,000 to $24,999  $25,000 to $29,999  \\\n",
       "0                1197                1751                1647   \n",
       "1                 115                 415                 365   \n",
       "2                 246                 250                 254   \n",
       "3                 138                 140                 123   \n",
       "4                 623                 512                 609   \n",
       "\n",
       "   $30,000 to $34,999  $35,000 to $39,999  $40,000 to $44,999  \\\n",
       "0                1685                1748                1937   \n",
       "1                 452                 350                 277   \n",
       "2                 250                 316                 538   \n",
       "3                 124                 121                 216   \n",
       "4                 630                 721                 495   \n",
       "\n",
       "   $45,000 to $49,999  $50,000 to $59,999  $60,000 to $74,999  \\\n",
       "0                1748                3956                4510   \n",
       "1                 323                 719                 903   \n",
       "2                 472                 597                1235   \n",
       "3                 140                 329                 569   \n",
       "4                 567                1479                1784   \n",
       "\n",
       "   $75,000 to $99,999  $100,000 to $124,999  $125,000 to $149,999  \\\n",
       "0                5507                  3547                  1703   \n",
       "1                 903                   639                   294   \n",
       "2                1861                  2167                  1688   \n",
       "3                 645                   468                   342   \n",
       "4                2293                  2338                  2265   \n",
       "\n",
       "   $150,000 to $199,999  $200,000 or more  \n",
       "0                  1212              1002  \n",
       "1                   157                84  \n",
       "2                  2837              6606  \n",
       "3                   286               158  \n",
       "4                  2394              3857  "
      ]
     },
     "execution_count": 91,
     "metadata": {},
     "output_type": "execute_result"
    }
   ],
   "source": [
    "hhinc.head()"
   ]
  },
  {
   "cell_type": "code",
   "execution_count": 93,
   "id": "4599ea6a",
   "metadata": {},
   "outputs": [
    {
     "data": {
      "text/plain": [
       "Index(['geoid', 'zip', 'Total:', 'Less than $10,000', '$10,000 to $14,999',\n",
       "       '$15,000 to $19,999', '$20,000 to $24,999', '$25,000 to $29,999',\n",
       "       '$30,000 to $34,999', '$35,000 to $39,999', '$40,000 to $44,999',\n",
       "       '$45,000 to $49,999', '$50,000 to $59,999', '$60,000 to $74,999',\n",
       "       '$75,000 to $99,999', '$100,000 to $124,999', '$125,000 to $149,999',\n",
       "       '$150,000 to $199,999', '$200,000 or more'],\n",
       "      dtype='object')"
      ]
     },
     "execution_count": 93,
     "metadata": {},
     "output_type": "execute_result"
    }
   ],
   "source": [
    "hhinc.columns"
   ]
  },
  {
   "cell_type": "markdown",
   "id": "1b982b8d",
   "metadata": {},
   "source": [
    "We will identify the zip codes that have median incomes less than $60,000 using the following procedure:\n",
    "\n",
    "1. Get a total count for all income levels from \"Less than \\\\$10,000\" through \"\\\\$50,000 to \\\\$59,999\".\n",
    "\n",
    "2. Use this count to get a percentage of households in that zip code whose income is less than \\\\$60,000.\n",
    "\n",
    "3. Identify zip codes for which this percentage is at least 50%."
   ]
  },
  {
   "cell_type": "markdown",
   "id": "c8125074",
   "metadata": {},
   "source": [
    "For the first step, we can use the `.sum()` method.\n",
    "\n",
    "By default, `pandas` will sum up the columns. However, we can change this behavior by using the `axis` argument of the `.sum()`. method. The argument `axis = 1` indicates to pandas that we want to sum along the rows.\n",
    "\n",
    "Once you are satisfied that the calculation is being done correctly, save the result back to a column named \"Total_less_than_60000\"."
   ]
  },
  {
   "cell_type": "code",
   "execution_count": null,
   "id": "aceda38e",
   "metadata": {},
   "outputs": [],
   "source": [
    "hhinc[['Less than $10,000', '$10,000 to $14,999',\n",
    "       '$15,000 to $19,999', '$20,000 to $24,999', '$25,000 to $29,999',\n",
    "       '$30,000 to $34,999', '$35,000 to $39,999', '$40,000 to $44,999',\n",
    "       '$45,000 to $49,999', '$50,000 to $59,999']].# Fill this part in"
   ]
  },
  {
   "cell_type": "markdown",
   "id": "37b0f952",
   "metadata": {},
   "source": [
    "Now, create a new column named \"pct_less_than_60000\" by dividing the newly-created column by the \"Total:\" column."
   ]
  },
  {
   "cell_type": "code",
   "execution_count": 101,
   "id": "99fce6fa",
   "metadata": {},
   "outputs": [],
   "source": [
    "# Your Code Here"
   ]
  },
  {
   "cell_type": "markdown",
   "id": "bfe21811",
   "metadata": {},
   "source": [
    "**Question:** For how many rows is it the case that the median income is less than \\\\$60,000?"
   ]
  },
  {
   "cell_type": "code",
   "execution_count": 105,
   "id": "cb7f60f8",
   "metadata": {},
   "outputs": [],
   "source": [
    "# Your Code Here"
   ]
  }
 ],
 "metadata": {
  "kernelspec": {
   "display_name": "Python 3",
   "language": "python",
   "name": "python3"
  },
  "language_info": {
   "codemirror_mode": {
    "name": "ipython",
    "version": 3
   },
   "file_extension": ".py",
   "mimetype": "text/x-python",
   "name": "python",
   "nbconvert_exporter": "python",
   "pygments_lexer": "ipython3",
   "version": "3.8.3"
  }
 },
 "nbformat": 4,
 "nbformat_minor": 5
}
