{
 "cells": [
  {
   "cell_type": "markdown",
   "id": "7468fd33",
   "metadata": {},
   "source": [
    "In this notebook, you'll combine the data you extracted last week with data showing the count of COVID cases by zip code."
   ]
  },
  {
   "cell_type": "code",
   "execution_count": 115,
   "id": "2b8a680c",
   "metadata": {},
   "outputs": [],
   "source": [
    "import pandas as pd\n",
    "from sqlalchemy import create_engine\n",
    "import matplotlib.pyplot as plt\n",
    "import seaborn as sns"
   ]
  },
  {
   "cell_type": "markdown",
   "id": "29b80ab1",
   "metadata": {},
   "source": [
    "First, import the vaccines data (contained in the file `COVID_CountByZipPerDate 03292021.csv` in the `data` folder. Save it in a DataFrame named `cases`."
   ]
  },
  {
   "cell_type": "code",
   "execution_count": 120,
   "id": "ffc20155",
   "metadata": {},
   "outputs": [],
   "source": [
    "# Your Code Here"
   ]
  },
  {
   "cell_type": "code",
   "execution_count": 116,
   "id": "982026db",
   "metadata": {},
   "outputs": [],
   "source": [
    "cases = pd.read_csv('../data/COVID_CountByZipPerDate 03292021.csv')"
   ]
  },
  {
   "cell_type": "markdown",
   "id": "93f20671",
   "metadata": {},
   "source": [
    "Take a look at this DataFrame so that you have an understanding of how it is structured."
   ]
  },
  {
   "cell_type": "code",
   "execution_count": 117,
   "id": "e7e210ca",
   "metadata": {},
   "outputs": [
    {
     "data": {
      "text/html": [
       "<div>\n",
       "<style scoped>\n",
       "    .dataframe tbody tr th:only-of-type {\n",
       "        vertical-align: middle;\n",
       "    }\n",
       "\n",
       "    .dataframe tbody tr th {\n",
       "        vertical-align: top;\n",
       "    }\n",
       "\n",
       "    .dataframe thead th {\n",
       "        text-align: right;\n",
       "    }\n",
       "</style>\n",
       "<table border=\"1\" class=\"dataframe\">\n",
       "  <thead>\n",
       "    <tr style=\"text-align: right;\">\n",
       "      <th></th>\n",
       "      <th>Specimen Collection Date</th>\n",
       "      <th>Zip</th>\n",
       "      <th>Cases</th>\n",
       "    </tr>\n",
       "  </thead>\n",
       "  <tbody>\n",
       "    <tr>\n",
       "      <th>0</th>\n",
       "      <td>3/6/2020</td>\n",
       "      <td>37217.0</td>\n",
       "      <td>1</td>\n",
       "    </tr>\n",
       "    <tr>\n",
       "      <th>1</th>\n",
       "      <td>3/10/2020</td>\n",
       "      <td>37214.0</td>\n",
       "      <td>1</td>\n",
       "    </tr>\n",
       "    <tr>\n",
       "      <th>2</th>\n",
       "      <td>3/11/2020</td>\n",
       "      <td>37013.0</td>\n",
       "      <td>1</td>\n",
       "    </tr>\n",
       "    <tr>\n",
       "      <th>3</th>\n",
       "      <td>3/11/2020</td>\n",
       "      <td>37204.0</td>\n",
       "      <td>2</td>\n",
       "    </tr>\n",
       "    <tr>\n",
       "      <th>4</th>\n",
       "      <td>3/11/2020</td>\n",
       "      <td>37205.0</td>\n",
       "      <td>1</td>\n",
       "    </tr>\n",
       "    <tr>\n",
       "      <th>...</th>\n",
       "      <td>...</td>\n",
       "      <td>...</td>\n",
       "      <td>...</td>\n",
       "    </tr>\n",
       "    <tr>\n",
       "      <th>8827</th>\n",
       "      <td>3/27/2021</td>\n",
       "      <td>37210.0</td>\n",
       "      <td>1</td>\n",
       "    </tr>\n",
       "    <tr>\n",
       "      <th>8828</th>\n",
       "      <td>3/27/2021</td>\n",
       "      <td>37211.0</td>\n",
       "      <td>1</td>\n",
       "    </tr>\n",
       "    <tr>\n",
       "      <th>8829</th>\n",
       "      <td>3/27/2021</td>\n",
       "      <td>37212.0</td>\n",
       "      <td>1</td>\n",
       "    </tr>\n",
       "    <tr>\n",
       "      <th>8830</th>\n",
       "      <td>3/27/2021</td>\n",
       "      <td>37214.0</td>\n",
       "      <td>2</td>\n",
       "    </tr>\n",
       "    <tr>\n",
       "      <th>8831</th>\n",
       "      <td>3/27/2021</td>\n",
       "      <td>37221.0</td>\n",
       "      <td>2</td>\n",
       "    </tr>\n",
       "  </tbody>\n",
       "</table>\n",
       "<p>8832 rows × 3 columns</p>\n",
       "</div>"
      ],
      "text/plain": [
       "     Specimen Collection Date      Zip  Cases\n",
       "0                    3/6/2020  37217.0      1\n",
       "1                   3/10/2020  37214.0      1\n",
       "2                   3/11/2020  37013.0      1\n",
       "3                   3/11/2020  37204.0      2\n",
       "4                   3/11/2020  37205.0      1\n",
       "...                       ...      ...    ...\n",
       "8827                3/27/2021  37210.0      1\n",
       "8828                3/27/2021  37211.0      1\n",
       "8829                3/27/2021  37212.0      1\n",
       "8830                3/27/2021  37214.0      2\n",
       "8831                3/27/2021  37221.0      2\n",
       "\n",
       "[8832 rows x 3 columns]"
      ]
     },
     "execution_count": 117,
     "metadata": {},
     "output_type": "execute_result"
    }
   ],
   "source": [
    "cases"
   ]
  },
  {
   "cell_type": "markdown",
   "id": "2544452e",
   "metadata": {},
   "source": [
    "Aggregate the cases per zip code to get a total (cumulative) count of cases per zip code. Convert the result to a DataFrame named `total_cases`."
   ]
  },
  {
   "cell_type": "code",
   "execution_count": 119,
   "id": "fdb0e8fe",
   "metadata": {},
   "outputs": [],
   "source": [
    "# Your Code Here"
   ]
  },
  {
   "cell_type": "code",
   "execution_count": 118,
   "id": "a631baa4",
   "metadata": {},
   "outputs": [],
   "source": [
    "total_cases = cases.groupby('Zip')['Cases'].sum()\n",
    "total_cases = total_cases.reset_index()\n",
    "total_cases.Zip = total_cases.Zip.astype('int')"
   ]
  },
  {
   "cell_type": "markdown",
   "id": "dc37f6a0",
   "metadata": {},
   "source": [
    "Create a plot showing the number of cases per zip code. Which zip code has the highest total number of cases?"
   ]
  },
  {
   "cell_type": "code",
   "execution_count": 121,
   "id": "83a3a96a",
   "metadata": {},
   "outputs": [],
   "source": [
    "# Your Code Here"
   ]
  },
  {
   "cell_type": "code",
   "execution_count": 67,
   "id": "ab22c6f0",
   "metadata": {},
   "outputs": [
    {
     "data": {
      "image/png": "[encoded data removed]",
      "text/plain": [
       "<Figure size 720x432 with 1 Axes>"
      ]
     },
     "metadata": {
      "needs_background": "light"
     },
     "output_type": "display_data"
    }
   ],
   "source": [
    "fig, ax = plt.subplots(figsize = (10,6))\n",
    "\n",
    "total_cases.sort_values('Cases', ascending = False).plot(kind = 'bar', x = 'Zip', y = 'Cases', ax = ax)\n",
    "\n",
    "plt.grid(axis = 'y')\n",
    "\n",
    "plt.title('Total Cases by Zip Code, Through 3/27/2021');"
   ]
  },
  {
   "cell_type": "markdown",
   "id": "8dff1632",
   "metadata": {},
   "source": [
    "Now we're going to incorporate some data retrieved from the census.\n",
    "\n",
    "We can reuse the code from last week to fetch and prepare the race and hhinc DataFrames."
   ]
  },
  {
   "cell_type": "code",
   "execution_count": 68,
   "id": "3517affe",
   "metadata": {},
   "outputs": [],
   "source": [
    "engine = create_engine('sqlite:///../data/census_data.sqlite')"
   ]
  },
  {
   "cell_type": "code",
   "execution_count": 69,
   "id": "f7514bfd",
   "metadata": {},
   "outputs": [],
   "source": [
    "query = '''\n",
    "SELECT *\n",
    "FROM race;\n",
    "'''\n",
    "\n",
    "race = pd.read_sql(query, con = engine)\n",
    "race['pct_white'] = race['Not Hispanic or Latino_White alone'] / race['Total']"
   ]
  },
  {
   "cell_type": "code",
   "execution_count": 70,
   "id": "245a0252",
   "metadata": {},
   "outputs": [],
   "source": [
    "query = '''\n",
    "SELECT *\n",
    "FROM hhinc;\n",
    "'''\n",
    "\n",
    "hhinc = pd.read_sql(query, con = engine)\n",
    "\n",
    "hhinc['Total_less_than_60000'] = hhinc[['Less than $10,000', '$10,000 to $14,999',\n",
    "       '$15,000 to $19,999', '$20,000 to $24,999', '$25,000 to $29,999',\n",
    "       '$30,000 to $34,999', '$35,000 to $39,999', '$40,000 to $44,999',\n",
    "       '$45,000 to $49,999', '$50,000 to $59,999']].sum(axis = 1)\n",
    "\n",
    "hhinc['pct_less_than_60000'] = hhinc['Total_less_than_60000'] / hhinc['Total:']\n",
    "\n",
    "hhinc['low_income'] = hhinc['pct_less_than_60000'] >= 0.5"
   ]
  },
  {
   "cell_type": "markdown",
   "id": "aeecad83",
   "metadata": {},
   "source": [
    "We don't need all of the columns from these two dataframes. Slice `race` so that it only includes the 'geoid', 'zip', 'Total', and 'pct_white' columns and `hhinc` so that it only includes 'geoid', 'zip', and 'low_income'."
   ]
  },
  {
   "cell_type": "code",
   "execution_count": 71,
   "id": "fcfe11ab",
   "metadata": {},
   "outputs": [],
   "source": [
    "# Your Code Here"
   ]
  },
  {
   "cell_type": "code",
   "execution_count": 72,
   "id": "3f131837",
   "metadata": {
    "scrolled": true
   },
   "outputs": [],
   "source": [
    "race = race[['geoid', 'zip', 'Total', 'pct_white']]\n",
    "\n",
    "hhinc = hhinc[['geoid', 'zip', 'low_income']]"
   ]
  },
  {
   "cell_type": "markdown",
   "id": "61013bb0",
   "metadata": {},
   "source": [
    "Prior to merging, it might make sense to rename the 'zip' columns in `race` and `hhinc` to `Zip` in order to match the column name in the `total_cases` DataFrame.\n",
    "\n",
    "Also, rename the 'Total' column in race to 'population'."
   ]
  },
  {
   "cell_type": "code",
   "execution_count": 122,
   "id": "6215b182",
   "metadata": {},
   "outputs": [],
   "source": [
    "# Your Code Here"
   ]
  },
  {
   "cell_type": "code",
   "execution_count": 73,
   "id": "a9c3807e",
   "metadata": {},
   "outputs": [],
   "source": [
    "race = race.rename(columns = {'zip': 'Zip', 'Total': 'population'})\n",
    "hhinc = hhinc.rename(columns = {'zip': 'Zip'})"
   ]
  },
  {
   "cell_type": "markdown",
   "id": "151537ce",
   "metadata": {},
   "source": [
    "Do a series of two merges:\n",
    "\n",
    "First, merge the `total_cases` DataFrame and the `race` DataFrame together and save the result back to `total_cases`.\n",
    "\n",
    "Second, merge the `total_cases` DataFrame and the `hhinc` DataFrame together and save the result back to `total_cases`."
   ]
  },
  {
   "cell_type": "code",
   "execution_count": 123,
   "id": "41e81c75",
   "metadata": {},
   "outputs": [],
   "source": [
    "# Your Code Here"
   ]
  },
  {
   "cell_type": "code",
   "execution_count": 74,
   "id": "afb18014",
   "metadata": {},
   "outputs": [],
   "source": [
    "total_cases = pd.merge(left = total_cases, right = race)\n",
    "total_cases = pd.merge(left = total_cases, right = hhinc)"
   ]
  },
  {
   "cell_type": "markdown",
   "id": "e6076072",
   "metadata": {},
   "source": [
    "Using the `Cases` and `population` columns, create a new calculated column, `cases_per_100000`."
   ]
  },
  {
   "cell_type": "code",
   "execution_count": 124,
   "id": "f7aabfe7",
   "metadata": {},
   "outputs": [],
   "source": [
    "# Your Code Here"
   ]
  },
  {
   "cell_type": "code",
   "execution_count": 75,
   "id": "26b93951",
   "metadata": {},
   "outputs": [],
   "source": [
    "total_cases['cases_per_100000'] = total_cases['Cases'] / total_cases['population'] * 100000"
   ]
  },
  {
   "cell_type": "markdown",
   "id": "5398612c",
   "metadata": {},
   "source": [
    "Create a bar plot to display this newly calculated column."
   ]
  },
  {
   "cell_type": "code",
   "execution_count": 125,
   "id": "0322cc29",
   "metadata": {},
   "outputs": [],
   "source": [
    "# Your Code Here"
   ]
  },
  {
   "cell_type": "code",
   "execution_count": 76,
   "id": "fcb09a82",
   "metadata": {},
   "outputs": [
    {
     "data": {
      "image/png": "[encoded data removed]",
      "text/plain": [
       "<Figure size 720x432 with 1 Axes>"
      ]
     },
     "metadata": {
      "needs_background": "light"
     },
     "output_type": "display_data"
    }
   ],
   "source": [
    "fig, ax = plt.subplots(figsize = (10,6))\n",
    "\n",
    "total_cases.sort_values('cases_per_100000').plot(kind = 'bar', x = 'Zip', y = 'cases_per_100000', ax = ax)\n",
    "\n",
    "plt.grid(axis = 'y')\n",
    "\n",
    "plt.title('Cases per 100,000 Residents by Zip Code, Through 3/27/2021');"
   ]
  },
  {
   "cell_type": "markdown",
   "id": "13c394a3",
   "metadata": {},
   "source": [
    "Look back at your `total_cases` DataFrame to investigate any zip codes with unusually high or low values. Why might these values be so high or low?"
   ]
  },
  {
   "cell_type": "code",
   "execution_count": 77,
   "id": "91b7c6fd",
   "metadata": {},
   "outputs": [
    {
     "data": {
      "text/html": [
       "<div>\n",
       "<style scoped>\n",
       "    .dataframe tbody tr th:only-of-type {\n",
       "        vertical-align: middle;\n",
       "    }\n",
       "\n",
       "    .dataframe tbody tr th {\n",
       "        vertical-align: top;\n",
       "    }\n",
       "\n",
       "    .dataframe thead th {\n",
       "        text-align: right;\n",
       "    }\n",
       "</style>\n",
       "<table border=\"1\" class=\"dataframe\">\n",
       "  <thead>\n",
       "    <tr style=\"text-align: right;\">\n",
       "      <th></th>\n",
       "      <th>Zip</th>\n",
       "      <th>Cases</th>\n",
       "      <th>geoid</th>\n",
       "      <th>population</th>\n",
       "      <th>pct_white</th>\n",
       "      <th>low_income</th>\n",
       "      <th>cases_per_100000</th>\n",
       "    </tr>\n",
       "  </thead>\n",
       "  <tbody>\n",
       "    <tr>\n",
       "      <th>1</th>\n",
       "      <td>37027</td>\n",
       "      <td>231</td>\n",
       "      <td>86000US37027</td>\n",
       "      <td>56117</td>\n",
       "      <td>0.837536</td>\n",
       "      <td>False</td>\n",
       "      <td>411.639966</td>\n",
       "    </tr>\n",
       "    <tr>\n",
       "      <th>4</th>\n",
       "      <td>37080</td>\n",
       "      <td>574</td>\n",
       "      <td>86000US37080</td>\n",
       "      <td>7394</td>\n",
       "      <td>0.937382</td>\n",
       "      <td>True</td>\n",
       "      <td>7763.051123</td>\n",
       "    </tr>\n",
       "    <tr>\n",
       "      <th>18</th>\n",
       "      <td>37212</td>\n",
       "      <td>1823</td>\n",
       "      <td>86000US37212</td>\n",
       "      <td>20803</td>\n",
       "      <td>0.714897</td>\n",
       "      <td>False</td>\n",
       "      <td>8763.159160</td>\n",
       "    </tr>\n",
       "    <tr>\n",
       "      <th>2</th>\n",
       "      <td>37072</td>\n",
       "      <td>2984</td>\n",
       "      <td>86000US37072</td>\n",
       "      <td>31492</td>\n",
       "      <td>0.754573</td>\n",
       "      <td>False</td>\n",
       "      <td>9475.422329</td>\n",
       "    </tr>\n",
       "    <tr>\n",
       "      <th>27</th>\n",
       "      <td>37221</td>\n",
       "      <td>3910</td>\n",
       "      <td>86000US37221</td>\n",
       "      <td>41017</td>\n",
       "      <td>0.811200</td>\n",
       "      <td>False</td>\n",
       "      <td>9532.632811</td>\n",
       "    </tr>\n",
       "    <tr>\n",
       "      <th>6</th>\n",
       "      <td>37138</td>\n",
       "      <td>2359</td>\n",
       "      <td>86000US37138</td>\n",
       "      <td>23784</td>\n",
       "      <td>0.802010</td>\n",
       "      <td>False</td>\n",
       "      <td>9918.432560</td>\n",
       "    </tr>\n",
       "    <tr>\n",
       "      <th>3</th>\n",
       "      <td>37076</td>\n",
       "      <td>4279</td>\n",
       "      <td>86000US37076</td>\n",
       "      <td>40161</td>\n",
       "      <td>0.654939</td>\n",
       "      <td>False</td>\n",
       "      <td>10654.615174</td>\n",
       "    </tr>\n",
       "    <tr>\n",
       "      <th>11</th>\n",
       "      <td>37205</td>\n",
       "      <td>2566</td>\n",
       "      <td>86000US37205</td>\n",
       "      <td>23790</td>\n",
       "      <td>0.887432</td>\n",
       "      <td>False</td>\n",
       "      <td>10786.044557</td>\n",
       "    </tr>\n",
       "    <tr>\n",
       "      <th>21</th>\n",
       "      <td>37215</td>\n",
       "      <td>2438</td>\n",
       "      <td>86000US37215</td>\n",
       "      <td>22379</td>\n",
       "      <td>0.872514</td>\n",
       "      <td>False</td>\n",
       "      <td>10894.141829</td>\n",
       "    </tr>\n",
       "    <tr>\n",
       "      <th>26</th>\n",
       "      <td>37220</td>\n",
       "      <td>656</td>\n",
       "      <td>86000US37220</td>\n",
       "      <td>5880</td>\n",
       "      <td>0.957483</td>\n",
       "      <td>False</td>\n",
       "      <td>11156.462585</td>\n",
       "    </tr>\n",
       "    <tr>\n",
       "      <th>22</th>\n",
       "      <td>37216</td>\n",
       "      <td>2011</td>\n",
       "      <td>86000US37216</td>\n",
       "      <td>17848</td>\n",
       "      <td>0.674641</td>\n",
       "      <td>False</td>\n",
       "      <td>11267.368893</td>\n",
       "    </tr>\n",
       "    <tr>\n",
       "      <th>5</th>\n",
       "      <td>37115</td>\n",
       "      <td>4574</td>\n",
       "      <td>86000US37115</td>\n",
       "      <td>40343</td>\n",
       "      <td>0.411744</td>\n",
       "      <td>True</td>\n",
       "      <td>11337.778549</td>\n",
       "    </tr>\n",
       "    <tr>\n",
       "      <th>24</th>\n",
       "      <td>37218</td>\n",
       "      <td>1785</td>\n",
       "      <td>86000US37218</td>\n",
       "      <td>15721</td>\n",
       "      <td>0.212964</td>\n",
       "      <td>True</td>\n",
       "      <td>11354.239552</td>\n",
       "    </tr>\n",
       "    <tr>\n",
       "      <th>20</th>\n",
       "      <td>37214</td>\n",
       "      <td>3508</td>\n",
       "      <td>86000US37214</td>\n",
       "      <td>30528</td>\n",
       "      <td>0.716850</td>\n",
       "      <td>False</td>\n",
       "      <td>11491.090147</td>\n",
       "    </tr>\n",
       "    <tr>\n",
       "      <th>10</th>\n",
       "      <td>37204</td>\n",
       "      <td>1786</td>\n",
       "      <td>86000US37204</td>\n",
       "      <td>15452</td>\n",
       "      <td>0.791807</td>\n",
       "      <td>False</td>\n",
       "      <td>11558.374320</td>\n",
       "    </tr>\n",
       "    <tr>\n",
       "      <th>12</th>\n",
       "      <td>37206</td>\n",
       "      <td>3112</td>\n",
       "      <td>86000US37206</td>\n",
       "      <td>26382</td>\n",
       "      <td>0.610113</td>\n",
       "      <td>True</td>\n",
       "      <td>11795.921462</td>\n",
       "    </tr>\n",
       "    <tr>\n",
       "      <th>7</th>\n",
       "      <td>37189</td>\n",
       "      <td>479</td>\n",
       "      <td>86000US37189</td>\n",
       "      <td>4016</td>\n",
       "      <td>0.492032</td>\n",
       "      <td>False</td>\n",
       "      <td>11927.290837</td>\n",
       "    </tr>\n",
       "    <tr>\n",
       "      <th>13</th>\n",
       "      <td>37207</td>\n",
       "      <td>4729</td>\n",
       "      <td>86000US37207</td>\n",
       "      <td>39544</td>\n",
       "      <td>0.218466</td>\n",
       "      <td>True</td>\n",
       "      <td>11958.830670</td>\n",
       "    </tr>\n",
       "    <tr>\n",
       "      <th>16</th>\n",
       "      <td>37210</td>\n",
       "      <td>2100</td>\n",
       "      <td>86000US37210</td>\n",
       "      <td>17248</td>\n",
       "      <td>0.402713</td>\n",
       "      <td>True</td>\n",
       "      <td>12175.324675</td>\n",
       "    </tr>\n",
       "    <tr>\n",
       "      <th>23</th>\n",
       "      <td>37217</td>\n",
       "      <td>3907</td>\n",
       "      <td>86000US37217</td>\n",
       "      <td>30146</td>\n",
       "      <td>0.407285</td>\n",
       "      <td>True</td>\n",
       "      <td>12960.260068</td>\n",
       "    </tr>\n",
       "    <tr>\n",
       "      <th>15</th>\n",
       "      <td>37209</td>\n",
       "      <td>5072</td>\n",
       "      <td>86000US37209</td>\n",
       "      <td>38664</td>\n",
       "      <td>0.583644</td>\n",
       "      <td>True</td>\n",
       "      <td>13118.146079</td>\n",
       "    </tr>\n",
       "    <tr>\n",
       "      <th>17</th>\n",
       "      <td>37211</td>\n",
       "      <td>10233</td>\n",
       "      <td>86000US37211</td>\n",
       "      <td>75955</td>\n",
       "      <td>0.523376</td>\n",
       "      <td>True</td>\n",
       "      <td>13472.450793</td>\n",
       "    </tr>\n",
       "    <tr>\n",
       "      <th>14</th>\n",
       "      <td>37208</td>\n",
       "      <td>2428</td>\n",
       "      <td>86000US37208</td>\n",
       "      <td>18011</td>\n",
       "      <td>0.266337</td>\n",
       "      <td>True</td>\n",
       "      <td>13480.650713</td>\n",
       "    </tr>\n",
       "    <tr>\n",
       "      <th>0</th>\n",
       "      <td>37013</td>\n",
       "      <td>13354</td>\n",
       "      <td>86000US37013</td>\n",
       "      <td>97939</td>\n",
       "      <td>0.409234</td>\n",
       "      <td>True</td>\n",
       "      <td>13635.017715</td>\n",
       "    </tr>\n",
       "    <tr>\n",
       "      <th>8</th>\n",
       "      <td>37201</td>\n",
       "      <td>299</td>\n",
       "      <td>86000US37201</td>\n",
       "      <td>1619</td>\n",
       "      <td>0.539839</td>\n",
       "      <td>False</td>\n",
       "      <td>18468.190241</td>\n",
       "    </tr>\n",
       "    <tr>\n",
       "      <th>28</th>\n",
       "      <td>37228</td>\n",
       "      <td>310</td>\n",
       "      <td>86000US37228</td>\n",
       "      <td>1615</td>\n",
       "      <td>0.461300</td>\n",
       "      <td>True</td>\n",
       "      <td>19195.046440</td>\n",
       "    </tr>\n",
       "    <tr>\n",
       "      <th>9</th>\n",
       "      <td>37203</td>\n",
       "      <td>3346</td>\n",
       "      <td>86000US37203</td>\n",
       "      <td>15091</td>\n",
       "      <td>0.594195</td>\n",
       "      <td>True</td>\n",
       "      <td>22172.155589</td>\n",
       "    </tr>\n",
       "    <tr>\n",
       "      <th>25</th>\n",
       "      <td>37219</td>\n",
       "      <td>270</td>\n",
       "      <td>86000US37219</td>\n",
       "      <td>1154</td>\n",
       "      <td>0.991334</td>\n",
       "      <td>False</td>\n",
       "      <td>23396.880416</td>\n",
       "    </tr>\n",
       "    <tr>\n",
       "      <th>19</th>\n",
       "      <td>37213</td>\n",
       "      <td>65</td>\n",
       "      <td>86000US37213</td>\n",
       "      <td>95</td>\n",
       "      <td>0.800000</td>\n",
       "      <td>True</td>\n",
       "      <td>68421.052632</td>\n",
       "    </tr>\n",
       "  </tbody>\n",
       "</table>\n",
       "</div>"
      ],
      "text/plain": [
       "      Zip  Cases         geoid  population  pct_white  low_income  \\\n",
       "1   37027    231  86000US37027       56117   0.837536       False   \n",
       "4   37080    574  86000US37080        7394   0.937382        True   \n",
       "18  37212   1823  86000US37212       20803   0.714897       False   \n",
       "2   37072   2984  86000US37072       31492   0.754573       False   \n",
       "27  37221   3910  86000US37221       41017   0.811200       False   \n",
       "6   37138   2359  86000US37138       23784   0.802010       False   \n",
       "3   37076   4279  86000US37076       40161   0.654939       False   \n",
       "11  37205   2566  86000US37205       23790   0.887432       False   \n",
       "21  37215   2438  86000US37215       22379   0.872514       False   \n",
       "26  37220    656  86000US37220        5880   0.957483       False   \n",
       "22  37216   2011  86000US37216       17848   0.674641       False   \n",
       "5   37115   4574  86000US37115       40343   0.411744        True   \n",
       "24  37218   1785  86000US37218       15721   0.212964        True   \n",
       "20  37214   3508  86000US37214       30528   0.716850       False   \n",
       "10  37204   1786  86000US37204       15452   0.791807       False   \n",
       "12  37206   3112  86000US37206       26382   0.610113        True   \n",
       "7   37189    479  86000US37189        4016   0.492032       False   \n",
       "13  37207   4729  86000US37207       39544   0.218466        True   \n",
       "16  37210   2100  86000US37210       17248   0.402713        True   \n",
       "23  37217   3907  86000US37217       30146   0.407285        True   \n",
       "15  37209   5072  86000US37209       38664   0.583644        True   \n",
       "17  37211  10233  86000US37211       75955   0.523376        True   \n",
       "14  37208   2428  86000US37208       18011   0.266337        True   \n",
       "0   37013  13354  86000US37013       97939   0.409234        True   \n",
       "8   37201    299  86000US37201        1619   0.539839       False   \n",
       "28  37228    310  86000US37228        1615   0.461300        True   \n",
       "9   37203   3346  86000US37203       15091   0.594195        True   \n",
       "25  37219    270  86000US37219        1154   0.991334       False   \n",
       "19  37213     65  86000US37213          95   0.800000        True   \n",
       "\n",
       "    cases_per_100000  \n",
       "1         411.639966  \n",
       "4        7763.051123  \n",
       "18       8763.159160  \n",
       "2        9475.422329  \n",
       "27       9532.632811  \n",
       "6        9918.432560  \n",
       "3       10654.615174  \n",
       "11      10786.044557  \n",
       "21      10894.141829  \n",
       "26      11156.462585  \n",
       "22      11267.368893  \n",
       "5       11337.778549  \n",
       "24      11354.239552  \n",
       "20      11491.090147  \n",
       "10      11558.374320  \n",
       "12      11795.921462  \n",
       "7       11927.290837  \n",
       "13      11958.830670  \n",
       "16      12175.324675  \n",
       "23      12960.260068  \n",
       "15      13118.146079  \n",
       "17      13472.450793  \n",
       "14      13480.650713  \n",
       "0       13635.017715  \n",
       "8       18468.190241  \n",
       "28      19195.046440  \n",
       "9       22172.155589  \n",
       "25      23396.880416  \n",
       "19      68421.052632  "
      ]
     },
     "execution_count": 77,
     "metadata": {},
     "output_type": "execute_result"
    }
   ],
   "source": [
    "total_cases.sort_values('cases_per_100000')"
   ]
  },
  {
   "cell_type": "markdown",
   "id": "4bd29c7a",
   "metadata": {},
   "source": [
    "The zip codes 37027, 37072, 37080, 37138, 37221, 37076, 37215, 37209, 37211 are partially outside of Davidson County. Remove the rows for these counties from the DataFrame.\n",
    "\n",
    "You can use the code in the following cell to accomplish this.\n",
    "\n",
    "We also want to remove any rows whose ZipCode is NaN, which can be accomplished with the code in this cell."
   ]
  },
  {
   "cell_type": "code",
   "execution_count": 100,
   "id": "e2544d1d",
   "metadata": {},
   "outputs": [],
   "source": [
    "total_cases = total_cases[~total_cases['Zip'].isin([37027, 37072, 37080, 37138, 37221, 37076, 37215, 37209, 37211])]\n",
    "total_cases = total_cases[~total_cases['Zip'].isna()]"
   ]
  },
  {
   "cell_type": "markdown",
   "id": "a163dcd1",
   "metadata": {},
   "source": [
    "**Question:** Does there appear to be any difference in cases_per_100000 for zip codes identified as low_income vs. those that are not?"
   ]
  },
  {
   "cell_type": "code",
   "execution_count": 101,
   "id": "298313fb",
   "metadata": {},
   "outputs": [],
   "source": [
    "# Your Code Here"
   ]
  },
  {
   "cell_type": "code",
   "execution_count": 102,
   "id": "1b902006",
   "metadata": {},
   "outputs": [
    {
     "data": {
      "text/html": [
       "<div>\n",
       "<style scoped>\n",
       "    .dataframe tbody tr th:only-of-type {\n",
       "        vertical-align: middle;\n",
       "    }\n",
       "\n",
       "    .dataframe tbody tr th {\n",
       "        vertical-align: top;\n",
       "    }\n",
       "\n",
       "    .dataframe thead th {\n",
       "        text-align: right;\n",
       "    }\n",
       "</style>\n",
       "<table border=\"1\" class=\"dataframe\">\n",
       "  <thead>\n",
       "    <tr style=\"text-align: right;\">\n",
       "      <th></th>\n",
       "      <th>count</th>\n",
       "      <th>mean</th>\n",
       "      <th>std</th>\n",
       "      <th>min</th>\n",
       "      <th>25%</th>\n",
       "      <th>50%</th>\n",
       "      <th>75%</th>\n",
       "      <th>max</th>\n",
       "    </tr>\n",
       "    <tr>\n",
       "      <th>low_income</th>\n",
       "      <th></th>\n",
       "      <th></th>\n",
       "      <th></th>\n",
       "      <th></th>\n",
       "      <th></th>\n",
       "      <th></th>\n",
       "      <th></th>\n",
       "      <th></th>\n",
       "    </tr>\n",
       "  </thead>\n",
       "  <tbody>\n",
       "    <tr>\n",
       "      <th>False</th>\n",
       "      <td>9.0</td>\n",
       "      <td>13201.651239</td>\n",
       "      <td>4642.051219</td>\n",
       "      <td>8763.159160</td>\n",
       "      <td>11156.462585</td>\n",
       "      <td>11491.090147</td>\n",
       "      <td>11927.290837</td>\n",
       "      <td>23396.880416</td>\n",
       "    </tr>\n",
       "    <tr>\n",
       "      <th>True</th>\n",
       "      <td>11.0</td>\n",
       "      <td>18953.298006</td>\n",
       "      <td>16773.377931</td>\n",
       "      <td>11337.778549</td>\n",
       "      <td>11877.376066</td>\n",
       "      <td>12960.260068</td>\n",
       "      <td>16415.032077</td>\n",
       "      <td>68421.052632</td>\n",
       "    </tr>\n",
       "  </tbody>\n",
       "</table>\n",
       "</div>"
      ],
      "text/plain": [
       "            count          mean           std           min           25%  \\\n",
       "low_income                                                                  \n",
       "False         9.0  13201.651239   4642.051219   8763.159160  11156.462585   \n",
       "True         11.0  18953.298006  16773.377931  11337.778549  11877.376066   \n",
       "\n",
       "                     50%           75%           max  \n",
       "low_income                                            \n",
       "False       11491.090147  11927.290837  23396.880416  \n",
       "True        12960.260068  16415.032077  68421.052632  "
      ]
     },
     "execution_count": 102,
     "metadata": {},
     "output_type": "execute_result"
    }
   ],
   "source": [
    "total_cases.groupby('low_income')['cases_per_100000'].describe()"
   ]
  },
  {
   "cell_type": "code",
   "execution_count": 105,
   "id": "d21a15b7",
   "metadata": {},
   "outputs": [
    {
     "data": {
      "image/png": "[encoded data removed]",
      "text/plain": [
       "<Figure size 432x288 with 1 Axes>"
      ]
     },
     "metadata": {
      "needs_background": "light"
     },
     "output_type": "display_data"
    }
   ],
   "source": [
    "sns.boxplot(data = total_cases, x = 'low_income', y = 'cases_per_100000')\n",
    "\n",
    "plt.ylim(0, 25000);"
   ]
  },
  {
   "cell_type": "markdown",
   "id": "9af633bc",
   "metadata": {},
   "source": [
    "**Question:** Does there appear to be any relationship between a zip code's pct_white value and cases_per_100000 value?"
   ]
  },
  {
   "cell_type": "code",
   "execution_count": 112,
   "id": "3a448799",
   "metadata": {},
   "outputs": [],
   "source": [
    "# Your Code Here"
   ]
  },
  {
   "cell_type": "code",
   "execution_count": 106,
   "id": "d7327224",
   "metadata": {},
   "outputs": [
    {
     "data": {
      "text/html": [
       "<div>\n",
       "<style scoped>\n",
       "    .dataframe tbody tr th:only-of-type {\n",
       "        vertical-align: middle;\n",
       "    }\n",
       "\n",
       "    .dataframe tbody tr th {\n",
       "        vertical-align: top;\n",
       "    }\n",
       "\n",
       "    .dataframe thead th {\n",
       "        text-align: right;\n",
       "    }\n",
       "</style>\n",
       "<table border=\"1\" class=\"dataframe\">\n",
       "  <thead>\n",
       "    <tr style=\"text-align: right;\">\n",
       "      <th></th>\n",
       "      <th>pct_white</th>\n",
       "      <th>cases_per_100000</th>\n",
       "    </tr>\n",
       "  </thead>\n",
       "  <tbody>\n",
       "    <tr>\n",
       "      <th>pct_white</th>\n",
       "      <td>1.000000</td>\n",
       "      <td>0.249515</td>\n",
       "    </tr>\n",
       "    <tr>\n",
       "      <th>cases_per_100000</th>\n",
       "      <td>0.249515</td>\n",
       "      <td>1.000000</td>\n",
       "    </tr>\n",
       "  </tbody>\n",
       "</table>\n",
       "</div>"
      ],
      "text/plain": [
       "                  pct_white  cases_per_100000\n",
       "pct_white          1.000000          0.249515\n",
       "cases_per_100000   0.249515          1.000000"
      ]
     },
     "execution_count": 106,
     "metadata": {},
     "output_type": "execute_result"
    }
   ],
   "source": [
    "total_cases[['pct_white', 'cases_per_100000']].corr()"
   ]
  },
  {
   "cell_type": "code",
   "execution_count": 110,
   "id": "d300a34c",
   "metadata": {},
   "outputs": [
    {
     "data": {
      "image/png": "[encoded data removed]",
      "text/plain": [
       "<Figure size 432x288 with 1 Axes>"
      ]
     },
     "metadata": {
      "needs_background": "light"
     },
     "output_type": "display_data"
    }
   ],
   "source": [
    "total_cases.plot(kind = 'scatter',\n",
    "                x = 'pct_white',\n",
    "                y = 'cases_per_100000');"
   ]
  }
 ],
 "metadata": {
  "kernelspec": {
   "display_name": "Python 3",
   "language": "python",
   "name": "python3"
  },
  "language_info": {
   "codemirror_mode": {
    "name": "ipython",
    "version": 3
   },
   "file_extension": ".py",
   "mimetype": "text/x-python",
   "name": "python",
   "nbconvert_exporter": "python",
   "pygments_lexer": "ipython3",
   "version": "3.8.3"
  }
 },
 "nbformat": 4,
 "nbformat_minor": 5
}
