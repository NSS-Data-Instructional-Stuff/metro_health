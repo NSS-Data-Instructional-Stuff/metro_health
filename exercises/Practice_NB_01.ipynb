{
 "cells": [
  {
   "cell_type": "code",
   "execution_count": null,
   "id": "2b8a680c",
   "metadata": {},
   "outputs": [],
   "source": [
    "import pandas as pd"
   ]
  },
  {
   "cell_type": "markdown",
   "id": "29b80ab1",
   "metadata": {},
   "source": [
    "First, import the vaccines dataset. Fill in the file path to import your data."
   ]
  },
  {
   "cell_type": "code",
   "execution_count": null,
   "id": "982026db",
   "metadata": {},
   "outputs": [],
   "source": [
    "vaccines = pd.read_csv(# Fill this in )"
   ]
  },
  {
   "cell_type": "markdown",
   "id": "dc0bad0c",
   "metadata": {},
   "source": [
    "**Question:** How many rows and columns are contained in this dataset?"
   ]
  },
  {
   "cell_type": "code",
   "execution_count": null,
   "id": "89033b71",
   "metadata": {},
   "outputs": [],
   "source": [
    "# Your Code Here\n"
   ]
  },
  {
   "cell_type": "markdown",
   "id": "544dfa52",
   "metadata": {},
   "source": [
    "**Question:** What columns does the dataset have? What datatypes do these columns have? Are there any missing values?"
   ]
  },
  {
   "cell_type": "code",
   "execution_count": null,
   "id": "b6efd3c2",
   "metadata": {},
   "outputs": [],
   "source": [
    "# Your Code Here\n"
   ]
  },
  {
   "cell_type": "markdown",
   "id": "428aa6f5",
   "metadata": {},
   "source": [
    "We don't really need the recordid column, as it doesn't provide any additional information. Drop this column from the dataframe."
   ]
  },
  {
   "cell_type": "code",
   "execution_count": null,
   "id": "5fdb236f",
   "metadata": {},
   "outputs": [],
   "source": [
    "# Your Code Here\n"
   ]
  },
  {
   "cell_type": "markdown",
   "id": "062bd735",
   "metadata": {},
   "source": [
    "Column names with spaces can be cumbersome to work with, so let's replace them. Use the following columns names: `'vacc_date','zipcode','count_given','dose_nbr','protocol'`."
   ]
  },
  {
   "cell_type": "code",
   "execution_count": null,
   "id": "e3b4eb28",
   "metadata": {},
   "outputs": [],
   "source": [
    "# Your Code Here\n"
   ]
  },
  {
   "cell_type": "markdown",
   "id": "c0491fb7",
   "metadata": {},
   "source": [
    "**Question:** How many days does this dataset cover?"
   ]
  },
  {
   "cell_type": "code",
   "execution_count": null,
   "id": "e3b54415",
   "metadata": {},
   "outputs": [],
   "source": [
    "# Your Code Here\n"
   ]
  },
  {
   "cell_type": "markdown",
   "id": "e18e7b2e",
   "metadata": {},
   "source": [
    "**Question:** How many total zip codes are included in this dataset?"
   ]
  },
  {
   "cell_type": "code",
   "execution_count": null,
   "id": "c68027f2",
   "metadata": {},
   "outputs": [],
   "source": [
    "# Your Code Here\n"
   ]
  },
  {
   "cell_type": "markdown",
   "id": "deaab2ad",
   "metadata": {},
   "source": [
    "**Question:** Which zip code or zip codes have the most days with at least one second-round dose? Which have the fewest?"
   ]
  },
  {
   "cell_type": "code",
   "execution_count": 24,
   "id": "037984ca",
   "metadata": {},
   "outputs": [],
   "source": [
    "# Your Code Here\n"
   ]
  },
  {
   "cell_type": "markdown",
   "id": "6cafe035",
   "metadata": {},
   "source": [
    "Nashville's most populous zip code is 37013.  \n",
    "**Question:** How many rows in the dataframe correspond to zip code 37013?"
   ]
  },
  {
   "cell_type": "code",
   "execution_count": 25,
   "id": "ec8295b8",
   "metadata": {},
   "outputs": [],
   "source": [
    "# Your Code Here\n"
   ]
  },
  {
   "cell_type": "markdown",
   "id": "9587f228",
   "metadata": {},
   "source": [
    "**Question:** When did the first people get their second dose in 37013?"
   ]
  },
  {
   "cell_type": "code",
   "execution_count": null,
   "id": "802b6036",
   "metadata": {},
   "outputs": [],
   "source": [
    "# Your Code Here\n"
   ]
  }
 ],
 "metadata": {
  "kernelspec": {
   "display_name": "Python 3",
   "language": "python",
   "name": "python3"
  },
  "language_info": {
   "codemirror_mode": {
    "name": "ipython",
    "version": 3
   },
   "file_extension": ".py",
   "mimetype": "text/x-python",
   "name": "python",
   "nbconvert_exporter": "python",
   "pygments_lexer": "ipython3",
   "version": "3.8.3"
  }
 },
 "nbformat": 4,
 "nbformat_minor": 5
}
