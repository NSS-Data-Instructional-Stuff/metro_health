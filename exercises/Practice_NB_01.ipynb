{
 "cells": [
  {
   "cell_type": "code",
   "execution_count": 1,
   "id": "2b8a680c",
   "metadata": {},
   "outputs": [],
   "source": [
    "import pandas as pd\n",
    "import matplotlib.pyplot as plt"
   ]
  },
  {
   "cell_type": "markdown",
   "id": "29b80ab1",
   "metadata": {},
   "source": [
    "First, import the vaccines dataset. Fill in the file path to import your data."
   ]
  },
  {
   "cell_type": "code",
   "execution_count": null,
   "id": "982026db",
   "metadata": {},
   "outputs": [],
   "source": [
    "vaccines = pd.read_csv(# Fill this in )"
   ]
  },
  {
   "cell_type": "code",
   "execution_count": 22,
   "id": "d977619e",
   "metadata": {},
   "outputs": [],
   "source": [
    "vaccines = pd.read_csv('../nash-covid-cases-vaccines/data/vaccine_with_protocol.csv')"
   ]
  },
  {
   "cell_type": "markdown",
   "id": "dc0bad0c",
   "metadata": {},
   "source": [
    "**Question:** How many rows and columns are contained in this dataset?"
   ]
  },
  {
   "cell_type": "code",
   "execution_count": null,
   "id": "89033b71",
   "metadata": {},
   "outputs": [],
   "source": [
    "# Your Code Here\n"
   ]
  },
  {
   "cell_type": "code",
   "execution_count": 3,
   "id": "8312c261",
   "metadata": {},
   "outputs": [
    {
     "data": {
      "text/html": [
       "<div>\n",
       "<style scoped>\n",
       "    .dataframe tbody tr th:only-of-type {\n",
       "        vertical-align: middle;\n",
       "    }\n",
       "\n",
       "    .dataframe tbody tr th {\n",
       "        vertical-align: top;\n",
       "    }\n",
       "\n",
       "    .dataframe thead th {\n",
       "        text-align: right;\n",
       "    }\n",
       "</style>\n",
       "<table border=\"1\" class=\"dataframe\">\n",
       "  <thead>\n",
       "    <tr style=\"text-align: right;\">\n",
       "      <th></th>\n",
       "      <th>vacc_date</th>\n",
       "      <th>zipcode</th>\n",
       "      <th>count_given</th>\n",
       "      <th>dose_nbr</th>\n",
       "      <th>protocol</th>\n",
       "    </tr>\n",
       "  </thead>\n",
       "  <tbody>\n",
       "    <tr>\n",
       "      <th>0</th>\n",
       "      <td>2020-12-12</td>\n",
       "      <td>37215.0</td>\n",
       "      <td>1.0</td>\n",
       "      <td>1.0</td>\n",
       "      <td>two-shot</td>\n",
       "    </tr>\n",
       "    <tr>\n",
       "      <th>1</th>\n",
       "      <td>2020-12-14</td>\n",
       "      <td>37205.0</td>\n",
       "      <td>1.0</td>\n",
       "      <td>2.0</td>\n",
       "      <td>two-shot</td>\n",
       "    </tr>\n",
       "    <tr>\n",
       "      <th>2</th>\n",
       "      <td>2020-12-14</td>\n",
       "      <td>37215.0</td>\n",
       "      <td>1.0</td>\n",
       "      <td>1.0</td>\n",
       "      <td>two-shot</td>\n",
       "    </tr>\n",
       "    <tr>\n",
       "      <th>3</th>\n",
       "      <td>2020-12-15</td>\n",
       "      <td>37221.0</td>\n",
       "      <td>1.0</td>\n",
       "      <td>1.0</td>\n",
       "      <td>two-shot</td>\n",
       "    </tr>\n",
       "    <tr>\n",
       "      <th>4</th>\n",
       "      <td>2020-12-16</td>\n",
       "      <td>37215.0</td>\n",
       "      <td>1.0</td>\n",
       "      <td>1.0</td>\n",
       "      <td>two-shot</td>\n",
       "    </tr>\n",
       "  </tbody>\n",
       "</table>\n",
       "</div>"
      ],
      "text/plain": [
       "    vacc_date  zipcode  count_given  dose_nbr  protocol\n",
       "0  2020-12-12  37215.0          1.0       1.0  two-shot\n",
       "1  2020-12-14  37205.0          1.0       2.0  two-shot\n",
       "2  2020-12-14  37215.0          1.0       1.0  two-shot\n",
       "3  2020-12-15  37221.0          1.0       1.0  two-shot\n",
       "4  2020-12-16  37215.0          1.0       1.0  two-shot"
      ]
     },
     "execution_count": 3,
     "metadata": {},
     "output_type": "execute_result"
    }
   ],
   "source": [
    "vaccines.head()"
   ]
  },
  {
   "cell_type": "markdown",
   "id": "544dfa52",
   "metadata": {},
   "source": [
    "**Question:** What columns does the dataset have? What datatypes do these columns have? Are there any missing values?"
   ]
  },
  {
   "cell_type": "code",
   "execution_count": 5,
   "id": "b6efd3c2",
   "metadata": {},
   "outputs": [],
   "source": [
    "# Your Code Here"
   ]
  },
  {
   "cell_type": "code",
   "execution_count": 4,
   "id": "50eeb486",
   "metadata": {},
   "outputs": [
    {
     "name": "stdout",
     "output_type": "stream",
     "text": [
      "<class 'pandas.core.frame.DataFrame'>\n",
      "RangeIndex: 6694 entries, 0 to 6693\n",
      "Data columns (total 5 columns):\n",
      " #   Column       Non-Null Count  Dtype  \n",
      "---  ------       --------------  -----  \n",
      " 0   vacc_date    6694 non-null   object \n",
      " 1   zipcode      6462 non-null   float64\n",
      " 2   count_given  6686 non-null   float64\n",
      " 3   dose_nbr     6686 non-null   float64\n",
      " 4   protocol     6694 non-null   object \n",
      "dtypes: float64(3), object(2)\n",
      "memory usage: 261.6+ KB\n"
     ]
    }
   ],
   "source": [
    "vaccines.info()"
   ]
  },
  {
   "cell_type": "markdown",
   "id": "428aa6f5",
   "metadata": {},
   "source": [
    "We don't really need the id column, as it doesn't provide any additional information. Drop this column from the dataframe."
   ]
  },
  {
   "cell_type": "code",
   "execution_count": 6,
   "id": "5fdb236f",
   "metadata": {},
   "outputs": [],
   "source": [
    "# Your Code Here"
   ]
  },
  {
   "cell_type": "markdown",
   "id": "c0491fb7",
   "metadata": {},
   "source": [
    "**Question:** How many days does this dataset cover?"
   ]
  },
  {
   "cell_type": "code",
   "execution_count": 20,
   "id": "e3b54415",
   "metadata": {},
   "outputs": [],
   "source": [
    "# Your Code Here"
   ]
  },
  {
   "cell_type": "code",
   "execution_count": 18,
   "id": "7aa33f3f",
   "metadata": {},
   "outputs": [
    {
     "data": {
      "text/plain": [
       "116"
      ]
     },
     "execution_count": 18,
     "metadata": {},
     "output_type": "execute_result"
    }
   ],
   "source": [
    "vaccines['vacc_date'].nunique()"
   ]
  },
  {
   "cell_type": "code",
   "execution_count": 19,
   "id": "498c7d96",
   "metadata": {},
   "outputs": [
    {
     "data": {
      "text/plain": [
       "array(['2020-12-12', '2020-12-14', '2020-12-15', '2020-12-16',\n",
       "       '2020-12-17', '2020-12-18', '2020-12-19', '2020-12-20',\n",
       "       '2020-12-21', '2020-12-22', '2020-12-23', '2020-12-24',\n",
       "       '2020-12-25', '2020-12-26', '2020-12-27', '2020-12-28',\n",
       "       '2020-12-29', '2020-12-30', '2020-12-31', '2021-01-01',\n",
       "       '2021-01-02', '2021-01-03', '2021-01-04', '2021-01-05',\n",
       "       '2021-01-06', '2021-01-07', '2021-01-08', '2021-01-09',\n",
       "       '2021-01-10', '2021-01-11', '2021-01-12', '2021-01-13',\n",
       "       '2021-01-14', '2021-01-15', '2021-01-16', '2021-01-17',\n",
       "       '2021-01-18', '2021-01-19', '2021-01-20', '2021-01-21',\n",
       "       '2021-01-22', '2021-01-23', '2021-01-24', '2021-01-25',\n",
       "       '2021-01-26', '2021-01-27', '2021-01-28', '2021-01-29',\n",
       "       '2021-01-30', '2021-01-31', '2021-02-01', '2021-02-02',\n",
       "       '2021-02-03', '2021-02-04', '2021-02-05', '2021-02-06',\n",
       "       '2021-02-07', '2021-02-08', '2021-02-09', '2021-02-10',\n",
       "       '2021-02-11', '2021-02-12', '2021-02-13', '2021-02-14',\n",
       "       '2021-02-15', '2021-02-16', '2021-02-17', '2021-02-18',\n",
       "       '2021-02-19', '2021-02-20', '2021-02-21', '2021-02-22',\n",
       "       '2021-02-23', '2021-02-24', '2021-02-25', '2021-02-26',\n",
       "       '2021-02-27', '2021-02-28', '2021-03-01', '2021-03-02',\n",
       "       '2021-03-03', '2021-03-04', '2021-03-05', '2021-03-06',\n",
       "       '2021-03-07', '2021-03-08', '2021-03-09', '2021-03-10',\n",
       "       '2021-03-11', '2021-03-12', '2021-03-13', '2021-03-14',\n",
       "       '2021-03-15', '2021-03-16', '2021-03-17', '2021-03-18',\n",
       "       '2021-03-19', '2021-03-20', '2021-03-21', '2021-03-22',\n",
       "       '2021-03-23', '2021-03-24', '2021-03-25', '2021-03-26',\n",
       "       '2021-03-27', '2021-03-28', '2021-03-29', '2021-03-30',\n",
       "       '2021-03-31', '2021-04-01', '2021-04-02', '2021-04-03',\n",
       "       '2021-04-04', '2021-04-05', '2021-04-06', '2021-04-07'],\n",
       "      dtype=object)"
      ]
     },
     "execution_count": 19,
     "metadata": {},
     "output_type": "execute_result"
    }
   ],
   "source": [
    "vaccines['vacc_date'].unique()"
   ]
  },
  {
   "cell_type": "markdown",
   "id": "e18e7b2e",
   "metadata": {},
   "source": [
    "**Question:** How many total zip codes are included in this dataset?"
   ]
  },
  {
   "cell_type": "code",
   "execution_count": null,
   "id": "c68027f2",
   "metadata": {},
   "outputs": [],
   "source": [
    "# Your Code Here\n"
   ]
  },
  {
   "cell_type": "markdown",
   "id": "deaab2ad",
   "metadata": {},
   "source": [
    "**Question:** Which zip code or zipcodes have the most days with at least one second-round dose? Which have the fewest?"
   ]
  },
  {
   "cell_type": "code",
   "execution_count": null,
   "id": "037984ca",
   "metadata": {},
   "outputs": [],
   "source": [
    "# Your Code Here\n"
   ]
  },
  {
   "cell_type": "code",
   "execution_count": 16,
   "id": "0bcf8b44",
   "metadata": {},
   "outputs": [
    {
     "data": {
      "text/plain": [
       "37209.0    102\n",
       "37215.0    102\n",
       "37205.0    101\n",
       "37221.0     99\n",
       "37204.0     99\n",
       "37206.0     98\n",
       "37212.0     98\n",
       "37211.0     98\n",
       "37076.0     98\n",
       "37203.0     97\n",
       "37208.0     96\n",
       "37207.0     96\n",
       "37216.0     95\n",
       "37115.0     95\n",
       "37072.0     95\n",
       "37214.0     95\n",
       "37220.0     94\n",
       "37013.0     94\n",
       "37217.0     93\n",
       "37138.0     92\n",
       "37080.0     91\n",
       "37218.0     91\n",
       "37210.0     91\n",
       "37189.0     88\n",
       "37219.0     79\n",
       "37228.0     78\n",
       "37201.0     72\n",
       "37027.0     47\n",
       "37213.0     25\n",
       "37069.0     24\n",
       "37238.0      2\n",
       "Name: zipcode, dtype: int64"
      ]
     },
     "execution_count": 16,
     "metadata": {},
     "output_type": "execute_result"
    }
   ],
   "source": [
    "vaccines.loc[(vaccines.dose_nbr == 2)]['zipcode'].value_counts()"
   ]
  },
  {
   "cell_type": "markdown",
   "id": "6cafe035",
   "metadata": {},
   "source": [
    "Nashville's most populous zip code is 37013. **Question:** How many rows in the dataframe correspond to this zip code 37013?"
   ]
  },
  {
   "cell_type": "code",
   "execution_count": 21,
   "id": "ec8295b8",
   "metadata": {},
   "outputs": [],
   "source": [
    "# Your Code Here"
   ]
  },
  {
   "cell_type": "markdown",
   "id": "9587f228",
   "metadata": {},
   "source": [
    "**Question:** What is the first day for with a positive count for dose number 2 in zipcode 37013?"
   ]
  },
  {
   "cell_type": "code",
   "execution_count": 7,
   "id": "802b6036",
   "metadata": {},
   "outputs": [],
   "source": [
    "# Your Code Here"
   ]
  },
  {
   "cell_type": "code",
   "execution_count": 14,
   "id": "9b362031",
   "metadata": {},
   "outputs": [
    {
     "data": {
      "text/html": [
       "<div>\n",
       "<style scoped>\n",
       "    .dataframe tbody tr th:only-of-type {\n",
       "        vertical-align: middle;\n",
       "    }\n",
       "\n",
       "    .dataframe tbody tr th {\n",
       "        vertical-align: top;\n",
       "    }\n",
       "\n",
       "    .dataframe thead th {\n",
       "        text-align: right;\n",
       "    }\n",
       "</style>\n",
       "<table border=\"1\" class=\"dataframe\">\n",
       "  <thead>\n",
       "    <tr style=\"text-align: right;\">\n",
       "      <th></th>\n",
       "      <th>vacc_date</th>\n",
       "      <th>zipcode</th>\n",
       "      <th>count_given</th>\n",
       "      <th>dose_nbr</th>\n",
       "      <th>protocol</th>\n",
       "    </tr>\n",
       "  </thead>\n",
       "  <tbody>\n",
       "    <tr>\n",
       "      <th>51</th>\n",
       "      <td>2020-12-18</td>\n",
       "      <td>37212.0</td>\n",
       "      <td>1.0</td>\n",
       "      <td>2.0</td>\n",
       "      <td>two-shot</td>\n",
       "    </tr>\n",
       "    <tr>\n",
       "      <th>129</th>\n",
       "      <td>2020-12-20</td>\n",
       "      <td>37212.0</td>\n",
       "      <td>1.0</td>\n",
       "      <td>2.0</td>\n",
       "      <td>two-shot</td>\n",
       "    </tr>\n",
       "    <tr>\n",
       "      <th>232</th>\n",
       "      <td>2020-12-23</td>\n",
       "      <td>37212.0</td>\n",
       "      <td>1.0</td>\n",
       "      <td>2.0</td>\n",
       "      <td>two-shot</td>\n",
       "    </tr>\n",
       "    <tr>\n",
       "      <th>417</th>\n",
       "      <td>2020-12-29</td>\n",
       "      <td>37212.0</td>\n",
       "      <td>1.0</td>\n",
       "      <td>2.0</td>\n",
       "      <td>two-shot</td>\n",
       "    </tr>\n",
       "    <tr>\n",
       "      <th>525</th>\n",
       "      <td>2021-01-01</td>\n",
       "      <td>37212.0</td>\n",
       "      <td>1.0</td>\n",
       "      <td>2.0</td>\n",
       "      <td>two-shot</td>\n",
       "    </tr>\n",
       "    <tr>\n",
       "      <th>...</th>\n",
       "      <td>...</td>\n",
       "      <td>...</td>\n",
       "      <td>...</td>\n",
       "      <td>...</td>\n",
       "      <td>...</td>\n",
       "    </tr>\n",
       "    <tr>\n",
       "      <th>6355</th>\n",
       "      <td>2021-04-03</td>\n",
       "      <td>37212.0</td>\n",
       "      <td>9.0</td>\n",
       "      <td>2.0</td>\n",
       "      <td>two-shot</td>\n",
       "    </tr>\n",
       "    <tr>\n",
       "      <th>6424</th>\n",
       "      <td>2021-04-04</td>\n",
       "      <td>37212.0</td>\n",
       "      <td>8.0</td>\n",
       "      <td>2.0</td>\n",
       "      <td>two-shot</td>\n",
       "    </tr>\n",
       "    <tr>\n",
       "      <th>6500</th>\n",
       "      <td>2021-04-05</td>\n",
       "      <td>37212.0</td>\n",
       "      <td>45.0</td>\n",
       "      <td>2.0</td>\n",
       "      <td>two-shot</td>\n",
       "    </tr>\n",
       "    <tr>\n",
       "      <th>6583</th>\n",
       "      <td>2021-04-06</td>\n",
       "      <td>37212.0</td>\n",
       "      <td>70.0</td>\n",
       "      <td>2.0</td>\n",
       "      <td>two-shot</td>\n",
       "    </tr>\n",
       "    <tr>\n",
       "      <th>6664</th>\n",
       "      <td>2021-04-07</td>\n",
       "      <td>37212.0</td>\n",
       "      <td>18.0</td>\n",
       "      <td>2.0</td>\n",
       "      <td>two-shot</td>\n",
       "    </tr>\n",
       "  </tbody>\n",
       "</table>\n",
       "<p>98 rows × 5 columns</p>\n",
       "</div>"
      ],
      "text/plain": [
       "       vacc_date  zipcode  count_given  dose_nbr  protocol\n",
       "51    2020-12-18  37212.0          1.0       2.0  two-shot\n",
       "129   2020-12-20  37212.0          1.0       2.0  two-shot\n",
       "232   2020-12-23  37212.0          1.0       2.0  two-shot\n",
       "417   2020-12-29  37212.0          1.0       2.0  two-shot\n",
       "525   2021-01-01  37212.0          1.0       2.0  two-shot\n",
       "...          ...      ...          ...       ...       ...\n",
       "6355  2021-04-03  37212.0          9.0       2.0  two-shot\n",
       "6424  2021-04-04  37212.0          8.0       2.0  two-shot\n",
       "6500  2021-04-05  37212.0         45.0       2.0  two-shot\n",
       "6583  2021-04-06  37212.0         70.0       2.0  two-shot\n",
       "6664  2021-04-07  37212.0         18.0       2.0  two-shot\n",
       "\n",
       "[98 rows x 5 columns]"
      ]
     },
     "execution_count": 14,
     "metadata": {},
     "output_type": "execute_result"
    }
   ],
   "source": [
    "vaccines.loc[(vaccines.zipcode == 37212) & \n",
    "            (vaccines.dose_nbr == 2)]"
   ]
  }
 ],
 "metadata": {
  "kernelspec": {
   "display_name": "Python 3",
   "language": "python",
   "name": "python3"
  },
  "language_info": {
   "codemirror_mode": {
    "name": "ipython",
    "version": 3
   },
   "file_extension": ".py",
   "mimetype": "text/x-python",
   "name": "python",
   "nbconvert_exporter": "python",
   "pygments_lexer": "ipython3",
   "version": "3.8.3"
  }
 },
 "nbformat": 4,
 "nbformat_minor": 5
}
