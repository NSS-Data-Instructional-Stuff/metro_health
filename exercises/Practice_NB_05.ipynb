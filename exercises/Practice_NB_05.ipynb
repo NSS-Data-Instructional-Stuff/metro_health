{
 "cells": [
  {
   "cell_type": "markdown",
   "id": "5a8a2b50",
   "metadata": {},
   "source": [
    "In this notebook, you'll create a choropleth showing the total number of COVID cases per zip code and the number of cases per 100,000 residents."
   ]
  },
  {
   "cell_type": "code",
   "execution_count": null,
   "id": "1dedd5fe",
   "metadata": {},
   "outputs": [],
   "source": [
    "import folium\n",
    "import pandas as pd"
   ]
  },
  {
   "cell_type": "markdown",
   "id": "84fa556c",
   "metadata": {},
   "source": [
    "**Step 1:** Read in the file total_cases.csv that you saved last week."
   ]
  },
  {
   "cell_type": "code",
   "execution_count": null,
   "id": "94d0e4a4",
   "metadata": {},
   "outputs": [],
   "source": [
    "# Your Code Here"
   ]
  },
  {
   "cell_type": "markdown",
   "id": "154a02d2",
   "metadata": {},
   "source": [
    "**Step 2:** So that we'll be able to match up the zip codes in the DataFrame and the geojson, you'll need to convert the DataFrame values to strings."
   ]
  },
  {
   "cell_type": "code",
   "execution_count": 89,
   "id": "b88f8852",
   "metadata": {},
   "outputs": [],
   "source": [
    "# Your Code Here"
   ]
  },
  {
   "cell_type": "markdown",
   "id": "66153923",
   "metadata": {},
   "source": [
    "**Step 3:** Use the Zip Codes geojson file to build a choropleth showing the total cases per zip code. You have been provided coordinates for Nashville to get you started."
   ]
  },
  {
   "cell_type": "code",
   "execution_count": 91,
   "id": "fc3df877",
   "metadata": {},
   "outputs": [],
   "source": [
    "nashville = [36.1636,-86.7823]\n",
    "\n",
    "m = folium.Map(location=nashville, zoom_start=10)\n",
    "\n",
    "# Fill in the rest"
   ]
  },
  {
   "cell_type": "markdown",
   "id": "9de468e4",
   "metadata": {},
   "source": [
    "**Step 4:** Now, build a choropleth showing the number of cases per 100,000 residents."
   ]
  },
  {
   "cell_type": "code",
   "execution_count": null,
   "id": "8c2c1cf6",
   "metadata": {},
   "outputs": [],
   "source": [
    "# Your Code Here"
   ]
  },
  {
   "cell_type": "markdown",
   "id": "57f71ec9",
   "metadata": {},
   "source": [
    "**Step 5:** This map is not very effective since there is one zip code that has a disproportionatly large calculated cases_per_100000. To remedy this, you can exclude that zip code from your data. Do this and see how the resulting choropleth looks."
   ]
  },
  {
   "cell_type": "code",
   "execution_count": 93,
   "id": "835a885c",
   "metadata": {},
   "outputs": [],
   "source": [
    "# Your Code Here"
   ]
  }
 ],
 "metadata": {
  "kernelspec": {
   "display_name": "Python 3",
   "language": "python",
   "name": "python3"
  },
  "language_info": {
   "codemirror_mode": {
    "name": "ipython",
    "version": 3
   },
   "file_extension": ".py",
   "mimetype": "text/x-python",
   "name": "python",
   "nbconvert_exporter": "python",
   "pygments_lexer": "ipython3",
   "version": "3.8.3"
  }
 },
 "nbformat": 4,
 "nbformat_minor": 5
}
