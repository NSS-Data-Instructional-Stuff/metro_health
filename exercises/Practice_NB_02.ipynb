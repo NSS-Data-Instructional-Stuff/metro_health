{
 "cells": [
  {
   "cell_type": "markdown",
   "id": "71fa227e",
   "metadata": {},
   "source": [
    "First, import the _pandas_ library with its usual alias, `pd`.\n",
    "\n",
    "Also, import the _pyplot_ module of the _matplotlib_ library with alias `plt`."
   ]
  },
  {
   "cell_type": "code",
   "execution_count": null,
   "id": "2b8a680c",
   "metadata": {},
   "outputs": [],
   "source": [
    "# Fill in the imports"
   ]
  },
  {
   "cell_type": "markdown",
   "id": "29b80ab1",
   "metadata": {},
   "source": [
    "Next, import the vaccines data (contained in the file `COVID_CountByZipPerDate 03292021.csv` in the `data` folder. Save it in a DataFrame named `cases`."
   ]
  },
  {
   "cell_type": "code",
   "execution_count": null,
   "id": "982026db",
   "metadata": {},
   "outputs": [],
   "source": [
    "# Your code here"
   ]
  },
  {
   "cell_type": "markdown",
   "id": "16143429",
   "metadata": {},
   "source": [
    "Take a look at this DataFrame so that you have an understanding of how it is structured."
   ]
  },
  {
   "cell_type": "code",
   "execution_count": null,
   "id": "7100b240",
   "metadata": {},
   "outputs": [],
   "source": [
    "cases"
   ]
  },
  {
   "cell_type": "markdown",
   "id": "ead958cb",
   "metadata": {},
   "source": [
    "**Question:** Which zip code has the highest total number of cases?"
   ]
  },
  {
   "cell_type": "code",
   "execution_count": 4,
   "id": "3840f2bf",
   "metadata": {},
   "outputs": [],
   "source": [
    "# Your code here"
   ]
  },
  {
   "cell_type": "markdown",
   "id": "3b4b7a94",
   "metadata": {},
   "source": [
    "Now, we're going to look at the overall trend in number of cases across the whole county.\n",
    "\n",
    "Start by aggregating to get a total count of cases per date (across all zip codes). Convert the result to a DataFrame named `total_cases`."
   ]
  },
  {
   "cell_type": "code",
   "execution_count": null,
   "id": "ba3757b9",
   "metadata": {},
   "outputs": [],
   "source": [
    "# Your code here"
   ]
  },
  {
   "cell_type": "markdown",
   "id": "f3d1812d",
   "metadata": {},
   "source": [
    "Convert the Specimen Collection Date column to the datetime type."
   ]
  },
  {
   "cell_type": "code",
   "execution_count": null,
   "id": "5d5ac612",
   "metadata": {},
   "outputs": [],
   "source": [
    "# Your code here"
   ]
  },
  {
   "cell_type": "markdown",
   "id": "7e3edb65",
   "metadata": {},
   "source": [
    "Now, create a line chart showing the total number of cases per day."
   ]
  },
  {
   "cell_type": "code",
   "execution_count": 6,
   "id": "d30c8c61",
   "metadata": {},
   "outputs": [],
   "source": [
    "# Your code here"
   ]
  },
  {
   "cell_type": "markdown",
   "id": "14e2e3c8",
   "metadata": {},
   "source": [
    "Create a new column which contains the cumulative number of cases per day.\n",
    "\n",
    "**Note:** Be sure to sort the values by date prior to doing this calculation."
   ]
  },
  {
   "cell_type": "code",
   "execution_count": null,
   "id": "73368548",
   "metadata": {},
   "outputs": [],
   "source": [
    "# Your code here"
   ]
  },
  {
   "cell_type": "markdown",
   "id": "4d033113",
   "metadata": {},
   "source": [
    "Now, plot the results."
   ]
  },
  {
   "cell_type": "code",
   "execution_count": 7,
   "id": "7140c2fa",
   "metadata": {},
   "outputs": [],
   "source": [
    "# Your code here"
   ]
  },
  {
   "cell_type": "markdown",
   "id": "c955923b",
   "metadata": {},
   "source": [
    "Finally, let's compare the growth in number of cases across two zip codes - 37203 (the Gulch/West End area - an area with about 15,091 residents) and 37212 (Belmont/Hillsboro - an area with about 20,803 residents).\n",
    "\n",
    "**First,** create two dataframes, `cases_37203` and `cases_37212` containing the data for the two zip codes."
   ]
  },
  {
   "cell_type": "code",
   "execution_count": null,
   "id": "b885975c",
   "metadata": {},
   "outputs": [],
   "source": [
    "# Your code here."
   ]
  },
  {
   "cell_type": "markdown",
   "id": "9096991a",
   "metadata": {},
   "source": [
    "**Next,** create columns in each dataframe containing the cumulative counts. (Make sure that the date column is the correct type before doing this)."
   ]
  },
  {
   "cell_type": "code",
   "execution_count": null,
   "id": "b4820980",
   "metadata": {},
   "outputs": [],
   "source": [
    "# Your Code Here"
   ]
  },
  {
   "cell_type": "markdown",
   "id": "83051a6d",
   "metadata": {},
   "source": [
    "**Finaly,** plot the cumulative counts for each zip code on the same plot. What do you notice from this plot?"
   ]
  },
  {
   "cell_type": "code",
   "execution_count": null,
   "id": "ff17b9a6",
   "metadata": {},
   "outputs": [],
   "source": [
    "# Your Code Here"
   ]
  }
 ],
 "metadata": {
  "kernelspec": {
   "display_name": "Python 3",
   "language": "python",
   "name": "python3"
  },
  "language_info": {
   "codemirror_mode": {
    "name": "ipython",
    "version": 3
   },
   "file_extension": ".py",
   "mimetype": "text/x-python",
   "name": "python",
   "nbconvert_exporter": "python",
   "pygments_lexer": "ipython3",
   "version": "3.8.3"
  }
 },
 "nbformat": 4,
 "nbformat_minor": 5
}
