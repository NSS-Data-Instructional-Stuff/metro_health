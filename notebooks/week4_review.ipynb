{
 "cells": [
  {
   "cell_type": "code",
   "execution_count": null,
   "metadata": {},
   "outputs": [],
   "source": [
    "import pandas as pd\n",
    "import matplotlib.pyplot as plt\n",
    "import seaborn as sns\n",
    "import geopandas as gpd\n",
    "\n",
    "%matplotlib inline"
   ]
  },
  {
   "cell_type": "markdown",
   "metadata": {},
   "source": [
    "### Reading in and examining the heart attack cost disparities data"
   ]
  },
  {
   "cell_type": "code",
   "execution_count": null,
   "metadata": {},
   "outputs": [],
   "source": [
    "ha_costs_df = pd.read_csv('../data/mmd_heart_attack_data.csv') \n",
    "ha_costs_df.head(2)"
   ]
  },
  {
   "cell_type": "code",
   "execution_count": null,
   "metadata": {},
   "outputs": [],
   "source": [
    "tn_ha_costs = ha_costs_df.loc[ha_costs_df.state == 'TENNESSEE']\n",
    "tn_ha_costs.shape"
   ]
  },
  {
   "cell_type": "markdown",
   "metadata": {},
   "source": [
    "### Now examining the cancer data"
   ]
  },
  {
   "cell_type": "code",
   "execution_count": null,
   "metadata": {},
   "outputs": [],
   "source": [
    "cancer_costs_df = pd.read_csv('../data/mmd_cancer_data.csv')\n",
    "cancer_costs_df.head(2)"
   ]
  },
  {
   "cell_type": "code",
   "execution_count": null,
   "metadata": {},
   "outputs": [],
   "source": [
    "tn_cancer_costs = cancer_costs_df.loc[cancer_costs_df.state == 'TENNESSEE']\n",
    "tn_cancer_costs.shape"
   ]
  },
  {
   "cell_type": "markdown",
   "metadata": {},
   "source": [
    "### Getting the income data and cleaning it a bit"
   ]
  },
  {
   "cell_type": "code",
   "execution_count": null,
   "metadata": {},
   "outputs": [],
   "source": [
    "income_df = pd.read_csv('../data/irs_county_2016.csv')\n",
    "income_df.head(2)"
   ]
  },
  {
   "cell_type": "code",
   "execution_count": null,
   "metadata": {},
   "outputs": [],
   "source": [
    "tn_income = income_df.loc[income_df.STATE == 'TN']\n",
    "tn_income.head(2)"
   ]
  },
  {
   "cell_type": "code",
   "execution_count": null,
   "metadata": {},
   "outputs": [],
   "source": [
    "tn_income.shape"
   ]
  },
  {
   "cell_type": "code",
   "execution_count": null,
   "metadata": {},
   "outputs": [],
   "source": [
    "tn_income = tn_income[['STATE', 'COUNTYNAME', 'agi_stub', 'N1', 'mars1', 'MARS2', 'MARS4', 'N2', 'NUMDEP', 'ELDERLY', 'A00100', 'N02650', 'A02650', 'N02300', 'A02300']]"
   ]
  },
  {
   "cell_type": "code",
   "execution_count": null,
   "metadata": {},
   "outputs": [],
   "source": [
    "tn_income.columns = ['state', 'county', 'income_bucket', 'return_count', 'single_returns', 'joint_returns', 'head_of_house_returns', 'exemptions', 'dependents', 'elderly', 'agi', 'returns_with_total_inc','total_inc_amt', 'returns_with_unemployment', 'unemployment_comp']"
   ]
  },
  {
   "cell_type": "markdown",
   "metadata": {},
   "source": [
    "### Week two coding tasks\n",
    "#### Replacing coded values in the `income_bucket` column with descriptive text\n",
    "- create a dictionary mapping codes to descriptions\n",
    "- use `replace()` to update the df with text"
   ]
  },
  {
   "cell_type": "code",
   "execution_count": null,
   "metadata": {},
   "outputs": [],
   "source": [
    "income_dict = {0:'Total', 1: 'Under $1', 2: 'Between 1 and $10,000', 3: 'Between 10,000 and $25,000',\n",
    "              4: 'Between 25,000 and $50,000', 5: 'Between 50,000 and $75,000', \n",
    "               6: 'Between 75,000 and $100,000', 7: 'Between 100,000 and $200,000', \n",
    "               8:'$200,000 or more'}"
   ]
  },
  {
   "cell_type": "code",
   "execution_count": null,
   "metadata": {},
   "outputs": [],
   "source": [
    "tn_income.income_bucket = tn_income.income_bucket.replace(income_dict)\n",
    "tn_income.head(2)"
   ]
  },
  {
   "cell_type": "markdown",
   "metadata": {},
   "source": [
    "#### Creating a new df that aggregates by county to get the totals for each county"
   ]
  },
  {
   "cell_type": "code",
   "execution_count": null,
   "metadata": {},
   "outputs": [],
   "source": [
    "income_county_agg = tn_income.groupby('county').agg('sum').reset_index()\n",
    "income_county_agg.head(2)"
   ]
  },
  {
   "cell_type": "markdown",
   "metadata": {},
   "source": [
    "### Week 3 coding tasks"
   ]
  },
  {
   "cell_type": "markdown",
   "metadata": {},
   "source": [
    "#### Create a barplot to show the total number of returns for each bucket\n",
    "- first filter to use only the rows where the `county` is **Tennessee**"
   ]
  },
  {
   "cell_type": "code",
   "execution_count": null,
   "metadata": {},
   "outputs": [],
   "source": [
    "statewide_tn_income = tn_income.loc[tn_income.county == 'Tennessee']\n",
    "statewide_tn_income.head(2)"
   ]
  },
  {
   "cell_type": "code",
   "execution_count": null,
   "metadata": {},
   "outputs": [],
   "source": [
    "plt.bar('income_bucket', 'return_count', data = statewide_tn_income)\n",
    "plt.xticks(rotation = 90)\n",
    "plt.title('Number of Returns by Income Bucket');"
   ]
  },
  {
   "cell_type": "markdown",
   "metadata": {},
   "source": [
    "#### Create a new column: `avg_income`"
   ]
  },
  {
   "cell_type": "code",
   "execution_count": null,
   "metadata": {},
   "outputs": [],
   "source": [
    "income_county_agg['avg_income'] = round(income_county_agg.total_inc_amt * 1000 / income_county_agg.returns_with_total_inc, 0)\n",
    "income_county_agg.head(3)"
   ]
  },
  {
   "cell_type": "markdown",
   "metadata": {},
   "source": [
    "#### Create a histogram to show distribution of average incomes in the counties"
   ]
  },
  {
   "cell_type": "code",
   "execution_count": null,
   "metadata": {},
   "outputs": [],
   "source": [
    "income_county_agg = income_county_agg.loc[income_county_agg.county !='Tennessee']"
   ]
  },
  {
   "cell_type": "code",
   "execution_count": null,
   "metadata": {},
   "outputs": [],
   "source": [
    "income_county_agg.avg_income.hist(bins = 12)\n",
    "plt.title('Distribution of Average Incomes for TN Counties');"
   ]
  },
  {
   "cell_type": "markdown",
   "metadata": {},
   "source": [
    "#### Create boxplots and swarmplots for the `analysis_value` in cancer and heart attack data to compare urban and rural counties"
   ]
  },
  {
   "cell_type": "markdown",
   "metadata": {},
   "source": [
    "- cancer data"
   ]
  },
  {
   "cell_type": "code",
   "execution_count": null,
   "metadata": {},
   "outputs": [],
   "source": [
    "plt.figure(figsize = (8, 6))\n",
    "\n",
    "sns.boxplot(x = tn_cancer_costs.urban, y = tn_cancer_costs.analysis_value, order=[\"Urban\", \"Rural\"])\n",
    "plt.xlabel('')\n",
    "plt.ylabel('')\n",
    "plt.title('Cancer Analysis Value - Urban vs Rural');"
   ]
  },
  {
   "cell_type": "code",
   "execution_count": null,
   "metadata": {},
   "outputs": [],
   "source": [
    "sns.swarmplot(x = tn_cancer_costs.urban, y = tn_cancer_costs.analysis_value, order=[\"Urban\", \"Rural\"])\n",
    "plt.xlabel('')\n",
    "plt.ylabel('')\n",
    "plt.title('Cancer Analysis Value - Urban vs Rural');"
   ]
  },
  {
   "cell_type": "code",
   "execution_count": null,
   "metadata": {},
   "outputs": [],
   "source": [
    "sns.boxplot(x = tn_ha_costs.urban, y = tn_ha_costs.analysis_value, order=[\"Urban\", \"Rural\"])\n",
    "plt.xlabel('')\n",
    "plt.ylabel('')\n",
    "plt.title('Heart Attack Analysis Value - Urban vs Rural');"
   ]
  },
  {
   "cell_type": "code",
   "execution_count": null,
   "metadata": {},
   "outputs": [],
   "source": [
    "sns.swarmplot(x = tn_ha_costs.urban, y = tn_ha_costs.analysis_value, order=[\"Urban\", \"Rural\"])\n",
    "plt.xlabel('')\n",
    "plt.ylabel('')\n",
    "plt.title('Heart Attack Analysis Value - Urban vs Rural');"
   ]
  },
  {
   "cell_type": "markdown",
   "metadata": {},
   "source": [
    "#### Week 4 Coding Tasks\n",
    " - rename `analysis_value` columns in `tn_ha_costs` and `tn_cancer_costs`\n",
    " "
   ]
  },
  {
   "cell_type": "code",
   "execution_count": null,
   "metadata": {},
   "outputs": [],
   "source": [
    "tn_ha_costs.head(2)"
   ]
  },
  {
   "cell_type": "code",
   "execution_count": null,
   "metadata": {},
   "outputs": [],
   "source": [
    "tn_ha_costs = tn_ha_costs.rename(columns = {'analysis_value': 'ha_avg_cost'})\n",
    "tn_ha_costs.head(2)"
   ]
  },
  {
   "cell_type": "code",
   "execution_count": null,
   "metadata": {},
   "outputs": [],
   "source": [
    "tn_cancer_costs = tn_cancer_costs.rename(columns = {'analysis_value': 'cancer_avg_cost'})\n",
    "tn_cancer_costs.head(2)"
   ]
  },
  {
   "cell_type": "markdown",
   "metadata": {},
   "source": [
    "#### Create a new dataframe  `tn_df` \n",
    "- merge `county`, `urban`, and `ha_avg_cost` from `tn_ha_costs` with `county` and `cancer_avg_cost` from `tn_cancer_costs`\n",
    "- check that `tn_df` contains all counties"
   ]
  },
  {
   "cell_type": "code",
   "execution_count": null,
   "metadata": {},
   "outputs": [],
   "source": [
    "tn_cancer_costs.loc[~tn_cancer_costs.county.isin(tn_ha_costs.county)]"
   ]
  },
  {
   "cell_type": "markdown",
   "metadata": {},
   "source": [
    "##### There is no data for Hancock, Moore, Pickett, and Van Buren counties in the heart attack data"
   ]
  },
  {
   "cell_type": "code",
   "execution_count": null,
   "metadata": {},
   "outputs": [],
   "source": [
    "tn_cancer_cost_sub = tn_cancer_costs[['county', 'urban', 'cancer_avg_cost']]\n",
    "tn_ha_cost_sub = tn_ha_costs[['county', 'ha_avg_cost']]"
   ]
  },
  {
   "cell_type": "code",
   "execution_count": null,
   "metadata": {},
   "outputs": [],
   "source": [
    "tn_df = pd.merge(tn_ha_cost_sub, tn_cancer_cost_sub, on = 'county', how = 'inner')\n",
    "tn_df.head(3)"
   ]
  },
  {
   "cell_type": "code",
   "execution_count": null,
   "metadata": {},
   "outputs": [],
   "source": [
    "tn_df.county.nunique()"
   ]
  },
  {
   "cell_type": "code",
   "execution_count": null,
   "metadata": {},
   "outputs": [],
   "source": [
    "plt.figure(figsize = (8,6))\n",
    "plt.scatter(tn_df.cancer_avg_cost, tn_df.ha_avg_cost, marker = 'o')\n",
    "plt.title('One Year Cancer Costs vs One Year Heart Attack Costs')\n",
    "plt.xlabel('average annual cancer costs ($)')\n",
    "plt.ylabel('average annual heart attack costs ($)');"
   ]
  },
  {
   "cell_type": "markdown",
   "metadata": {},
   "source": [
    "- merge `avg_income` from `income_county_agg` with `tn_df` and save back to the `tn_df` variable  \n",
    "\n",
    "- create `ha_cost_income_ratio` (`ha_avg_cost` / `avg_income`)  \n",
    "\n",
    "- create `cancer_cost_income_ratio` (`cancer_avg_cost` / `avg_income`)"
   ]
  },
  {
   "cell_type": "code",
   "execution_count": null,
   "metadata": {},
   "outputs": [],
   "source": [
    "income_county_agg.head(2)"
   ]
  },
  {
   "cell_type": "code",
   "execution_count": null,
   "metadata": {},
   "outputs": [],
   "source": [
    "income_sub = income_county_agg[['county', 'avg_income']]\n",
    "tn_df = pd.merge(tn_df, income_sub, on = 'county', how = 'inner')\n",
    "tn_df.head(2)"
   ]
  },
  {
   "cell_type": "code",
   "execution_count": null,
   "metadata": {},
   "outputs": [],
   "source": [
    "tn_df['ha_cost_income_ratio'] = tn_df.ha_avg_cost / tn_df.avg_income\n",
    "tn_df['cancer_cost_income_ratio'] = tn_df.cancer_avg_cost / tn_df.avg_income\n",
    "tn_df.head()"
   ]
  },
  {
   "cell_type": "code",
   "execution_count": null,
   "metadata": {},
   "outputs": [],
   "source": [
    "counties = gpd.read_file('../data/county/tncounty.shp')\n",
    "counties.head(2)"
   ]
  },
  {
   "cell_type": "code",
   "execution_count": null,
   "metadata": {},
   "outputs": [],
   "source": [
    "counties.shape"
   ]
  },
  {
   "cell_type": "markdown",
   "metadata": {},
   "source": [
    "#### Before you can merge the `counties` GeoDataFrame with `tn_df` you need to drop the word `County` to get a match\n",
    " - one way to do this is using string slicing\n",
    " - remember to make sure the counties GeoDataFrame is on the left so that the result is a GeoDataFrame\n"
   ]
  },
  {
   "cell_type": "code",
   "execution_count": null,
   "metadata": {},
   "outputs": [],
   "source": [
    "tn_df['county2'] = tn_df.county.str[:-7]"
   ]
  },
  {
   "cell_type": "code",
   "execution_count": null,
   "metadata": {},
   "outputs": [],
   "source": [
    "geo_tn = pd.merge(counties, tn_df, left_on = 'NAME', right_on = 'county2')\n",
    "geo_tn.head(2)"
   ]
  },
  {
   "cell_type": "markdown",
   "metadata": {},
   "source": [
    "#### Choropleth of `ha_cost_income_ratio`"
   ]
  },
  {
   "cell_type": "code",
   "execution_count": null,
   "metadata": {},
   "outputs": [],
   "source": [
    "geo_tn[geo_tn.ha_cost_income_ratio.notnull()].shape"
   ]
  },
  {
   "cell_type": "code",
   "execution_count": null,
   "metadata": {},
   "outputs": [],
   "source": [
    "fig, ax = plt.subplots(figsize=(16,4))\n",
    "geo_tn[geo_tn.ha_cost_income_ratio.notnull()].plot(column = 'ha_cost_income_ratio', \n",
    "              cmap = 'BuPu', \n",
    "              edgecolor = 'black', \n",
    "              legend = True,\n",
    "              ax = ax)\n",
    "plt.title('Heart Attack Cost to Income Ratio', fontsize = 14)\n",
    "ax.axis('off');"
   ]
  },
  {
   "cell_type": "markdown",
   "metadata": {},
   "source": [
    "#### Choropleth of `cancer_cost_income_ratio`"
   ]
  },
  {
   "cell_type": "code",
   "execution_count": null,
   "metadata": {},
   "outputs": [],
   "source": [
    "fig, ax = plt.subplots(figsize=(16,4))\n",
    "geo_tn.plot(column = 'cancer_cost_income_ratio', \n",
    "              cmap = 'BuPu', \n",
    "              edgecolor = 'black', \n",
    "              legend = True,\n",
    "              ax = ax)\n",
    "plt.title('Cancer Cost to Income Ratio', fontsize = 14)\n",
    "ax.axis('off');"
   ]
  },
  {
   "cell_type": "code",
   "execution_count": null,
   "metadata": {},
   "outputs": [],
   "source": []
  }
 ],
 "metadata": {
  "kernelspec": {
   "display_name": "Python 3",
   "language": "python",
   "name": "python3"
  },
  "language_info": {
   "codemirror_mode": {
    "name": "ipython",
    "version": 3
   },
   "file_extension": ".py",
   "mimetype": "text/x-python",
   "name": "python",
   "nbconvert_exporter": "python",
   "pygments_lexer": "ipython3",
   "version": "3.7.4"
  }
 },
 "nbformat": 4,
 "nbformat_minor": 2
}
