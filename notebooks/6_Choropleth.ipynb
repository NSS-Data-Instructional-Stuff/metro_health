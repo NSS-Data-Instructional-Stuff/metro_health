{
 "cells": [
  {
   "cell_type": "markdown",
   "id": "c6868452",
   "metadata": {},
   "source": [
    "In this notebook, we'll make use of the _folium_ library in combination with the _pandas_ library to build a choropleth showing population by zip code for each zip code in Davidson County."
   ]
  },
  {
   "cell_type": "code",
   "execution_count": null,
   "id": "684c2864",
   "metadata": {},
   "outputs": [],
   "source": [
    "import folium\n",
    "import pandas as pd"
   ]
  },
  {
   "cell_type": "markdown",
   "id": "277b9fcd",
   "metadata": {},
   "source": [
    "Creating an interactive map is as simple as creating as calling `.Map()` from the folium library."
   ]
  },
  {
   "cell_type": "code",
   "execution_count": null,
   "id": "1019d7e6",
   "metadata": {},
   "outputs": [],
   "source": [
    "folium.Map()"
   ]
  },
  {
   "cell_type": "markdown",
   "id": "60147752",
   "metadata": {},
   "source": [
    "Of course, if we are planning to show something about Davidson County, we don't want our map to be zoomed all the way out.\n",
    "\n",
    "When creating out map, we can set the `location` and `zoom_start` attribute when creating our map. It also makes sense to save the map to a variable so that we can continue to modify it."
   ]
  },
  {
   "cell_type": "code",
   "execution_count": null,
   "id": "6f7764cd",
   "metadata": {},
   "outputs": [],
   "source": [
    "nashville = [36.1636,-86.7823]       # Latitude/Longitude of the approximately the middle of Nashville\n",
    "\n",
    "m = folium.Map(location=nashville,   # Create the map\n",
    "               zoom_start=10)\n",
    "\n",
    "m                             # display the map"
   ]
  },
  {
   "cell_type": "markdown",
   "id": "632ff256",
   "metadata": {},
   "source": [
    "To create our choropleth, we need two things:\n",
    "1. A DataFrame containing the data we want to be displayed on the choropleth (this data is contained in the file Davidson_Population.csv).\n",
    "2. A geojson file containing polygons of the regions we want to show on our map (this is contained in the file Zip Codes.geojson)."
   ]
  },
  {
   "cell_type": "markdown",
   "id": "5c333ae5",
   "metadata": {},
   "source": [
    "First, let's read in the unemployment data and take a look."
   ]
  },
  {
   "cell_type": "code",
   "execution_count": null,
   "id": "0cb1015a",
   "metadata": {},
   "outputs": [],
   "source": [
    "population = pd.read_csv('../data/Davidson_Population.csv')\n",
    "population.head(2)"
   ]
  },
  {
   "cell_type": "markdown",
   "id": "4c0aabd7",
   "metadata": {},
   "source": [
    "To build our choropleth, we are going to use the Choropleth class from `folium`. Let's take a look at the docstring."
   ]
  },
  {
   "cell_type": "code",
   "execution_count": null,
   "id": "bd6a37ce",
   "metadata": {},
   "outputs": [],
   "source": [
    "folium.Choropleth?"
   ]
  },
  {
   "cell_type": "markdown",
   "id": "33dc6499",
   "metadata": {},
   "source": [
    "There are quite a few arguments that we could pass in.\n",
    "\n",
    "Let's start simple and just get a basic map working. To do this, we need to point the Choropleth to our geojson.\n",
    "\n",
    "Note also that we need to add the Choropleth to the empty map that we created."
   ]
  },
  {
   "cell_type": "code",
   "execution_count": null,
   "id": "b46c4614",
   "metadata": {},
   "outputs": [],
   "source": [
    "nashville = [36.1636,-86.7823]\n",
    "m = folium.Map(location=nashville, zoom_start=10)      # Start with an empty map\n",
    "\n",
    "zip_geo = '../data/Zip Codes.geojson'                  # Filepath to our geojson\n",
    "\n",
    "choro = folium.Choropleth(\n",
    "    geo_data=zip_geo\n",
    ").add_to(m)                                                 # Tell folium to add this to our existing map\n",
    "\n",
    "m"
   ]
  },
  {
   "cell_type": "markdown",
   "id": "09584620",
   "metadata": {},
   "source": [
    "We now have a basic choropleth, but it is only showing the counties as it not connected to our data at all.\n",
    "\n",
    "To connect the Choropleth to our unemployment data, there are 3 additional arguments we need to use:\n",
    "\n",
    "* **data:** Tell folium where to find the data we want plotted on our map\n",
    "* **key_on:** Where in the geojson file to find the matching key to join together our DataFrame and geojson.\n",
    "* **columns:** Tell folium which columns to look in for 1) identifying the zip code (this should match the key_on value from above) and 2) coloring the polygon\n",
    "\n",
    "The `data` argument is the easiest one - the data is contained in our `population` DataFrame.\n",
    "\n",
    "To determine the `key_on` value, we need to take a peek at the geojson file. The beginning of this file looks like this:\n",
    "\n",
    "```\n",
    "{\n",
    "  \"type\": \"FeatureCollection\",\n",
    "  \"features\": [\n",
    "    {\"type\":\"Feature\",\"properties\":{\"zip\":\"37115\",\"objectid\":\"1\",\"po_name\":\"MADISON\",\"shape_stlength\":\"178783.02488886821\",\"shape_starea\":\"596553400.57885742\"},\"geometry\":{\"type\":\"MultiPolygon\",\"coordinates\":[[[[-86.68724897141,36.318212121092],\n",
    "```\n",
    "\n",
    "We'll be matching each row of our dataframe with the matching polygon through the zip code. We need to give folium directions to access the zip code in the geojson. This will look like `feature.properties.zip`.\n",
    "\n",
    "Finally, we need to specify the columns. The column matching our `key_on` value is \"Zip\" and the values we want to plot are in the \"Population_2019\" column. Thus, the argument should be the list `[\"Zip\", \"Population_2019\"]`."
   ]
  },
  {
   "cell_type": "code",
   "execution_count": null,
   "id": "af7550a1",
   "metadata": {},
   "outputs": [],
   "source": [
    "nashville = [36.1636,-86.7823]\n",
    "m = folium.Map(location=nashville, zoom_start=10)                  \n",
    "\n",
    "zip_geo = '../data/Zip Codes.geojson' \n",
    "choro = folium.Choropleth(\n",
    "    geo_data=zip_geo,\n",
    "    data=population,\n",
    "    key_on=\"feature.properties.zip\",\n",
    "    columns=[\"Zip\", \"Population_2019\"]\n",
    ").add_to(m)\n",
    "\n",
    "m"
   ]
  },
  {
   "cell_type": "markdown",
   "id": "1bbfaf80",
   "metadata": {},
   "source": [
    "What happened?\n",
    "\n",
    "The zip codes are now plotted, and the legend is correct, but the values didn't translate correctly to the polygons. It seems that folium was not able to correctly match the polygons to the values in the DataFrame.\n",
    "\n",
    "The cause of this is that in the dataframe, the zip code is treated as an integer but in the geojson file, it is treated as a string. We can fix this by changing the type to a string in our dataframe."
   ]
  },
  {
   "cell_type": "code",
   "execution_count": null,
   "id": "5e953f40",
   "metadata": {},
   "outputs": [],
   "source": [
    "population['Zip'] = population['Zip'].astype('str')"
   ]
  },
  {
   "cell_type": "code",
   "execution_count": null,
   "id": "7bc57a50",
   "metadata": {},
   "outputs": [],
   "source": [
    "nashville = [36.1636,-86.7823]\n",
    "m = folium.Map(location=nashville, zoom_start=10)                  \n",
    "\n",
    "zip_geo = '../data/Zip Codes.geojson' \n",
    "choro = folium.Choropleth(\n",
    "    geo_data=zip_geo,\n",
    "    data=population,\n",
    "    key_on=\"feature.properties.zip\",\n",
    "    columns=[\"Zip\", \"Population_2019\"]\n",
    ").add_to(m)\n",
    "\n",
    "m"
   ]
  },
  {
   "cell_type": "markdown",
   "id": "db44bb4f",
   "metadata": {},
   "source": [
    "There are a couple of other improvements we could make. \n",
    "\n",
    "First, the legend should indicate what our choropleth is showing. For this, we can use the `legend_name` argument.\n",
    "\n",
    "Second, it would be nice if we could identify which zip code is which. To do this, we can use the `add_child` method and point this method to the \"zip\" field in our geojson file."
   ]
  },
  {
   "cell_type": "code",
   "execution_count": null,
   "id": "2692a3ba",
   "metadata": {},
   "outputs": [],
   "source": [
    "nashville = [36.1636,-86.7823]\n",
    "m = folium.Map(location=nashville, zoom_start=10)                  \n",
    "\n",
    "zip_geo = '../data/Zip Codes.geojson' \n",
    "choro = folium.Choropleth(\n",
    "    geo_data=zip_geo,\n",
    "    data=population,\n",
    "    key_on=\"feature.properties.zip\",\n",
    "    columns=[\"Zip\", \"Population_2019\"],\n",
    "    legend_name = 'Population in 2019'\n",
    ").add_to(m)\n",
    "\n",
    "choro.geojson.add_child(\n",
    "   folium.features.GeoJsonTooltip(['zip'])\n",
    ")\n",
    "\n",
    "m"
   ]
  }
 ],
 "metadata": {
  "kernelspec": {
   "display_name": "Python 3",
   "language": "python",
   "name": "python3"
  },
  "language_info": {
   "codemirror_mode": {
    "name": "ipython",
    "version": 3
   },
   "file_extension": ".py",
   "mimetype": "text/x-python",
   "name": "python",
   "nbconvert_exporter": "python",
   "pygments_lexer": "ipython3",
   "version": "3.8.3"
  }
 },
 "nbformat": 4,
 "nbformat_minor": 5
}
