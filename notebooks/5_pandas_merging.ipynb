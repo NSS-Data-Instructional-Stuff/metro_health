{
 "cells": [
  {
   "cell_type": "code",
   "execution_count": null,
   "id": "0e57ffed",
   "metadata": {},
   "outputs": [],
   "source": [
    "import pandas as pd"
   ]
  },
  {
   "cell_type": "code",
   "execution_count": null,
   "id": "8825ce50",
   "metadata": {},
   "outputs": [],
   "source": [
    "unemployment = pd.read_csv('../data/tn_unemployment.csv')"
   ]
  },
  {
   "cell_type": "code",
   "execution_count": null,
   "id": "b0fe5c03",
   "metadata": {},
   "outputs": [],
   "source": [
    "unemployment.head()"
   ]
  },
  {
   "cell_type": "code",
   "execution_count": null,
   "id": "c0d4bf10",
   "metadata": {},
   "outputs": [],
   "source": [
    "population = pd.read_csv('../data/tn_population.csv')"
   ]
  },
  {
   "cell_type": "code",
   "execution_count": null,
   "id": "326c1bb2",
   "metadata": {},
   "outputs": [],
   "source": [
    "population.head()"
   ]
  },
  {
   "cell_type": "markdown",
   "id": "e7a48f7c",
   "metadata": {},
   "source": [
    "**Option 1:** Use the `left_on` and `right_on` arguments to tell pandas what to merge on."
   ]
  },
  {
   "cell_type": "code",
   "execution_count": null,
   "id": "f3776746",
   "metadata": {},
   "outputs": [],
   "source": [
    "pd.merge(left = population, right = unemployment, left_on = 'County Name', right_on = 'Name')"
   ]
  },
  {
   "cell_type": "markdown",
   "id": "1184d0a7",
   "metadata": {},
   "source": [
    "Notice that we end up with a duplicated column (with different names)."
   ]
  },
  {
   "cell_type": "markdown",
   "id": "9155d2ab",
   "metadata": {},
   "source": [
    "**Option 2:** Rename the merging column for one of our DataFrames."
   ]
  },
  {
   "cell_type": "code",
   "execution_count": null,
   "id": "3e355767",
   "metadata": {},
   "outputs": [],
   "source": [
    "pd.merge(left = population,\n",
    "         right = unemployment.rename(columns = {'Name': 'County Name'}))"
   ]
  },
  {
   "cell_type": "markdown",
   "id": "33f5ac17",
   "metadata": {},
   "source": [
    "We can even select out just the columns that we need after the merge:"
   ]
  },
  {
   "cell_type": "code",
   "execution_count": null,
   "id": "cdb85180",
   "metadata": {},
   "outputs": [],
   "source": [
    "pd.merge(left = population,\n",
    "         right = unemployment[['Name', 'unemployment_rate']].rename(columns = {'Name': 'County Name'}))"
   ]
  },
  {
   "cell_type": "markdown",
   "id": "ee7f56fb",
   "metadata": {},
   "source": [
    "Once we're happy with the results, we can save them to a DataFrame."
   ]
  },
  {
   "cell_type": "code",
   "execution_count": null,
   "id": "b9b3f825",
   "metadata": {},
   "outputs": [],
   "source": [
    "tn_counties = pd.merge(left = population,\n",
    "         right = unemployment[['Name', 'unemployment_rate']].rename(columns = {'Name': 'County Name'}))"
   ]
  },
  {
   "cell_type": "markdown",
   "id": "5f492dc2",
   "metadata": {},
   "source": [
    "Now, let's add in some additional information about these counties - which Grand Division they belong to."
   ]
  },
  {
   "cell_type": "code",
   "execution_count": null,
   "id": "e98f3557",
   "metadata": {},
   "outputs": [],
   "source": [
    "grand_divisions = pd.read_csv('../data/tn_divisions.csv')"
   ]
  },
  {
   "cell_type": "code",
   "execution_count": null,
   "id": "718604fa",
   "metadata": {},
   "outputs": [],
   "source": [
    "grand_divisions.head()"
   ]
  },
  {
   "cell_type": "markdown",
   "id": "74517e72",
   "metadata": {},
   "source": [
    "**Your Turn:** Merge tn_counties with grand_divisions. Save the results back to `tn_counties`."
   ]
  },
  {
   "cell_type": "code",
   "execution_count": null,
   "id": "7536a8f1",
   "metadata": {},
   "outputs": [],
   "source": [
    "# Your Code Here"
   ]
  }
 ],
 "metadata": {
  "kernelspec": {
   "display_name": "Python 3",
   "language": "python",
   "name": "python3"
  },
  "language_info": {
   "codemirror_mode": {
    "name": "ipython",
    "version": 3
   },
   "file_extension": ".py",
   "mimetype": "text/x-python",
   "name": "python",
   "nbconvert_exporter": "python",
   "pygments_lexer": "ipython3",
   "version": "3.8.3"
  }
 },
 "nbformat": 4,
 "nbformat_minor": 5
}
