{
 "cells": [
  {
   "cell_type": "markdown",
   "id": "cdeefa19",
   "metadata": {},
   "source": [
    "In this notebook, we will see some tools for doing exploratory data analysis (EDA) on a dataset. \n",
    "\n",
    "We'll be using the [Palmer Penguins](https://allisonhorst.github.io/palmerpenguins/articles/intro.html) dataset, which contains size measurements for three penguin species observed on three islands in the Palmer Archipelago of Antarctica."
   ]
  },
  {
   "cell_type": "code",
   "execution_count": null,
   "id": "46058b52",
   "metadata": {},
   "outputs": [],
   "source": [
    "import pandas as pd\n",
    "import matplotlib.pyplot as plt\n",
    "import seaborn as sns"
   ]
  },
  {
   "cell_type": "code",
   "execution_count": null,
   "id": "7651feaa",
   "metadata": {},
   "outputs": [],
   "source": [
    "penguins = pd.read_csv('../data/penguins.csv')"
   ]
  },
  {
   "cell_type": "code",
   "execution_count": null,
   "id": "f1cd5422",
   "metadata": {},
   "outputs": [],
   "source": [
    "penguins.head()"
   ]
  },
  {
   "cell_type": "markdown",
   "id": "60b9ebbc",
   "metadata": {},
   "source": [
    "**Question: Do you notice anything when you look at the first five rows of data?**"
   ]
  },
  {
   "cell_type": "markdown",
   "id": "01e52a69",
   "metadata": {},
   "source": [
    "Let's look and see how many null values we have."
   ]
  },
  {
   "cell_type": "code",
   "execution_count": null,
   "id": "74e4ef96",
   "metadata": {},
   "outputs": [],
   "source": [
    "penguins.info()"
   ]
  },
  {
   "cell_type": "markdown",
   "id": "f37991cc",
   "metadata": {},
   "source": [
    "Another way to count null values is by using the `.isna()` method."
   ]
  },
  {
   "cell_type": "code",
   "execution_count": null,
   "id": "5f1bec14",
   "metadata": {},
   "outputs": [],
   "source": [
    "penguins.isna().sum()"
   ]
  },
  {
   "cell_type": "markdown",
   "id": "9a9a69f5",
   "metadata": {},
   "source": [
    "## Categorical Variables\n",
    "\n",
    "**Warm-up Question:** How many penguins are there of each sex?"
   ]
  },
  {
   "cell_type": "code",
   "execution_count": null,
   "id": "bf8f9574",
   "metadata": {},
   "outputs": [],
   "source": [
    "# Your code here"
   ]
  },
  {
   "cell_type": "code",
   "execution_count": null,
   "id": "093dc90c",
   "metadata": {},
   "outputs": [],
   "source": [
    "penguins['sex'].value_counts()"
   ]
  },
  {
   "cell_type": "markdown",
   "id": "817409b3",
   "metadata": {},
   "source": [
    "The NaN values do not show up. Place your cursor inside the parantheses for `value_counts` and press Shift+Tab to look for a way to retain the NaN values."
   ]
  },
  {
   "cell_type": "code",
   "execution_count": null,
   "id": "9a935a8e",
   "metadata": {
    "scrolled": true
   },
   "outputs": [],
   "source": [
    "penguins['sex'].value_counts(dropna = False)"
   ]
  },
  {
   "cell_type": "markdown",
   "id": "e370982c",
   "metadata": {},
   "source": [
    "Notice also that we can normalize our value counts. For example, to get the percentage by species, we can use this: "
   ]
  },
  {
   "cell_type": "code",
   "execution_count": null,
   "id": "cc492323",
   "metadata": {},
   "outputs": [],
   "source": [
    "penguins['sex'].value_counts(normalize = True)"
   ]
  },
  {
   "cell_type": "markdown",
   "id": "ca4b101f",
   "metadata": {},
   "source": [
    "As we have seen before, we can create a bar plot of the value counts by using the `.plot` method and specifying `kind = 'bar'`."
   ]
  },
  {
   "cell_type": "code",
   "execution_count": null,
   "id": "a8b5e913",
   "metadata": {},
   "outputs": [],
   "source": [
    "penguins['species'].value_counts().plot(kind = 'bar');"
   ]
  },
  {
   "cell_type": "markdown",
   "id": "b6b5fc66",
   "metadata": {},
   "source": [
    "## Examining Two Categorical Variables\n",
    "\n",
    "What if we want to look at a cross-tabulation of the number of observations of each sex broken down by species. \n",
    "\n",
    "For this, we can use the `pandas` `crosstab` function. What we need to do is to pass in the two columns we want to create the table based on."
   ]
  },
  {
   "cell_type": "code",
   "execution_count": null,
   "id": "f7e035eb",
   "metadata": {},
   "outputs": [],
   "source": [
    "pd.crosstab(penguins['island'], penguins['species'])"
   ]
  },
  {
   "cell_type": "markdown",
   "id": "91d53c29",
   "metadata": {},
   "source": [
    "As above, we can take the results and create a plot."
   ]
  },
  {
   "cell_type": "code",
   "execution_count": null,
   "id": "04050b90",
   "metadata": {},
   "outputs": [],
   "source": [
    "pd.crosstab(penguins['island'], penguins['species']).plot(kind = 'bar', \n",
    "                                                          stacked = True,       # stacked as opposed to side-by-side\n",
    "                                                          color = ['cornflowerblue', 'coral', 'pink'],     # change the default colors\n",
    "                                                          edgecolor = 'black')              # add a border to the bars\n",
    "plt.title('Penguin Species Distribution by Island')                   # add a title\n",
    "plt.xticks(rotation = 0);                                             # change the appearance of the x tick labels"
   ]
  },
  {
   "cell_type": "markdown",
   "id": "14ae1445",
   "metadata": {},
   "source": [
    "You can also normalize the cross-tabulation. Since we are working with two variables here, we can normalize in a number of ways. \n",
    "\n",
    "For example, if we just want the proportion of total observations that are contained in each cell, we can use the `normalize = 'all'` option."
   ]
  },
  {
   "cell_type": "code",
   "execution_count": null,
   "id": "496a7c43",
   "metadata": {},
   "outputs": [],
   "source": [
    "pd.crosstab(penguins['island'], penguins['species'],  normalize = 'all')"
   ]
  },
  {
   "cell_type": "markdown",
   "id": "5a577f16",
   "metadata": {},
   "source": [
    "Or if we want proportions by row, we can use the `normalize = 'index'` option."
   ]
  },
  {
   "cell_type": "code",
   "execution_count": null,
   "id": "7fbaae39",
   "metadata": {},
   "outputs": [],
   "source": [
    "pd.crosstab(penguins['island'], penguins['species'],  normalize = 'index')"
   ]
  },
  {
   "cell_type": "code",
   "execution_count": null,
   "id": "c5135bb3",
   "metadata": {},
   "outputs": [],
   "source": [
    "(pd.crosstab(penguins['island'], penguins['species'],  normalize = 'index') * 100).plot(kind = 'bar', \n",
    "                                                                                        stacked = True,\n",
    "                                                                                        color = ['cornflowerblue', 'coral', 'pink'],\n",
    "                                                                                        edgecolor = 'black',\n",
    "                                                                                        width = 0.75,\n",
    "                                                                                       )\n",
    "plt.title('Percentage of Species by Island')\n",
    "plt.xticks(rotation = 0)\n",
    "plt.legend(bbox_to_anchor = (1, 0.8), loc = 'upper left');   # move the legend to the right side of the plot"
   ]
  },
  {
   "cell_type": "markdown",
   "id": "f8d90c6e",
   "metadata": {},
   "source": [
    "## Numeric Variables\n",
    "\n",
    "Now, let's say that we want to study the `body_mass_g` variable.\n",
    "\n",
    "We can quickly get a quick summary by using the `.describe()` method."
   ]
  },
  {
   "cell_type": "code",
   "execution_count": null,
   "id": "4f624012",
   "metadata": {},
   "outputs": [],
   "source": [
    "penguins['body_mass_g'].describe()"
   ]
  },
  {
   "cell_type": "markdown",
   "id": "ed1affdf",
   "metadata": {},
   "source": [
    "We can also calculate individual summary statistics, many of which have built-in _pandas_ methods."
   ]
  },
  {
   "cell_type": "code",
   "execution_count": null,
   "id": "4654d38b",
   "metadata": {},
   "outputs": [],
   "source": [
    "penguins['body_mass_g'].mean()"
   ]
  },
  {
   "cell_type": "code",
   "execution_count": null,
   "id": "a0e93e7a",
   "metadata": {},
   "outputs": [],
   "source": [
    "penguins['body_mass_g'].skew()"
   ]
  },
  {
   "cell_type": "markdown",
   "id": "3d9bc04d",
   "metadata": {},
   "source": [
    "We have a number of options for inspecting the distribution of a numeric variable. In this notebook, we'll look at histograms and box plots.\n",
    "\n",
    "For histograms, we can use the `.hist()` method from _pandas_."
   ]
  },
  {
   "cell_type": "code",
   "execution_count": null,
   "id": "17bffcbc",
   "metadata": {},
   "outputs": [],
   "source": [
    "penguins['body_mass_g'].hist();"
   ]
  },
  {
   "cell_type": "markdown",
   "id": "82803a1b",
   "metadata": {},
   "source": [
    "As before, we can easily make modifications to this plot."
   ]
  },
  {
   "cell_type": "code",
   "execution_count": null,
   "id": "bbb39eea",
   "metadata": {},
   "outputs": [],
   "source": [
    "penguins['body_mass_g'].hist(bins = 25,\n",
    "                            color = 'coral',\n",
    "                            edgecolor = 'black',\n",
    "                            figsize = (10,6))\n",
    "\n",
    "plt.title('Distribution of Body Mass Values', fontsize = 16);"
   ]
  },
  {
   "cell_type": "markdown",
   "id": "48ab6654",
   "metadata": {},
   "source": [
    "The _pandas_ library also includes a boxplot method, but we can get a nicer looking one using the _seaborn_ library."
   ]
  },
  {
   "cell_type": "code",
   "execution_count": null,
   "id": "2e35b69c",
   "metadata": {},
   "outputs": [],
   "source": [
    "sns.boxplot(data = penguins,\n",
    "            x = 'body_mass_g');"
   ]
  },
  {
   "cell_type": "markdown",
   "id": "d6dc08b4",
   "metadata": {},
   "source": [
    "Note that if we want to increase the figure size when using seaborn, we cannot pass it in as an argument but must use either the `.figure()` or `.subplots()` function from matplotlib."
   ]
  },
  {
   "cell_type": "code",
   "execution_count": null,
   "id": "aa6d4c03",
   "metadata": {},
   "outputs": [],
   "source": [
    "plt.figure(figsize = (10,4))\n",
    "\n",
    "sns.boxplot(data = penguins,\n",
    "            x = 'body_mass_g');"
   ]
  },
  {
   "cell_type": "markdown",
   "id": "a48797a0",
   "metadata": {},
   "source": [
    "## Categorical-Numeric Combinations\n",
    "\n",
    "The histogram of body mass values is not exactly symmetric and appears to have a number of subgroups. Perhaps this distribution shape could be explained by looking at the body mass distribution by species.\n",
    "\n",
    "One way to do this is to use `.groupby`, as we've seen before."
   ]
  },
  {
   "cell_type": "code",
   "execution_count": null,
   "id": "26107701",
   "metadata": {},
   "outputs": [],
   "source": [
    "penguins.groupby('species')['body_mass_g'].describe()"
   ]
  },
  {
   "cell_type": "markdown",
   "id": "ec15750b",
   "metadata": {},
   "source": [
    "**Question:** Looking at the summary statistics by group, what do you notice?"
   ]
  },
  {
   "cell_type": "markdown",
   "id": "7900ece0",
   "metadata": {},
   "source": [
    "We can easily compare distributions using a grouped boxplot."
   ]
  },
  {
   "cell_type": "code",
   "execution_count": null,
   "id": "edd18183",
   "metadata": {},
   "outputs": [],
   "source": [
    "plt.figure(figsize = (10,6))\n",
    "\n",
    "sns.boxplot(data = penguins,\n",
    "           x = 'body_mass_g',\n",
    "           y = 'species');"
   ]
  },
  {
   "cell_type": "markdown",
   "id": "98bdb6a7",
   "metadata": {},
   "source": [
    "## Comparing Two Numeric Variables\n",
    "\n",
    "One way to assess the relationship between two numeric variables is to find the correlation. This can be accomplished using the `.corr()` method, which returns the correlation matrix."
   ]
  },
  {
   "cell_type": "code",
   "execution_count": null,
   "id": "436ae46b",
   "metadata": {},
   "outputs": [],
   "source": [
    "penguins[['bill_length_mm', 'bill_depth_mm', 'flipper_length_mm', 'body_mass_g']].corr()"
   ]
  },
  {
   "cell_type": "markdown",
   "id": "5faa2648",
   "metadata": {},
   "source": [
    "**Question:** Do you notice anything interesting when inspecting the correlation values?"
   ]
  },
  {
   "cell_type": "markdown",
   "id": "c1c2129b",
   "metadata": {},
   "source": [
    "Let's investigate the relationship between bill length and bill depth. We can do this using a scatterplot.\n",
    "\n",
    "First, let's use the `.plot` method from pandas."
   ]
  },
  {
   "cell_type": "code",
   "execution_count": null,
   "id": "7d3bc731",
   "metadata": {},
   "outputs": [],
   "source": [
    "penguins.plot(kind = 'scatter',\n",
    "             x = 'bill_length_mm',\n",
    "             y = 'bill_depth_mm',\n",
    "             figsize = (10,6));"
   ]
  },
  {
   "cell_type": "markdown",
   "id": "d5eb535a",
   "metadata": {},
   "source": [
    "We do need to remember that we have multiple species of penguins. To get a better understanding of the relationship between these variables, we could color the points by species. The easiest way to do this is using the _seaborn_ library."
   ]
  },
  {
   "cell_type": "code",
   "execution_count": null,
   "id": "f2cc40d0",
   "metadata": {},
   "outputs": [],
   "source": [
    "plt.figure(figsize = (10,6))\n",
    "\n",
    "sns.scatterplot(data = penguins,\n",
    "               x = 'bill_length_mm',\n",
    "               y = 'bill_depth_mm',\n",
    "               hue = 'species',\n",
    "               palette = ['cornflowerblue', 'coral', 'pink']);"
   ]
  },
  {
   "cell_type": "markdown",
   "id": "a6acaab0",
   "metadata": {},
   "source": [
    "**Question:** What is the correlation between bill length and bill depth if we just look at the Gentoo species?"
   ]
  },
  {
   "cell_type": "code",
   "execution_count": null,
   "id": "f8ca4bd8",
   "metadata": {},
   "outputs": [],
   "source": [
    "# Your code here"
   ]
  },
  {
   "cell_type": "code",
   "execution_count": null,
   "id": "c29977d1",
   "metadata": {},
   "outputs": [],
   "source": []
  },
  {
   "cell_type": "markdown",
   "id": "06932dd5",
   "metadata": {},
   "source": [
    "## Additional Practice"
   ]
  },
  {
   "cell_type": "markdown",
   "id": "ea67c24b",
   "metadata": {},
   "source": [
    "1. Are there major differences in the distribution of species observed across the three years that the data was collected?"
   ]
  },
  {
   "cell_type": "code",
   "execution_count": null,
   "id": "561b340f",
   "metadata": {},
   "outputs": [],
   "source": [
    "# Your Code Here"
   ]
  },
  {
   "cell_type": "markdown",
   "id": "14557f1c",
   "metadata": {},
   "source": [
    "2. How does the distribution of body mass differ between male and female observations?"
   ]
  },
  {
   "cell_type": "code",
   "execution_count": null,
   "id": "0ef5ded5",
   "metadata": {},
   "outputs": [],
   "source": [
    "# Your Code Here"
   ]
  },
  {
   "cell_type": "markdown",
   "id": "40c6afec",
   "metadata": {},
   "source": [
    "3. You can group by multiple variables simultaneously by passing a list into your `groupby` method. What do the differences in body mass between male and female penguins look like at a species level?"
   ]
  },
  {
   "cell_type": "code",
   "execution_count": null,
   "id": "a8f16a6b",
   "metadata": {},
   "outputs": [],
   "source": [
    "# Your Code Here"
   ]
  },
  {
   "cell_type": "markdown",
   "id": "6d0d36aa",
   "metadata": {},
   "source": [
    "4. Inspect the relationship between body mass and flipper length. How is the relationship between these variables different than the one between bill length and bill depth that we observed above?"
   ]
  },
  {
   "cell_type": "code",
   "execution_count": null,
   "id": "cf14108f",
   "metadata": {},
   "outputs": [],
   "source": [
    "# Your Code Here"
   ]
  }
 ],
 "metadata": {
  "kernelspec": {
   "display_name": "Python 3",
   "language": "python",
   "name": "python3"
  },
  "language_info": {
   "codemirror_mode": {
    "name": "ipython",
    "version": 3
   },
   "file_extension": ".py",
   "mimetype": "text/x-python",
   "name": "python",
   "nbconvert_exporter": "python",
   "pygments_lexer": "ipython3",
   "version": "3.8.3"
  }
 },
 "nbformat": 4,
 "nbformat_minor": 5
}
