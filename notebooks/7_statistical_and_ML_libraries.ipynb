{
 "cells": [
  {
   "cell_type": "markdown",
   "id": "7cf81d2b",
   "metadata": {},
   "source": [
    "In this notebook, we'll explore some statistical and machine learning libraries.\n",
    "\n",
    "We'll be working with a data set consisting of a sample of 200 subjects who were part of a study on survival of patients following admission to an adult intensive care unit. The goal of the study was to develop a logistic regression model to predict the probability of survival to hospital discharge of these patients."
   ]
  },
  {
   "cell_type": "code",
   "execution_count": 22,
   "id": "ed7d259c",
   "metadata": {},
   "outputs": [],
   "source": [
    "import pandas as pd"
   ]
  },
  {
   "cell_type": "code",
   "execution_count": 23,
   "id": "97c39c76",
   "metadata": {},
   "outputs": [],
   "source": [
    "icu = pd.read_csv('../data/icu.csv')"
   ]
  },
  {
   "cell_type": "code",
   "execution_count": 24,
   "id": "f6bd5f07",
   "metadata": {},
   "outputs": [
    {
     "data": {
      "text/html": [
       "<div>\n",
       "<style scoped>\n",
       "    .dataframe tbody tr th:only-of-type {\n",
       "        vertical-align: middle;\n",
       "    }\n",
       "\n",
       "    .dataframe tbody tr th {\n",
       "        vertical-align: top;\n",
       "    }\n",
       "\n",
       "    .dataframe thead th {\n",
       "        text-align: right;\n",
       "    }\n",
       "</style>\n",
       "<table border=\"1\" class=\"dataframe\">\n",
       "  <thead>\n",
       "    <tr style=\"text-align: right;\">\n",
       "      <th></th>\n",
       "      <th>ID</th>\n",
       "      <th>STA</th>\n",
       "      <th>AGE</th>\n",
       "      <th>SEX</th>\n",
       "      <th>RACE</th>\n",
       "      <th>SER</th>\n",
       "      <th>CAN</th>\n",
       "      <th>CRN</th>\n",
       "      <th>INF</th>\n",
       "      <th>CPR</th>\n",
       "      <th>...</th>\n",
       "      <th>HRA</th>\n",
       "      <th>PRE</th>\n",
       "      <th>TYP</th>\n",
       "      <th>FRA</th>\n",
       "      <th>PO2</th>\n",
       "      <th>PH</th>\n",
       "      <th>PCO</th>\n",
       "      <th>BIC</th>\n",
       "      <th>CRE</th>\n",
       "      <th>LOC</th>\n",
       "    </tr>\n",
       "  </thead>\n",
       "  <tbody>\n",
       "    <tr>\n",
       "      <th>0</th>\n",
       "      <td>552</td>\n",
       "      <td>0</td>\n",
       "      <td>16</td>\n",
       "      <td>0</td>\n",
       "      <td>1</td>\n",
       "      <td>1</td>\n",
       "      <td>0</td>\n",
       "      <td>0</td>\n",
       "      <td>0</td>\n",
       "      <td>0</td>\n",
       "      <td>...</td>\n",
       "      <td>140</td>\n",
       "      <td>0</td>\n",
       "      <td>1</td>\n",
       "      <td>1</td>\n",
       "      <td>0</td>\n",
       "      <td>0</td>\n",
       "      <td>0</td>\n",
       "      <td>0</td>\n",
       "      <td>0</td>\n",
       "      <td>0</td>\n",
       "    </tr>\n",
       "    <tr>\n",
       "      <th>1</th>\n",
       "      <td>102</td>\n",
       "      <td>0</td>\n",
       "      <td>16</td>\n",
       "      <td>1</td>\n",
       "      <td>1</td>\n",
       "      <td>0</td>\n",
       "      <td>0</td>\n",
       "      <td>0</td>\n",
       "      <td>0</td>\n",
       "      <td>0</td>\n",
       "      <td>...</td>\n",
       "      <td>111</td>\n",
       "      <td>0</td>\n",
       "      <td>1</td>\n",
       "      <td>0</td>\n",
       "      <td>0</td>\n",
       "      <td>0</td>\n",
       "      <td>0</td>\n",
       "      <td>0</td>\n",
       "      <td>0</td>\n",
       "      <td>0</td>\n",
       "    </tr>\n",
       "  </tbody>\n",
       "</table>\n",
       "<p>2 rows × 21 columns</p>\n",
       "</div>"
      ],
      "text/plain": [
       "    ID  STA  AGE  SEX  RACE  SER  CAN  CRN  INF  CPR  ...  HRA  PRE  TYP  FRA  \\\n",
       "0  552    0   16    0     1    1    0    0    0    0  ...  140    0    1    1   \n",
       "1  102    0   16    1     1    0    0    0    0    0  ...  111    0    1    0   \n",
       "\n",
       "   PO2  PH  PCO  BIC  CRE  LOC  \n",
       "0    0   0    0    0    0    0  \n",
       "1    0   0    0    0    0    0  \n",
       "\n",
       "[2 rows x 21 columns]"
      ]
     },
     "execution_count": 24,
     "metadata": {},
     "output_type": "execute_result"
    }
   ],
   "source": [
    "icu.head(2)"
   ]
  },
  {
   "cell_type": "markdown",
   "id": "58b26ff9",
   "metadata": {},
   "source": [
    "The variables are as follows:\n",
    "\n",
    "|Variable | Description | Codes/Values|\n",
    "|---|---|---|\n",
    "| ID | Identification Code | ID Number|\n",
    "| STA | Vital Status | 0 = Lived<br /> 1 = Died |\n",
    "| AGE | Age | Years |\n",
    "| SEX | Sex | 0 = Male<br /> 1 = Female | \n",
    "| RACE | Race | 1 = White<br />2 = Black<br />3 = Other |\n",
    "| SER | Service at ICU Admission | 0 = Medical<br />1 = Surgical |\n",
    "| CAN | Cancer Part of Present Problem | 0 = No<br />1 = Yes |\n",
    "| CRN | History of Chronic Renal Failure | 0 = No<br />1 = Yes |\n",
    "| INF | Infection Probable at ICU Admission | 0 = No<br />1 = Yes |\n",
    "| CPR | CPR Prior to ICU Admission | 0 = No<br />1 = Yes |\n",
    "| SYS | Systolic Blood Pressure at ICU Admission | mm Hg |\n",
    "| HRA | Heart Rate at ICU Admission | Beats/min |\n",
    "| PRE | Previous Admission to an ICU Within 6 Months | 0 = No<br />1 = Yes |\n",
    "| TYP | Type of Admission | 0 = Elective<br />1 = Emergency |\n",
    "| FRA | Long Bone, Multiple, Neck, Single Area, or Hip Fracture | 0 = No<br />1 = Yes |\n",
    "| PO2 | PO2 from Initial Blood Gases | 0: $>$60<br />1: $\\leq$ 60 |\n",
    "| PH | PH from Initial Blood Gases | 0: $\\geq$ 7.25<br />1: $<$7.25 |\n",
    "| PCO | PCO2 from Initial Blood Gases | 0: $\\leq$ 45<br />1: $>$45 |\n",
    "| BIC | Bicarbonate from Initial Blood Gases | 0: $\\geq$ 18<br />1: $<$ 18 |\n",
    "| CRE | Creatinine from Initial Blood Gases | 0: $\\leq$2.0<br />1: $>$2.0 |\n",
    "| LOC | Level of Consciousness at ICU Admission | 0 = No Coma or Deep Stupor<br />1 = Deep Stupor<br />2 = Coma |"
   ]
  },
  {
   "cell_type": "markdown",
   "id": "968081ba",
   "metadata": {},
   "source": [
    "A useful library for conducting statistical tests is the _statsmodels_ library.\n",
    "\n",
    "Let's say we want to test the null hypothesis that there is no difference in average age between those that die compared to those that do not die against the alternative hypothesis that there is a difference. \n",
    "\n",
    "For this, we can use a t-test."
   ]
  },
  {
   "cell_type": "code",
   "execution_count": 25,
   "id": "3256f9d8",
   "metadata": {},
   "outputs": [],
   "source": [
    "from statsmodels.stats.weightstats import ttest_ind"
   ]
  },
  {
   "cell_type": "code",
   "execution_count": 26,
   "id": "0eebc3fc",
   "metadata": {},
   "outputs": [
    {
     "data": {
      "text/plain": [
       "(-3.067979086671082, 0.0030443793137557764, 71.40119955116975)"
      ]
     },
     "execution_count": 26,
     "metadata": {},
     "output_type": "execute_result"
    }
   ],
   "source": [
    "ttest_ind(x1 = icu[icu['STA'] == 0]['AGE'],               # observations that do not die\n",
    "          x2 = icu[icu['STA'] == 1]['AGE'],               # observations that die\n",
    "          alternative = 'two-sided',                      # can perform a one-sided test by using 'larger' or 'smaller'\n",
    "          usevar = 'unequal')                             # We'll Welch's t-test"
   ]
  },
  {
   "cell_type": "markdown",
   "id": "3afe63e0",
   "metadata": {},
   "source": [
    "This function returns the test statistic, the p-value, and the degrees of freedom.\n",
    "\n",
    "In this case, at the 0.05 significance level, we can reject the null hypothesis."
   ]
  },
  {
   "cell_type": "markdown",
   "id": "0a99b758",
   "metadata": {},
   "source": [
    "# Statistical Modeling Approach - _statsmodels_\n",
    "\n",
    "If we want to build a logistic regression model, we can make use statsmodels along with the patsy library to build a design matrix."
   ]
  },
  {
   "cell_type": "code",
   "execution_count": 27,
   "id": "6ac4c595",
   "metadata": {},
   "outputs": [],
   "source": [
    "from patsy import dmatrices\n",
    "import statsmodels.api as sm"
   ]
  },
  {
   "cell_type": "code",
   "execution_count": 28,
   "id": "27c08d8b",
   "metadata": {},
   "outputs": [],
   "source": [
    "y, X = dmatrices('STA ~ AGE',                       # Target variable ~ Predictor variable(s)\n",
    "                 icu,                               # Dataset\n",
    "                 return_type = 'dataframe')"
   ]
  },
  {
   "cell_type": "code",
   "execution_count": 29,
   "id": "8ba38269",
   "metadata": {},
   "outputs": [
    {
     "data": {
      "text/html": [
       "<div>\n",
       "<style scoped>\n",
       "    .dataframe tbody tr th:only-of-type {\n",
       "        vertical-align: middle;\n",
       "    }\n",
       "\n",
       "    .dataframe tbody tr th {\n",
       "        vertical-align: top;\n",
       "    }\n",
       "\n",
       "    .dataframe thead th {\n",
       "        text-align: right;\n",
       "    }\n",
       "</style>\n",
       "<table border=\"1\" class=\"dataframe\">\n",
       "  <thead>\n",
       "    <tr style=\"text-align: right;\">\n",
       "      <th></th>\n",
       "      <th>Intercept</th>\n",
       "      <th>AGE</th>\n",
       "    </tr>\n",
       "  </thead>\n",
       "  <tbody>\n",
       "    <tr>\n",
       "      <th>0</th>\n",
       "      <td>1.0</td>\n",
       "      <td>16.0</td>\n",
       "    </tr>\n",
       "    <tr>\n",
       "      <th>1</th>\n",
       "      <td>1.0</td>\n",
       "      <td>16.0</td>\n",
       "    </tr>\n",
       "  </tbody>\n",
       "</table>\n",
       "</div>"
      ],
      "text/plain": [
       "   Intercept   AGE\n",
       "0        1.0  16.0\n",
       "1        1.0  16.0"
      ]
     },
     "execution_count": 29,
     "metadata": {},
     "output_type": "execute_result"
    }
   ],
   "source": [
    "X.head(2)"
   ]
  },
  {
   "cell_type": "markdown",
   "id": "3f7adbb2",
   "metadata": {},
   "source": [
    "Now, we'll use the Logit class from statsmodels to build our model."
   ]
  },
  {
   "cell_type": "code",
   "execution_count": 14,
   "id": "06d6621d",
   "metadata": {},
   "outputs": [],
   "source": [
    "logit = sm.Logit(y, X)"
   ]
  },
  {
   "cell_type": "markdown",
   "id": "4ba0ab3a",
   "metadata": {},
   "source": [
    "Fit the model and save the result."
   ]
  },
  {
   "cell_type": "code",
   "execution_count": 15,
   "id": "19253dcd",
   "metadata": {},
   "outputs": [
    {
     "name": "stdout",
     "output_type": "stream",
     "text": [
      "Optimization terminated successfully.\n",
      "         Current function value: 0.480766\n",
      "         Iterations 6\n"
     ]
    }
   ],
   "source": [
    "res = logit.fit()"
   ]
  },
  {
   "cell_type": "markdown",
   "id": "615867dc",
   "metadata": {},
   "source": [
    "We can see the parameters using the `params` attribute."
   ]
  },
  {
   "cell_type": "code",
   "execution_count": 16,
   "id": "308f185a",
   "metadata": {},
   "outputs": [
    {
     "data": {
      "text/plain": [
       "Intercept   -3.058513\n",
       "AGE          0.027543\n",
       "dtype: float64"
      ]
     },
     "execution_count": 16,
     "metadata": {},
     "output_type": "execute_result"
    }
   ],
   "source": [
    "res.params"
   ]
  },
  {
   "cell_type": "markdown",
   "id": "f6b24001",
   "metadata": {},
   "source": [
    "And we can get a statistical summary using the `summary()` method."
   ]
  },
  {
   "cell_type": "code",
   "execution_count": 17,
   "id": "e4ff288d",
   "metadata": {},
   "outputs": [
    {
     "data": {
      "text/html": [
       "<table class=\"simpletable\">\n",
       "<caption>Logit Regression Results</caption>\n",
       "<tr>\n",
       "  <th>Dep. Variable:</th>          <td>STA</td>       <th>  No. Observations:  </th>  <td>   200</td> \n",
       "</tr>\n",
       "<tr>\n",
       "  <th>Model:</th>                 <td>Logit</td>      <th>  Df Residuals:      </th>  <td>   198</td> \n",
       "</tr>\n",
       "<tr>\n",
       "  <th>Method:</th>                 <td>MLE</td>       <th>  Df Model:          </th>  <td>     1</td> \n",
       "</tr>\n",
       "<tr>\n",
       "  <th>Date:</th>            <td>Fri, 23 Jul 2021</td> <th>  Pseudo R-squ.:     </th>  <td>0.03924</td>\n",
       "</tr>\n",
       "<tr>\n",
       "  <th>Time:</th>                <td>16:23:11</td>     <th>  Log-Likelihood:    </th> <td> -96.153</td>\n",
       "</tr>\n",
       "<tr>\n",
       "  <th>converged:</th>             <td>True</td>       <th>  LL-Null:           </th> <td> -100.08</td>\n",
       "</tr>\n",
       "<tr>\n",
       "  <th>Covariance Type:</th>     <td>nonrobust</td>    <th>  LLR p-value:       </th> <td>0.005069</td>\n",
       "</tr>\n",
       "</table>\n",
       "<table class=\"simpletable\">\n",
       "<tr>\n",
       "      <td></td>         <th>coef</th>     <th>std err</th>      <th>z</th>      <th>P>|z|</th>  <th>[0.025</th>    <th>0.975]</th>  \n",
       "</tr>\n",
       "<tr>\n",
       "  <th>Intercept</th> <td>   -3.0585</td> <td>    0.696</td> <td>   -4.394</td> <td> 0.000</td> <td>   -4.423</td> <td>   -1.694</td>\n",
       "</tr>\n",
       "<tr>\n",
       "  <th>AGE</th>       <td>    0.0275</td> <td>    0.011</td> <td>    2.607</td> <td> 0.009</td> <td>    0.007</td> <td>    0.048</td>\n",
       "</tr>\n",
       "</table>"
      ],
      "text/plain": [
       "<class 'statsmodels.iolib.summary.Summary'>\n",
       "\"\"\"\n",
       "                           Logit Regression Results                           \n",
       "==============================================================================\n",
       "Dep. Variable:                    STA   No. Observations:                  200\n",
       "Model:                          Logit   Df Residuals:                      198\n",
       "Method:                           MLE   Df Model:                            1\n",
       "Date:                Fri, 23 Jul 2021   Pseudo R-squ.:                 0.03924\n",
       "Time:                        16:23:11   Log-Likelihood:                -96.153\n",
       "converged:                       True   LL-Null:                       -100.08\n",
       "Covariance Type:            nonrobust   LLR p-value:                  0.005069\n",
       "==============================================================================\n",
       "                 coef    std err          z      P>|z|      [0.025      0.975]\n",
       "------------------------------------------------------------------------------\n",
       "Intercept     -3.0585      0.696     -4.394      0.000      -4.423      -1.694\n",
       "AGE            0.0275      0.011      2.607      0.009       0.007       0.048\n",
       "==============================================================================\n",
       "\"\"\""
      ]
     },
     "execution_count": 17,
     "metadata": {},
     "output_type": "execute_result"
    }
   ],
   "source": [
    "res.summary()"
   ]
  },
  {
   "cell_type": "markdown",
   "id": "b0820549",
   "metadata": {},
   "source": [
    "If we want to include other variables, we can do so by separating them with a `+`.\n",
    "\n",
    "To include categorical variables with more than 2 levels, we can encode them using `C()`."
   ]
  },
  {
   "cell_type": "code",
   "execution_count": 31,
   "id": "d7c572b0",
   "metadata": {},
   "outputs": [],
   "source": [
    "y, X = dmatrices('STA ~ AGE + SEX + C(RACE)', icu, return_type = 'dataframe')"
   ]
  },
  {
   "cell_type": "code",
   "execution_count": 32,
   "id": "808fd3e8",
   "metadata": {},
   "outputs": [
    {
     "data": {
      "text/html": [
       "<div>\n",
       "<style scoped>\n",
       "    .dataframe tbody tr th:only-of-type {\n",
       "        vertical-align: middle;\n",
       "    }\n",
       "\n",
       "    .dataframe tbody tr th {\n",
       "        vertical-align: top;\n",
       "    }\n",
       "\n",
       "    .dataframe thead th {\n",
       "        text-align: right;\n",
       "    }\n",
       "</style>\n",
       "<table border=\"1\" class=\"dataframe\">\n",
       "  <thead>\n",
       "    <tr style=\"text-align: right;\">\n",
       "      <th></th>\n",
       "      <th>Intercept</th>\n",
       "      <th>C(RACE)[T.2]</th>\n",
       "      <th>C(RACE)[T.3]</th>\n",
       "      <th>AGE</th>\n",
       "      <th>SEX</th>\n",
       "    </tr>\n",
       "  </thead>\n",
       "  <tbody>\n",
       "    <tr>\n",
       "      <th>0</th>\n",
       "      <td>1.0</td>\n",
       "      <td>0.0</td>\n",
       "      <td>0.0</td>\n",
       "      <td>16.0</td>\n",
       "      <td>0.0</td>\n",
       "    </tr>\n",
       "    <tr>\n",
       "      <th>1</th>\n",
       "      <td>1.0</td>\n",
       "      <td>0.0</td>\n",
       "      <td>0.0</td>\n",
       "      <td>16.0</td>\n",
       "      <td>1.0</td>\n",
       "    </tr>\n",
       "  </tbody>\n",
       "</table>\n",
       "</div>"
      ],
      "text/plain": [
       "   Intercept  C(RACE)[T.2]  C(RACE)[T.3]   AGE  SEX\n",
       "0        1.0           0.0           0.0  16.0  0.0\n",
       "1        1.0           0.0           0.0  16.0  1.0"
      ]
     },
     "execution_count": 32,
     "metadata": {},
     "output_type": "execute_result"
    }
   ],
   "source": [
    "X.head(2)"
   ]
  },
  {
   "cell_type": "code",
   "execution_count": 33,
   "id": "b7859335",
   "metadata": {},
   "outputs": [
    {
     "name": "stdout",
     "output_type": "stream",
     "text": [
      "Optimization terminated successfully.\n",
      "         Current function value: 0.477623\n",
      "         Iterations 7\n"
     ]
    },
    {
     "data": {
      "text/html": [
       "<table class=\"simpletable\">\n",
       "<caption>Logit Regression Results</caption>\n",
       "<tr>\n",
       "  <th>Dep. Variable:</th>          <td>STA</td>       <th>  No. Observations:  </th>  <td>   200</td> \n",
       "</tr>\n",
       "<tr>\n",
       "  <th>Model:</th>                 <td>Logit</td>      <th>  Df Residuals:      </th>  <td>   195</td> \n",
       "</tr>\n",
       "<tr>\n",
       "  <th>Method:</th>                 <td>MLE</td>       <th>  Df Model:          </th>  <td>     4</td> \n",
       "</tr>\n",
       "<tr>\n",
       "  <th>Date:</th>            <td>Fri, 23 Jul 2021</td> <th>  Pseudo R-squ.:     </th>  <td>0.04552</td>\n",
       "</tr>\n",
       "<tr>\n",
       "  <th>Time:</th>                <td>16:24:10</td>     <th>  Log-Likelihood:    </th> <td> -95.525</td>\n",
       "</tr>\n",
       "<tr>\n",
       "  <th>converged:</th>             <td>True</td>       <th>  LL-Null:           </th> <td> -100.08</td>\n",
       "</tr>\n",
       "<tr>\n",
       "  <th>Covariance Type:</th>     <td>nonrobust</td>    <th>  LLR p-value:       </th>  <td>0.05837</td>\n",
       "</tr>\n",
       "</table>\n",
       "<table class=\"simpletable\">\n",
       "<tr>\n",
       "        <td></td>          <th>coef</th>     <th>std err</th>      <th>z</th>      <th>P>|z|</th>  <th>[0.025</th>    <th>0.975]</th>  \n",
       "</tr>\n",
       "<tr>\n",
       "  <th>Intercept</th>    <td>   -2.9216</td> <td>    0.715</td> <td>   -4.087</td> <td> 0.000</td> <td>   -4.323</td> <td>   -1.521</td>\n",
       "</tr>\n",
       "<tr>\n",
       "  <th>C(RACE)[T.2]</th> <td>   -1.0054</td> <td>    1.065</td> <td>   -0.944</td> <td> 0.345</td> <td>   -3.093</td> <td>    1.082</td>\n",
       "</tr>\n",
       "<tr>\n",
       "  <th>C(RACE)[T.3]</th> <td>    0.2154</td> <td>    0.837</td> <td>    0.257</td> <td> 0.797</td> <td>   -1.424</td> <td>    1.855</td>\n",
       "</tr>\n",
       "<tr>\n",
       "  <th>AGE</th>          <td>    0.0260</td> <td>    0.011</td> <td>    2.428</td> <td> 0.015</td> <td>    0.005</td> <td>    0.047</td>\n",
       "</tr>\n",
       "<tr>\n",
       "  <th>SEX</th>          <td>   -0.0125</td> <td>    0.372</td> <td>   -0.033</td> <td> 0.973</td> <td>   -0.742</td> <td>    0.717</td>\n",
       "</tr>\n",
       "</table>"
      ],
      "text/plain": [
       "<class 'statsmodels.iolib.summary.Summary'>\n",
       "\"\"\"\n",
       "                           Logit Regression Results                           \n",
       "==============================================================================\n",
       "Dep. Variable:                    STA   No. Observations:                  200\n",
       "Model:                          Logit   Df Residuals:                      195\n",
       "Method:                           MLE   Df Model:                            4\n",
       "Date:                Fri, 23 Jul 2021   Pseudo R-squ.:                 0.04552\n",
       "Time:                        16:24:10   Log-Likelihood:                -95.525\n",
       "converged:                       True   LL-Null:                       -100.08\n",
       "Covariance Type:            nonrobust   LLR p-value:                   0.05837\n",
       "================================================================================\n",
       "                   coef    std err          z      P>|z|      [0.025      0.975]\n",
       "--------------------------------------------------------------------------------\n",
       "Intercept       -2.9216      0.715     -4.087      0.000      -4.323      -1.521\n",
       "C(RACE)[T.2]    -1.0054      1.065     -0.944      0.345      -3.093       1.082\n",
       "C(RACE)[T.3]     0.2154      0.837      0.257      0.797      -1.424       1.855\n",
       "AGE              0.0260      0.011      2.428      0.015       0.005       0.047\n",
       "SEX             -0.0125      0.372     -0.033      0.973      -0.742       0.717\n",
       "================================================================================\n",
       "\"\"\""
      ]
     },
     "execution_count": 33,
     "metadata": {},
     "output_type": "execute_result"
    }
   ],
   "source": [
    "logit = sm.Logit(y, X)\n",
    "res = logit.fit()\n",
    "res.summary()"
   ]
  },
  {
   "cell_type": "markdown",
   "id": "6649815b",
   "metadata": {},
   "source": [
    "# Machine Learning Approach - _scikit-learn_"
   ]
  },
  {
   "cell_type": "markdown",
   "id": "0f3fe064",
   "metadata": {},
   "source": [
    "The _scikit-learn_ library includes a large number of supervised and unsupervised learning models along with other useful utilities for machine learning. See the user guide [here](https://scikit-learn.org/stable/supervised_learning.html).\n",
    "\n",
    "For this notebook, we'll use a **random forest**, an ensemble model built from decision trees.\n",
    "\n",
    "Our goal is to achieve a model which is useful for making predictions on future data. Hence, we will include all of the variables and let the algorithm determine which have predictive power.\n",
    "\n",
    "This is a very flexible model and consequently will perform well on the data that it is trained on. To get a fair assessment of how well our model makes predictions, we'll set aside some our our data as a **test set**."
   ]
  },
  {
   "cell_type": "code",
   "execution_count": 34,
   "id": "4b35bb59",
   "metadata": {},
   "outputs": [],
   "source": [
    "from sklearn.ensemble import RandomForestClassifier\n",
    "from sklearn.model_selection import train_test_split"
   ]
  },
  {
   "cell_type": "code",
   "execution_count": 35,
   "id": "4eb16e6a",
   "metadata": {},
   "outputs": [],
   "source": [
    "X = icu.drop(columns = ['ID', 'STA'])             # Use all variables as predictors except for the ID and the target\n",
    "y = icu['STA']                                    # Target variable"
   ]
  },
  {
   "cell_type": "markdown",
   "id": "ede50af0",
   "metadata": {},
   "source": [
    "We need to encode the categorical variables, and we'll do so using the `get_dummies` function from `pandas`."
   ]
  },
  {
   "cell_type": "code",
   "execution_count": 36,
   "id": "7fa661ce",
   "metadata": {},
   "outputs": [],
   "source": [
    "categorical_variables = ['RACE', 'LOC']\n",
    "X = pd.get_dummies(X, columns = categorical_variables)"
   ]
  },
  {
   "cell_type": "code",
   "execution_count": 37,
   "id": "c6a92068",
   "metadata": {},
   "outputs": [
    {
     "data": {
      "text/html": [
       "<div>\n",
       "<style scoped>\n",
       "    .dataframe tbody tr th:only-of-type {\n",
       "        vertical-align: middle;\n",
       "    }\n",
       "\n",
       "    .dataframe tbody tr th {\n",
       "        vertical-align: top;\n",
       "    }\n",
       "\n",
       "    .dataframe thead th {\n",
       "        text-align: right;\n",
       "    }\n",
       "</style>\n",
       "<table border=\"1\" class=\"dataframe\">\n",
       "  <thead>\n",
       "    <tr style=\"text-align: right;\">\n",
       "      <th></th>\n",
       "      <th>AGE</th>\n",
       "      <th>SEX</th>\n",
       "      <th>SER</th>\n",
       "      <th>CAN</th>\n",
       "      <th>CRN</th>\n",
       "      <th>INF</th>\n",
       "      <th>CPR</th>\n",
       "      <th>SYS</th>\n",
       "      <th>HRA</th>\n",
       "      <th>PRE</th>\n",
       "      <th>...</th>\n",
       "      <th>PH</th>\n",
       "      <th>PCO</th>\n",
       "      <th>BIC</th>\n",
       "      <th>CRE</th>\n",
       "      <th>RACE_1</th>\n",
       "      <th>RACE_2</th>\n",
       "      <th>RACE_3</th>\n",
       "      <th>LOC_0</th>\n",
       "      <th>LOC_1</th>\n",
       "      <th>LOC_2</th>\n",
       "    </tr>\n",
       "  </thead>\n",
       "  <tbody>\n",
       "    <tr>\n",
       "      <th>0</th>\n",
       "      <td>16</td>\n",
       "      <td>0</td>\n",
       "      <td>1</td>\n",
       "      <td>0</td>\n",
       "      <td>0</td>\n",
       "      <td>0</td>\n",
       "      <td>0</td>\n",
       "      <td>100</td>\n",
       "      <td>140</td>\n",
       "      <td>0</td>\n",
       "      <td>...</td>\n",
       "      <td>0</td>\n",
       "      <td>0</td>\n",
       "      <td>0</td>\n",
       "      <td>0</td>\n",
       "      <td>1</td>\n",
       "      <td>0</td>\n",
       "      <td>0</td>\n",
       "      <td>1</td>\n",
       "      <td>0</td>\n",
       "      <td>0</td>\n",
       "    </tr>\n",
       "    <tr>\n",
       "      <th>1</th>\n",
       "      <td>16</td>\n",
       "      <td>1</td>\n",
       "      <td>0</td>\n",
       "      <td>0</td>\n",
       "      <td>0</td>\n",
       "      <td>0</td>\n",
       "      <td>0</td>\n",
       "      <td>104</td>\n",
       "      <td>111</td>\n",
       "      <td>0</td>\n",
       "      <td>...</td>\n",
       "      <td>0</td>\n",
       "      <td>0</td>\n",
       "      <td>0</td>\n",
       "      <td>0</td>\n",
       "      <td>1</td>\n",
       "      <td>0</td>\n",
       "      <td>0</td>\n",
       "      <td>1</td>\n",
       "      <td>0</td>\n",
       "      <td>0</td>\n",
       "    </tr>\n",
       "  </tbody>\n",
       "</table>\n",
       "<p>2 rows × 23 columns</p>\n",
       "</div>"
      ],
      "text/plain": [
       "   AGE  SEX  SER  CAN  CRN  INF  CPR  SYS  HRA  PRE  ...  PH  PCO  BIC  CRE  \\\n",
       "0   16    0    1    0    0    0    0  100  140    0  ...   0    0    0    0   \n",
       "1   16    1    0    0    0    0    0  104  111    0  ...   0    0    0    0   \n",
       "\n",
       "   RACE_1  RACE_2  RACE_3  LOC_0  LOC_1  LOC_2  \n",
       "0       1       0       0      1      0      0  \n",
       "1       1       0       0      1      0      0  \n",
       "\n",
       "[2 rows x 23 columns]"
      ]
     },
     "execution_count": 37,
     "metadata": {},
     "output_type": "execute_result"
    }
   ],
   "source": [
    "X.head(2)"
   ]
  },
  {
   "cell_type": "markdown",
   "id": "b8f80248",
   "metadata": {},
   "source": [
    "Split the data into a training set and a test set."
   ]
  },
  {
   "cell_type": "code",
   "execution_count": 38,
   "id": "a184a59e",
   "metadata": {},
   "outputs": [],
   "source": [
    "X_train, X_test, y_train, y_test = train_test_split(X, y,\n",
    "                                                    stratify = y,     # Keep the same proportions of the target in the training and test data\n",
    "                                                    test_size = 0.25,\n",
    "                                                    random_state = 321)"
   ]
  },
  {
   "cell_type": "code",
   "execution_count": 39,
   "id": "0093902b",
   "metadata": {},
   "outputs": [
    {
     "data": {
      "text/plain": [
       "RandomForestClassifier(random_state=321)"
      ]
     },
     "execution_count": 39,
     "metadata": {},
     "output_type": "execute_result"
    }
   ],
   "source": [
    "clf = RandomForestClassifier(random_state = 321)\n",
    "clf.fit(X_train, y_train)"
   ]
  },
  {
   "cell_type": "markdown",
   "id": "e4d06b64",
   "metadata": {},
   "source": [
    "Now, we can see how well it performs on our test set."
   ]
  },
  {
   "cell_type": "code",
   "execution_count": 40,
   "id": "d237dd79",
   "metadata": {},
   "outputs": [],
   "source": [
    "from sklearn.metrics import accuracy_score, classification_report, confusion_matrix, roc_auc_score"
   ]
  },
  {
   "cell_type": "markdown",
   "id": "4d60f512",
   "metadata": {},
   "source": [
    "First, generate predictions."
   ]
  },
  {
   "cell_type": "code",
   "execution_count": 41,
   "id": "e16a9ec7",
   "metadata": {},
   "outputs": [],
   "source": [
    "y_pred = clf.predict(X_test)"
   ]
  },
  {
   "cell_type": "code",
   "execution_count": 42,
   "id": "95a30c47",
   "metadata": {},
   "outputs": [
    {
     "data": {
      "text/plain": [
       "0.88"
      ]
     },
     "execution_count": 42,
     "metadata": {},
     "output_type": "execute_result"
    }
   ],
   "source": [
    "accuracy_score(y_test, y_pred)"
   ]
  },
  {
   "cell_type": "code",
   "execution_count": 43,
   "id": "9e36b629",
   "metadata": {},
   "outputs": [
    {
     "data": {
      "text/plain": [
       "array([[39,  1],\n",
       "       [ 5,  5]])"
      ]
     },
     "execution_count": 43,
     "metadata": {},
     "output_type": "execute_result"
    }
   ],
   "source": [
    "confusion_matrix(y_test, y_pred)"
   ]
  },
  {
   "cell_type": "code",
   "execution_count": 44,
   "id": "5cb7cd36",
   "metadata": {},
   "outputs": [
    {
     "name": "stdout",
     "output_type": "stream",
     "text": [
      "              precision    recall  f1-score   support\n",
      "\n",
      "           0       0.89      0.97      0.93        40\n",
      "           1       0.83      0.50      0.62        10\n",
      "\n",
      "    accuracy                           0.88        50\n",
      "   macro avg       0.86      0.74      0.78        50\n",
      "weighted avg       0.88      0.88      0.87        50\n",
      "\n"
     ]
    }
   ],
   "source": [
    "print(classification_report(y_test, y_pred))"
   ]
  },
  {
   "cell_type": "markdown",
   "id": "43a0b251",
   "metadata": {},
   "source": [
    "We can also look at the predicted probabilities."
   ]
  },
  {
   "cell_type": "code",
   "execution_count": 45,
   "id": "b36bce85",
   "metadata": {},
   "outputs": [],
   "source": [
    "y_proba = clf.predict_proba(X_test)[:,1]"
   ]
  },
  {
   "cell_type": "code",
   "execution_count": 46,
   "id": "f83c47fd",
   "metadata": {},
   "outputs": [
    {
     "data": {
      "text/plain": [
       "0.85125"
      ]
     },
     "execution_count": 46,
     "metadata": {},
     "output_type": "execute_result"
    }
   ],
   "source": [
    "roc_auc_score(y_test, y_proba)"
   ]
  },
  {
   "cell_type": "markdown",
   "id": "7915985f",
   "metadata": {},
   "source": [
    "One nice feature of a random forest model is that it will tell you which variables it relies most on to make predictions.\n",
    "\n",
    "**Warning:** A high importance value indicates that the model is relying on a particular variable to make predictions but doesn't reveal _how_ it is using that variable. "
   ]
  },
  {
   "cell_type": "code",
   "execution_count": 48,
   "id": "c2590ed3",
   "metadata": {},
   "outputs": [
    {
     "data": {
      "text/html": [
       "<div>\n",
       "<style scoped>\n",
       "    .dataframe tbody tr th:only-of-type {\n",
       "        vertical-align: middle;\n",
       "    }\n",
       "\n",
       "    .dataframe tbody tr th {\n",
       "        vertical-align: top;\n",
       "    }\n",
       "\n",
       "    .dataframe thead th {\n",
       "        text-align: right;\n",
       "    }\n",
       "</style>\n",
       "<table border=\"1\" class=\"dataframe\">\n",
       "  <thead>\n",
       "    <tr style=\"text-align: right;\">\n",
       "      <th></th>\n",
       "      <th>variable</th>\n",
       "      <th>importance</th>\n",
       "    </tr>\n",
       "  </thead>\n",
       "  <tbody>\n",
       "    <tr>\n",
       "      <th>0</th>\n",
       "      <td>AGE</td>\n",
       "      <td>0.175077</td>\n",
       "    </tr>\n",
       "    <tr>\n",
       "      <th>7</th>\n",
       "      <td>SYS</td>\n",
       "      <td>0.173841</td>\n",
       "    </tr>\n",
       "    <tr>\n",
       "      <th>8</th>\n",
       "      <td>HRA</td>\n",
       "      <td>0.141376</td>\n",
       "    </tr>\n",
       "    <tr>\n",
       "      <th>20</th>\n",
       "      <td>LOC_0</td>\n",
       "      <td>0.098737</td>\n",
       "    </tr>\n",
       "    <tr>\n",
       "      <th>21</th>\n",
       "      <td>LOC_1</td>\n",
       "      <td>0.043381</td>\n",
       "    </tr>\n",
       "    <tr>\n",
       "      <th>22</th>\n",
       "      <td>LOC_2</td>\n",
       "      <td>0.042483</td>\n",
       "    </tr>\n",
       "    <tr>\n",
       "      <th>4</th>\n",
       "      <td>CRN</td>\n",
       "      <td>0.035584</td>\n",
       "    </tr>\n",
       "    <tr>\n",
       "      <th>1</th>\n",
       "      <td>SEX</td>\n",
       "      <td>0.033736</td>\n",
       "    </tr>\n",
       "    <tr>\n",
       "      <th>6</th>\n",
       "      <td>CPR</td>\n",
       "      <td>0.029379</td>\n",
       "    </tr>\n",
       "    <tr>\n",
       "      <th>2</th>\n",
       "      <td>SER</td>\n",
       "      <td>0.028714</td>\n",
       "    </tr>\n",
       "    <tr>\n",
       "      <th>3</th>\n",
       "      <td>CAN</td>\n",
       "      <td>0.027491</td>\n",
       "    </tr>\n",
       "    <tr>\n",
       "      <th>5</th>\n",
       "      <td>INF</td>\n",
       "      <td>0.024170</td>\n",
       "    </tr>\n",
       "    <tr>\n",
       "      <th>10</th>\n",
       "      <td>TYP</td>\n",
       "      <td>0.022585</td>\n",
       "    </tr>\n",
       "    <tr>\n",
       "      <th>15</th>\n",
       "      <td>BIC</td>\n",
       "      <td>0.021139</td>\n",
       "    </tr>\n",
       "    <tr>\n",
       "      <th>12</th>\n",
       "      <td>PO2</td>\n",
       "      <td>0.020441</td>\n",
       "    </tr>\n",
       "    <tr>\n",
       "      <th>9</th>\n",
       "      <td>PRE</td>\n",
       "      <td>0.018852</td>\n",
       "    </tr>\n",
       "    <tr>\n",
       "      <th>14</th>\n",
       "      <td>PCO</td>\n",
       "      <td>0.015461</td>\n",
       "    </tr>\n",
       "    <tr>\n",
       "      <th>13</th>\n",
       "      <td>PH</td>\n",
       "      <td>0.015428</td>\n",
       "    </tr>\n",
       "    <tr>\n",
       "      <th>16</th>\n",
       "      <td>CRE</td>\n",
       "      <td>0.010132</td>\n",
       "    </tr>\n",
       "    <tr>\n",
       "      <th>11</th>\n",
       "      <td>FRA</td>\n",
       "      <td>0.008456</td>\n",
       "    </tr>\n",
       "    <tr>\n",
       "      <th>17</th>\n",
       "      <td>RACE_1</td>\n",
       "      <td>0.006618</td>\n",
       "    </tr>\n",
       "    <tr>\n",
       "      <th>18</th>\n",
       "      <td>RACE_2</td>\n",
       "      <td>0.005044</td>\n",
       "    </tr>\n",
       "    <tr>\n",
       "      <th>19</th>\n",
       "      <td>RACE_3</td>\n",
       "      <td>0.001876</td>\n",
       "    </tr>\n",
       "  </tbody>\n",
       "</table>\n",
       "</div>"
      ],
      "text/plain": [
       "   variable  importance\n",
       "0       AGE    0.175077\n",
       "7       SYS    0.173841\n",
       "8       HRA    0.141376\n",
       "20    LOC_0    0.098737\n",
       "21    LOC_1    0.043381\n",
       "22    LOC_2    0.042483\n",
       "4       CRN    0.035584\n",
       "1       SEX    0.033736\n",
       "6       CPR    0.029379\n",
       "2       SER    0.028714\n",
       "3       CAN    0.027491\n",
       "5       INF    0.024170\n",
       "10      TYP    0.022585\n",
       "15      BIC    0.021139\n",
       "12      PO2    0.020441\n",
       "9       PRE    0.018852\n",
       "14      PCO    0.015461\n",
       "13       PH    0.015428\n",
       "16      CRE    0.010132\n",
       "11      FRA    0.008456\n",
       "17   RACE_1    0.006618\n",
       "18   RACE_2    0.005044\n",
       "19   RACE_3    0.001876"
      ]
     },
     "execution_count": 48,
     "metadata": {},
     "output_type": "execute_result"
    }
   ],
   "source": [
    "importances = pd.DataFrame({'variable': X.columns, 'importance': clf.feature_importances_})\n",
    "importances.sort_values('importance', ascending = False)"
   ]
  }
 ],
 "metadata": {
  "kernelspec": {
   "display_name": "Python 3",
   "language": "python",
   "name": "python3"
  },
  "language_info": {
   "codemirror_mode": {
    "name": "ipython",
    "version": 3
   },
   "file_extension": ".py",
   "mimetype": "text/x-python",
   "name": "python",
   "nbconvert_exporter": "python",
   "pygments_lexer": "ipython3",
   "version": "3.8.3"
  }
 },
 "nbformat": 4,
 "nbformat_minor": 5
}
