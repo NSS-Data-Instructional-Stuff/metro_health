{
 "cells": [
  {
   "cell_type": "markdown",
   "id": "7cf81d2b",
   "metadata": {},
   "source": [
    "In this notebook, we'll see the basics of building a machine learning model using _scikit-learn_.\n",
    "\n",
    "We'll be working with a data set consisting of a sample of 200 subjects who were part of a study on survival of patients following admission to an adult intensive care unit. The goal of the study was to develop a logistic regression model to predict the probability of survival to hospital discharge of these patients."
   ]
  },
  {
   "cell_type": "code",
   "execution_count": null,
   "id": "ed7d259c",
   "metadata": {},
   "outputs": [],
   "source": [
    "import pandas as pd"
   ]
  },
  {
   "cell_type": "code",
   "execution_count": null,
   "id": "97c39c76",
   "metadata": {},
   "outputs": [],
   "source": [
    "icu = pd.read_csv('../data/icu.csv')"
   ]
  },
  {
   "cell_type": "code",
   "execution_count": null,
   "id": "f6bd5f07",
   "metadata": {},
   "outputs": [],
   "source": [
    "icu.head(2)"
   ]
  },
  {
   "cell_type": "markdown",
   "id": "58b26ff9",
   "metadata": {},
   "source": [
    "The variables are as follows:\n",
    "\n",
    "|Variable | Description | Codes/Values|\n",
    "|---|---|---|\n",
    "| ID | Identification Code | ID Number|\n",
    "| STA | Vital Status | 0 = Lived<br /> 1 = Died |\n",
    "| AGE | Age | Years |\n",
    "| SEX | Sex | 0 = Male<br /> 1 = Female | \n",
    "| RACE | Race | 1 = White<br />2 = Black<br />3 = Other |\n",
    "| SER | Service at ICU Admission | 0 = Medical<br />1 = Surgical |\n",
    "| CAN | Cancer Part of Present Problem | 0 = No<br />1 = Yes |\n",
    "| CRN | History of Chronic Renal Failure | 0 = No<br />1 = Yes |\n",
    "| INF | Infection Probable at ICU Admission | 0 = No<br />1 = Yes |\n",
    "| CPR | CPR Prior to ICU Admission | 0 = No<br />1 = Yes |\n",
    "| SYS | Systolic Blood Pressure at ICU Admission | mm Hg |\n",
    "| HRA | Heart Rate at ICU Admission | Beats/min |\n",
    "| PRE | Previous Admission to an ICU Within 6 Months | 0 = No<br />1 = Yes |\n",
    "| TYP | Type of Admission | 0 = Elective<br />1 = Emergency |\n",
    "| FRA | Long Bone, Multiple, Neck, Single Area, or Hip Fracture | 0 = No<br />1 = Yes |\n",
    "| PO2 | PO2 from Initial Blood Gases | 0: $>$60<br />1: $\\leq$ 60 |\n",
    "| PH | PH from Initial Blood Gases | 0: $\\geq$ 7.25<br />1: $<$7.25 |\n",
    "| PCO | PCO2 from Initial Blood Gases | 0: $\\leq$ 45<br />1: $>$45 |\n",
    "| BIC | Bicarbonate from Initial Blood Gases | 0: $\\geq$ 18<br />1: $<$ 18 |\n",
    "| CRE | Creatinine from Initial Blood Gases | 0: $\\leq$2.0<br />1: $>$2.0 |\n",
    "| LOC | Level of Consciousness at ICU Admission | 0 = No Coma or Deep Stupor<br />1 = Deep Stupor<br />2 = Coma |"
   ]
  },
  {
   "cell_type": "markdown",
   "id": "6649815b",
   "metadata": {},
   "source": [
    "# Machine Learning Approach - _scikit-learn_"
   ]
  },
  {
   "cell_type": "markdown",
   "id": "0f3fe064",
   "metadata": {},
   "source": [
    "The _scikit-learn_ library includes a large number of supervised and unsupervised learning models along with other useful utilities for machine learning. See the user guide [here](https://scikit-learn.org/stable/supervised_learning.html).\n",
    "\n",
    "For this notebook, we'll use a **random forest**, an ensemble model built from decision trees.\n",
    "\n",
    "Our goal is to achieve a model which is useful for making predictions on future data. Hence, we will include all of the variables and let the algorithm determine which have predictive power.\n",
    "\n",
    "This is a very flexible model and consequently will perform well on the data that it is trained on. To get a fair assessment of how well our model makes predictions, we'll set aside some our our data as a **test set**."
   ]
  },
  {
   "cell_type": "code",
   "execution_count": null,
   "id": "4b35bb59",
   "metadata": {},
   "outputs": [],
   "source": [
    "from sklearn.ensemble import RandomForestClassifier\n",
    "from sklearn.model_selection import train_test_split"
   ]
  },
  {
   "cell_type": "code",
   "execution_count": null,
   "id": "4eb16e6a",
   "metadata": {},
   "outputs": [],
   "source": [
    "X = icu.drop(columns = ['ID', 'STA'])             # Use all variables as predictors except for the ID and the target\n",
    "y = icu['STA']                                    # Target variable"
   ]
  },
  {
   "cell_type": "markdown",
   "id": "ede50af0",
   "metadata": {},
   "source": [
    "We need to encode the categorical variables, and we'll do so using the `get_dummies` function from `pandas`."
   ]
  },
  {
   "cell_type": "code",
   "execution_count": null,
   "id": "7fa661ce",
   "metadata": {},
   "outputs": [],
   "source": [
    "categorical_variables = ['RACE', 'LOC']\n",
    "X = pd.get_dummies(X, columns = categorical_variables)"
   ]
  },
  {
   "cell_type": "code",
   "execution_count": null,
   "id": "c6a92068",
   "metadata": {},
   "outputs": [],
   "source": [
    "X.head(2)"
   ]
  },
  {
   "cell_type": "markdown",
   "id": "b8f80248",
   "metadata": {},
   "source": [
    "Split the data into a training set and a test set."
   ]
  },
  {
   "cell_type": "code",
   "execution_count": null,
   "id": "a184a59e",
   "metadata": {},
   "outputs": [],
   "source": [
    "X_train, X_test, y_train, y_test = train_test_split(X, y,\n",
    "                                                    stratify = y,     # Keep the same proportions of the target in the training and test data\n",
    "                                                    test_size = 0.25,\n",
    "                                                    random_state = 321)"
   ]
  },
  {
   "cell_type": "code",
   "execution_count": null,
   "id": "0093902b",
   "metadata": {},
   "outputs": [],
   "source": [
    "clf = RandomForestClassifier(random_state = 321)\n",
    "clf.fit(X_train, y_train)"
   ]
  },
  {
   "cell_type": "markdown",
   "id": "e4d06b64",
   "metadata": {},
   "source": [
    "Now, we can see how well it performs on our test set."
   ]
  },
  {
   "cell_type": "code",
   "execution_count": null,
   "id": "d237dd79",
   "metadata": {},
   "outputs": [],
   "source": [
    "from sklearn.metrics import accuracy_score, classification_report, confusion_matrix, roc_auc_score"
   ]
  },
  {
   "cell_type": "markdown",
   "id": "4d60f512",
   "metadata": {},
   "source": [
    "First, generate predictions."
   ]
  },
  {
   "cell_type": "code",
   "execution_count": null,
   "id": "e16a9ec7",
   "metadata": {},
   "outputs": [],
   "source": [
    "y_pred = clf.predict(X_test)"
   ]
  },
  {
   "cell_type": "code",
   "execution_count": null,
   "id": "95a30c47",
   "metadata": {},
   "outputs": [],
   "source": [
    "accuracy_score(y_test, y_pred)"
   ]
  },
  {
   "cell_type": "code",
   "execution_count": null,
   "id": "9e36b629",
   "metadata": {},
   "outputs": [],
   "source": [
    "confusion_matrix(y_test, y_pred)"
   ]
  },
  {
   "cell_type": "code",
   "execution_count": null,
   "id": "5cb7cd36",
   "metadata": {},
   "outputs": [],
   "source": [
    "print(classification_report(y_test, y_pred))"
   ]
  },
  {
   "cell_type": "markdown",
   "id": "43a0b251",
   "metadata": {},
   "source": [
    "We can also look at the predicted probabilities."
   ]
  },
  {
   "cell_type": "code",
   "execution_count": null,
   "id": "b36bce85",
   "metadata": {},
   "outputs": [],
   "source": [
    "y_proba = clf.predict_proba(X_test)[:,1]"
   ]
  },
  {
   "cell_type": "code",
   "execution_count": null,
   "id": "707677d3",
   "metadata": {},
   "outputs": [],
   "source": [
    "y_proba"
   ]
  },
  {
   "cell_type": "code",
   "execution_count": null,
   "id": "f83c47fd",
   "metadata": {},
   "outputs": [],
   "source": [
    "roc_auc_score(y_test, y_proba)"
   ]
  },
  {
   "cell_type": "markdown",
   "id": "7915985f",
   "metadata": {},
   "source": [
    "One nice feature of a random forest model is that it will tell you which variables it relies most on to make predictions.\n",
    "\n",
    "**Warning:** A high importance value indicates that the model is relying on a particular variable to make predictions but doesn't reveal _how_ it is using that variable. "
   ]
  },
  {
   "cell_type": "code",
   "execution_count": null,
   "id": "c2590ed3",
   "metadata": {},
   "outputs": [],
   "source": [
    "importances = pd.DataFrame({'variable': X.columns, 'importance': clf.feature_importances_})\n",
    "importances.sort_values('importance', ascending = False)"
   ]
  },
  {
   "cell_type": "markdown",
   "id": "968081ba",
   "metadata": {},
   "source": [
    "# Appendix - Statistical Analysis using _statsmodels_\n",
    "\n",
    "A useful library for conducting statistical tests is the _statsmodels_ library.\n",
    "\n",
    "Let's say we want to test the null hypothesis that there is no difference in average age between those that die compared to those that do not die against the alternative hypothesis that there is a difference. \n",
    "\n",
    "For this, we can use a t-test."
   ]
  },
  {
   "cell_type": "code",
   "execution_count": null,
   "id": "3256f9d8",
   "metadata": {},
   "outputs": [],
   "source": [
    "from statsmodels.stats.weightstats import ttest_ind"
   ]
  },
  {
   "cell_type": "code",
   "execution_count": null,
   "id": "0eebc3fc",
   "metadata": {},
   "outputs": [],
   "source": [
    "ttest_ind(x1 = icu[icu['STA'] == 0]['AGE'],               # observations that do not die\n",
    "          x2 = icu[icu['STA'] == 1]['AGE'],               # observations that die\n",
    "          alternative = 'two-sided',                      # can perform a one-sided test by using 'larger' or 'smaller'\n",
    "          usevar = 'unequal')                             # We'll Welch's t-test"
   ]
  },
  {
   "cell_type": "markdown",
   "id": "3afe63e0",
   "metadata": {},
   "source": [
    "This function returns the test statistic, the p-value, and the degrees of freedom.\n",
    "\n",
    "In this case, at the 0.05 significance level, we can reject the null hypothesis."
   ]
  },
  {
   "cell_type": "markdown",
   "id": "0a99b758",
   "metadata": {},
   "source": [
    "# Statistical Modeling Approach - _statsmodels_\n",
    "\n",
    "If we want to build a logistic regression model, we can make use statsmodels along with the patsy library to build a design matrix."
   ]
  },
  {
   "cell_type": "code",
   "execution_count": null,
   "id": "6ac4c595",
   "metadata": {},
   "outputs": [],
   "source": [
    "from patsy import dmatrices\n",
    "import statsmodels.api as sm"
   ]
  },
  {
   "cell_type": "code",
   "execution_count": null,
   "id": "27c08d8b",
   "metadata": {},
   "outputs": [],
   "source": [
    "y, X = dmatrices('STA ~ AGE',                       # Target variable ~ Predictor variable(s)\n",
    "                 icu,                               # Dataset\n",
    "                 return_type = 'dataframe')"
   ]
  },
  {
   "cell_type": "code",
   "execution_count": null,
   "id": "8ba38269",
   "metadata": {},
   "outputs": [],
   "source": [
    "X.head(2)"
   ]
  },
  {
   "cell_type": "markdown",
   "id": "3f7adbb2",
   "metadata": {},
   "source": [
    "Now, we'll use the Logit class from statsmodels to build our model."
   ]
  },
  {
   "cell_type": "code",
   "execution_count": null,
   "id": "06d6621d",
   "metadata": {},
   "outputs": [],
   "source": [
    "logit = sm.Logit(y, X)"
   ]
  },
  {
   "cell_type": "markdown",
   "id": "4ba0ab3a",
   "metadata": {},
   "source": [
    "Fit the model and save the result."
   ]
  },
  {
   "cell_type": "code",
   "execution_count": null,
   "id": "19253dcd",
   "metadata": {},
   "outputs": [],
   "source": [
    "res = logit.fit()"
   ]
  },
  {
   "cell_type": "markdown",
   "id": "615867dc",
   "metadata": {},
   "source": [
    "We can see the parameters using the `params` attribute."
   ]
  },
  {
   "cell_type": "code",
   "execution_count": null,
   "id": "308f185a",
   "metadata": {},
   "outputs": [],
   "source": [
    "res.params"
   ]
  },
  {
   "cell_type": "markdown",
   "id": "f6b24001",
   "metadata": {},
   "source": [
    "And we can get a statistical summary using the `summary()` method."
   ]
  },
  {
   "cell_type": "code",
   "execution_count": null,
   "id": "e4ff288d",
   "metadata": {},
   "outputs": [],
   "source": [
    "res.summary()"
   ]
  },
  {
   "cell_type": "markdown",
   "id": "b0820549",
   "metadata": {},
   "source": [
    "If we want to include other variables, we can do so by separating them with a `+`.\n",
    "\n",
    "To include categorical variables with more than 2 levels, we can encode them using `C()`."
   ]
  },
  {
   "cell_type": "code",
   "execution_count": null,
   "id": "d7c572b0",
   "metadata": {},
   "outputs": [],
   "source": [
    "y, X = dmatrices('STA ~ AGE + SEX + C(RACE)', icu, return_type = 'dataframe')"
   ]
  },
  {
   "cell_type": "code",
   "execution_count": null,
   "id": "808fd3e8",
   "metadata": {},
   "outputs": [],
   "source": [
    "X.head(2)"
   ]
  },
  {
   "cell_type": "code",
   "execution_count": null,
   "id": "b7859335",
   "metadata": {
    "scrolled": true
   },
   "outputs": [],
   "source": [
    "logit = sm.Logit(y, X)\n",
    "res = logit.fit()\n",
    "res.summary()"
   ]
  }
 ],
 "metadata": {
  "kernelspec": {
   "display_name": "Python 3",
   "language": "python",
   "name": "python3"
  },
  "language_info": {
   "codemirror_mode": {
    "name": "ipython",
    "version": 3
   },
   "file_extension": ".py",
   "mimetype": "text/x-python",
   "name": "python",
   "nbconvert_exporter": "python",
   "pygments_lexer": "ipython3",
   "version": "3.8.3"
  }
 },
 "nbformat": 4,
 "nbformat_minor": 5
}
